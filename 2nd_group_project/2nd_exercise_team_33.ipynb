{
 "cells": [
  {
   "cell_type": "markdown",
   "id": "subsequent-doctor",
   "metadata": {},
   "source": [
    "## Μέρος 2 : Υλοποίηση αλγορίθμου"
   ]
  },
  {
   "cell_type": "code",
   "execution_count": 3,
   "id": "alternative-inventory",
   "metadata": {},
   "outputs": [],
   "source": [
    "import cv2\n",
    "import numpy as np"
   ]
  },
  {
   "cell_type": "markdown",
   "id": "round-official",
   "metadata": {},
   "source": [
    "**Ερώτημα 1:**"
   ]
  },
  {
   "cell_type": "code",
   "execution_count": 3,
   "id": "european-chorus",
   "metadata": {},
   "outputs": [],
   "source": [
    "# Create a VideoCapture object and read from input file\n",
    "cap = cv2.VideoCapture(\"VIRAT_S_000201_04_000682_000822.mp4\")\n",
    "height = cap.get(cv2.CAP_PROP_FRAME_HEIGHT)\n",
    "width = cap.get(cv2.CAP_PROP_FRAME_WIDTH)\n",
    "\n",
    "#set new height and width\n",
    "height = int(height//2)\n",
    "width=int(width//2)\n",
    "\n",
    "# Define the codec and create VideoWriter object\n",
    "fourcc = cv2.VideoWriter_fourcc(*'MP4V')\n",
    "out = cv2.VideoWriter('output.mp4',fourcc, 20.0, (width,height))\n",
    "\n",
    "while(cap.isOpened()):\n",
    "    ret, frame = cap.read()\n",
    "    if ret==True:\n",
    "        frame = cv2.resize(frame, (width, height))\n",
    "        # write the resized frame\n",
    "        out.write(frame)\n",
    "\n",
    "#         cv2.imshow('frame',frame)\n",
    "#         if cv2.waitKey(1) & 0xFF == ord('q'):\n",
    "#             break\n",
    "    else:\n",
    "        break\n",
    "\n",
    "# Release everything at the end\n",
    "cap.release()\n",
    "out.release()"
   ]
  },
  {
   "cell_type": "markdown",
   "id": "reasonable-terry",
   "metadata": {},
   "source": [
    "**Ερώτημα 2:**"
   ]
  },
  {
   "cell_type": "code",
   "execution_count": 1,
   "id": "third-investing",
   "metadata": {},
   "outputs": [],
   "source": [
    "import matplotlib.pyplot as plt\n",
    "import numpy as np\n",
    "from skimage import data\n",
    "from skimage.feature import corner_harris, corner_subpix, corner_peaks,corner_shi_tomasi\n",
    "from skimage.transform import warp, AffineTransform\n",
    "from skimage.draw import ellipse"
   ]
  },
  {
   "cell_type": "markdown",
   "id": "recovered-terror",
   "metadata": {},
   "source": [
    "*Ανιχνευτής γωνιών Harris*"
   ]
  },
  {
   "cell_type": "code",
   "execution_count": 4,
   "id": "purple-cooper",
   "metadata": {},
   "outputs": [],
   "source": [
    "#We want the first frame of the new video\n",
    "video = cv2.VideoCapture('output.mp4')\n",
    "ret, first_image = video.read()"
   ]
  },
  {
   "cell_type": "code",
   "execution_count": 5,
   "id": "champion-volunteer",
   "metadata": {},
   "outputs": [],
   "source": [
    "# maxCorners, qualityLevel, minDistance = 50, 0.01, 10\n",
    "# gray = cv2.cvtColor(first_image, cv2.COLOR_BGR2GRAY)\n",
    "# corners = cv2.goodFeaturesToTrack(gray,maxCorners, qualityLevel, minDistance, useHarrisDetector=True)\n",
    "# corners = np.int0(corners)\n",
    "# for i in corners:\n",
    "#     x,y = i.ravel()\n",
    "#     cv2.circle(first_image,(x,y),3,255,-1)\n",
    "# # cv2.imshow('Harris Corner Detector', image)\n",
    "# cv2.imwrite('first_frame_harris_' + str(maxCorners) + '_' + str(qualityLevel) + '_' + str(minDistance)+'.jpg', first_image)"
   ]
  },
  {
   "cell_type": "code",
   "execution_count": 8,
   "id": "viral-antique",
   "metadata": {},
   "outputs": [],
   "source": [
    "# Read in the image\n",
    "image = data.checkerboard()\n",
    "# image=first_image\n",
    "# print(image.shape)\n",
    "# image = cv2.cvtColor(image, cv2.COLOR_BGR2GRAY)\n",
    "#Harris Corner\n",
    "coords = corner_peaks(corner_harris(image), min_distance=1)\n",
    "coords_subpix = corner_subpix(image, coords, window_size=13)\n",
    "\n",
    "# Shi tomasi corner\n",
    "coordshi = corner_peaks(corner_shi_tomasi(image), min_distance=1)\n",
    "coords_subpixshi = corner_subpix(image, coordshi, window_size=13)"
   ]
  },
  {
   "cell_type": "code",
   "execution_count": 10,
   "id": "noticed-syria",
   "metadata": {},
   "outputs": [
    {
     "data": {
      "image/png": "[encoded data removed]",
      "text/plain": [
       "<Figure size 432x288 with 1 Axes>"
      ]
     },
     "metadata": {
      "needs_background": "light"
     },
     "output_type": "display_data"
    }
   ],
   "source": [
    "fig, ax = plt.subplots()\n",
    "ax.imshow(image, cmap=plt.cm.gray)\n",
    "\n",
    "# Harris Corner\n",
    "ax.plot(coords[:, 1], coords[:, 0], color='red', marker='o', linestyle='None', markersize=6)\n",
    "ax.plot(coords_subpix[:, 1], coords_subpix[:, 0], '+r', markersize=15)\n",
    "\n",
    "# Shi tomasi corner\n",
    "ax.plot(coordshi[:, 1], coordshi[:, 0], color='green', marker='o', linestyle='None', markersize=3)\n",
    "ax.plot(coords_subpixshi[:, 1], coords_subpixshi[:, 0], '+b', markersize=5)\n",
    "\n",
    "plt.show()"
   ]
  },
  {
   "cell_type": "markdown",
   "id": "noticed-graphics",
   "metadata": {},
   "source": [
    "**Ερώτημα 3:**"
   ]
  },
  {
   "cell_type": "markdown",
   "id": "norman-editing",
   "metadata": {},
   "source": [
    "a)"
   ]
  },
  {
   "cell_type": "code",
   "execution_count": null,
   "id": "constant-lithuania",
   "metadata": {},
   "outputs": [],
   "source": []
  },
  {
   "cell_type": "markdown",
   "id": "greek-pound",
   "metadata": {},
   "source": [
    "b)"
   ]
  },
  {
   "cell_type": "code",
   "execution_count": null,
   "id": "empty-staff",
   "metadata": {},
   "outputs": [],
   "source": []
  },
  {
   "cell_type": "markdown",
   "id": "lucky-coffee",
   "metadata": {},
   "source": [
    "c)"
   ]
  },
  {
   "cell_type": "code",
   "execution_count": null,
   "id": "completed-amino",
   "metadata": {},
   "outputs": [],
   "source": []
  },
  {
   "cell_type": "markdown",
   "id": "cheap-timber",
   "metadata": {},
   "source": [
    "**Ερώτημα 4:**"
   ]
  },
  {
   "cell_type": "markdown",
   "id": "cordless-softball",
   "metadata": {},
   "source": [
    "a)"
   ]
  },
  {
   "cell_type": "code",
   "execution_count": null,
   "id": "nearby-closure",
   "metadata": {},
   "outputs": [],
   "source": []
  },
  {
   "cell_type": "markdown",
   "id": "matched-examination",
   "metadata": {},
   "source": [
    "b)"
   ]
  },
  {
   "cell_type": "code",
   "execution_count": null,
   "id": "backed-pioneer",
   "metadata": {},
   "outputs": [],
   "source": []
  },
  {
   "cell_type": "markdown",
   "id": "serious-engineer",
   "metadata": {},
   "source": [
    "c)"
   ]
  },
  {
   "cell_type": "code",
   "execution_count": null,
   "id": "tested-detective",
   "metadata": {},
   "outputs": [],
   "source": []
  },
  {
   "cell_type": "markdown",
   "id": "tribal-electron",
   "metadata": {},
   "source": [
    "d)"
   ]
  },
  {
   "cell_type": "code",
   "execution_count": null,
   "id": "quick-specification",
   "metadata": {},
   "outputs": [],
   "source": []
  },
  {
   "cell_type": "markdown",
   "id": "affecting-thong",
   "metadata": {},
   "source": [
    "**Ερώτημα 5:**"
   ]
  },
  {
   "cell_type": "markdown",
   "id": "macro-zoning",
   "metadata": {},
   "source": [
    "a)"
   ]
  },
  {
   "cell_type": "code",
   "execution_count": null,
   "id": "major-disclaimer",
   "metadata": {},
   "outputs": [],
   "source": []
  }
 ],
 "metadata": {
  "kernelspec": {
   "display_name": "Python [conda env:cv_lab1_env] *",
   "language": "python",
   "name": "conda-env-cv_lab1_env-py"
  },
  "language_info": {
   "codemirror_mode": {
    "name": "ipython",
    "version": 3
   },
   "file_extension": ".py",
   "mimetype": "text/x-python",
   "name": "python",
   "nbconvert_exporter": "python",
   "pygments_lexer": "ipython3",
   "version": "3.7.10"
  }
 },
 "nbformat": 4,
 "nbformat_minor": 5
}
