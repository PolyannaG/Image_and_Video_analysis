{
 "cells": [
  {
   "cell_type": "markdown",
   "metadata": {
    "id": "LpnEVMCYYlnD"
   },
   "source": [
    "# 3η ομαδική άσκηση στη Τεχνολογία και Ανάλυση Εικόνων και Βίντεο"
   ]
  },
  {
   "cell_type": "markdown",
   "metadata": {},
   "source": [
    "## Παρακαλούμε ΜΗΝ τρέξετε ξανά το notebook γιατί θα πάρει ώρα να τρέξει ολόκληρο"
   ]
  },
  {
   "cell_type": "markdown",
   "metadata": {},
   "source": [
    "## Ομάδα 33:\n",
    "### * Γκότση Πολυτίμη Αννα (03117201)\n",
    "### * Καπαρού Αλεξάνδρα (03117100)"
   ]
  },
  {
   "cell_type": "markdown",
   "metadata": {
    "id": "cHfreJLLxcCK"
   },
   "source": [
    "# **Θεωρητικό Μέρος**"
   ]
  },
  {
   "cell_type": "markdown",
   "metadata": {
    "id": "X3UBzWZJx1fH"
   },
   "source": [
    "## **1η ερώτηση**\n",
    "\n",
    "---\n",
    "\n",
    "\n",
    "\n",
    "Με βάση τα άρθρα που μας δόθηκαν γίνεται ξεκάθαρη η συμβολή των συνελικτικών πεδίων στον τομέα της επεξεργασίας εικόνας. Αρχικά, τα συνελικτικά δίκτυα μπορούν να χρησιμοποιηθούν σε πραγματικά προβλήματα αναγνώρισης εικόνας, χωρίας να χρειάζεται ένα μεγάλο και σύνθετο στάδιο προεπεξεργασίας των εικονών, όπως γινόταν παλιότερα. Αυτό οφείλεται στο γεγονός ότι τα συνελικτικά δίκτυα μπορούν να εφαρμοστούν σε μία low-level αναπαράσταση δεδομένων με ελάχιστη προεπεξεργασία, σε αντίθεση με την σύνθετη κλασσική εξαγωγή χαρακτηριστικών επειδή, αντίθετα με άλλες, παλιότερες και παραδοσιακές μεθόδους, τα CNNs έχουν την ικανότητα να μαθαίνουν μόνα τους τα διάφορα χαρακτηριστικά των εικονών με βάση τα οποία τις κατηγοριοποιούν. Αυτό, πρώτον, έχει σαν αποτέλεσμα να έχουμε ταχύτερα αποτελέσματα και χρήση λιγότερων υπολογιστικών πόρων και δεύτερον, είναι ιδιαίτερα χρήσιμο για τον εξής λόγο: Τα χαρακτηριστικά που εξάγονται είναι αυτά που μπορεί ένας υπολογιστής να αντιληφθεί και κρίνει ότι είναι πιο κατάλληλα. Τα χαρακτηριστικά αυτά μπορεί πολλές φορές να διαφέρουν από τα χαρακτηριστικά που ένας άνθρωπος θεωρεί με βάση την αντίληψη του σημαντικότερα για μια εικόνα, και τα οποία μπορεί να μην επιτρέπουν σε ένα νευρωνικό δίκτυο να πετύχει την βέλτιστη ακρίβεια παραδείγματος χάρη σε ένα πρόβλημα κατηγοριοποίησης. Η μεγάλη σημασία των CNNs είναι λοιπόν προφανής και πράγματι, με βάση τα δοσμένα papers, βλέπουμε ότι η χρήση των συνελικτικών δικτύων μπορεί να οδηγήσει μέχρι και σε 1% error rate με προσεκτική κατασκευή του μοντέλου, νούμερο το οποίο με τις κλασσικές μεθόδους φάνταζε αδύνατο. "
   ]
  },
  {
   "cell_type": "markdown",
   "metadata": {
    "id": "6NNNZeNiyBXC"
   },
   "source": [
    "## **2η ερώτηση**\n",
    "\n",
    "---\n",
    "\n",
    "Σε αντίθεση με τα γραμμικά νευρωνικά δίκτυα, τα τελευταία χρόνια υπάρχει εκτεταμένη χρήση των μη γραμμικών ταξινομητών στα νευρωνικά δίκτυα (***ReLU***). Αυτό οφείλεται στο γεγονός ότι η χρήστη τους στα βαθιά νευρωνικά δίκτυα οδηγεί σε πολύ μικρότερους χρόνους εκπαίδευσης σε σχέση με τους κλασσικούς τρόπους (δηλαδή την συνάρτηση tanh(x) ) κάτι το οποίο καθιστά δυνατό να μπορούν να γίνουν πειράματα σε μεγάλου μεγέθους νευρωνικά δίκτυα. Η συνάρτηση ReLU ορίζεται ως: \n",
    "\n",
    "              f(x) = max(0,x) \n",
    "\n",
    "και εφαρμόζεται ξεχωριστά σε κάθε pixel του feautures map που παράχθηκε από το στάδιο της συνέλιξης, κατά την μοντελοποίηση του νευρωνικού δικτύου. Στην πραγματικότητα, η λειτουργία της ReLU συνοψίζεται στα παρακάτω: \n",
    "\n",
    "* Αν κάποιο train_set παράγει σαν αποτέλεσμα θετική τιμή τότε θα πραγματοποιηθεί \n",
    "εκπαίδευση στο συγκεκριμένο νευρωνικό. \n",
    "\n",
    "* Αντίθετα, αν παράγει αρνητική τιμή τότε την θέτει ίση με μηδέν και αγνοεί το συγκεκριμένο νευρωνικό. \n",
    "\n",
    "Η ReLU χρησιμοποιείται πλέον όλο και περισσότερο στα κρυφά επίπεδα των βαθιών συνελικτικών νευρωνικών δικτύων, μιας και επιτυγχάνουν καλύτερη εκπαίδευση. Συγκεκριμένα, αυξάνει τις μη γραμμικές ιδιότητες της συνάρτησης ενεργοποίησης και του συνολικού δικτύου χωρίς να επηρεάζει τα δεκτικά πεδία του συνελικτικού επιπέδου. Ακόμα, είναι υπολογιστικά πολύ αποδοτική αφού έχει την ιδιότητα να μην χρειάζεται κανονικοποίηση στα δεδομένα εισόδου για να τα αποτρέψει από saturating και υλοποιείται αρκετά εύκολα (γνωστή συνάρτηση ράμπας) \n",
    "\n"
   ]
  },
  {
   "cell_type": "markdown",
   "metadata": {
    "id": "wcBcVgyIy6fq"
   },
   "source": [
    "## **3η ερώτηση**\n",
    "\n",
    "---\n",
    "\n",
    "Τα τρία νευρωνικά δίκτυα που μας δόθηκαν προς μελέτη ήταν τα **LeNet**, **AlexNet** και **VGG**. Τα χαρακτηριστικά τους συνοψίζονται στον παρακάτω πίνακα:\n"
   ]
  },
  {
   "cell_type": "markdown",
   "metadata": {
    "id": "3cvYXAy-_H8Z"
   },
   "source": [
    "|                         \t| LeNet        \t| AlexNet \t| VGG \t|\n",
    "|-------------------------\t|-------------\t|---------\t|-----\t|\n",
    "| Επίπεδα                 \t|   2 convolutional, 2 pooling, 3 fully-connected        \t|     5 convolutional, 3 pooling, 3 fully-connected    \t|   sequence of convolutional layers, followed by a maximum pooling layer and 3 fully-connected layers  \t|\n",
    "| Μέγεθος φίλτρων         \t|   5×5 kernel on all levels     \t|   11×11 on 1st level, 5×5 on 2nd level, 3×3 on 3rd,4th,5th level     \t|   3×3 on all levels  \t|  -\n",
    "| Συνάρτηση ενεργοποίησης \t| sigmoid     \t|  ReLU       \t|    ReLU \t|\n",
    "| Πλήθος παραμέτρων       \t|   60,850           \t|     60,954,656    \t|  variant   \t|\n",
    "| Τεχνικές Pooling        \t| 2×2 average pooling, stride 2 \t|  3×3 maximum pooling, stride 2       \t|   2×2 maximum pooling, stride 2  \t|\n",
    "| Τεχνικές Dropout        \t|       no dropout method       \t|    dropout with rate 0.5     \t|   dropout with rate 0.5  \t|"
   ]
  },
  {
   "cell_type": "markdown",
   "metadata": {
    "id": "nhITIRgiHjXt"
   },
   "source": [
    "**Διαφορές:**\n",
    "Παρατηρώντας προσεκτικά τον παραπάνω πίνακα γίνονται εμφανείς οι διαφορές των τριών αυτών νευρωνικών.\n",
    "* Αρχικά παρατηρούμε την διαφορά στα επίπεδα φίλτρων, συγκεκριμένα στα convolutional και pooling layers, μιας και τα τρία νευρωνικά έχουν τον ίδιο αριθμό fully-connected layers.\n",
    "* Αναφορικά με το μέγεθος των φίλτρων, πάλι διαφέρουν στον μέγεθος του πυρήνα αλλά και στο σε ποιά επίπεδα εφαρμόζεται ο κάθε πυρήνας\n",
    "* Γενικά παρατηρούμε ότι το Lenet έχει αρκετά λιγότερα layers σε σχέση με τα AlexNet και VGG, έχει δηλαδή μικρότερο βάθος.\n",
    "* Το LeNet δεν χρησιμοποιεί την τεχνική του Dropout, μια τεχνική η οποία ως βασικό όφελος έχει την μείωση του overfitting.\n",
    "* Το activation function που χρησιμοποιεί το LeNet είναι η σιγμοειδής, σε αντίθεση με τα άλλα δύο, πιο σύγχρονα νευρωνικά, τα οποία χρησιμοποιούν το activation function Relu. (Κάτι το οποίο είναι λογικό, αφού το Relu εφευρέθηκε πολύ αργότερα από όταν προτάθηκε το LeNet).\n",
    "\n",
    "**Χαρακτηριστικά των δικτύων που συνέβαλαν στην ακρίβεια ταξινόμησης**\n",
    "\n",
    "Βασικό χαρακτηριστικό που συνέβαλε στην αύξηση της ακρίβειας ταξινόμησης είναι κατά πρώτον η εφεύρεση της ReLU. Η ReLU επιτρέπει αρχικά την αύξηση της ταχύτητας εκπαίδευσης, το οποίο σημαίνει ότι στον ίδιο χρόνο μπορούμε να εκπαιδεύσουμε πιο βαθιά νευρωνικά. Επιπλέον, οδηγεί σε πιο sparse representations σε σχέση με την σιγμοειδή, κάτι το οποίο έχει διαπιστωθεί πειραματικά πως οδηγεί σε καλύτερα αποτελέσματα.\n",
    "\n",
    "Ένα δεύτερο σημαντικό για την ακρίβεια ταξινόμησης χαρακτηριστικό είναι η χρήση του Dropout. Το dropout, αφαιρώντας ουσιαστικά τυχαίους κόμβους από την διαδικασία εκπαίδευσης κάθε φορά, έχει ως αποτέλεσμα ότι ένας νευρώνας δεν μπορεί τελικά να βασίζεται σημαντικά σε έναν άλλο, αφού οι συνδέσεις δεν είναι πάντα σταθερές, και οδηγεί τελικά σε σημαντική μείωση του overfitting, το οποίο αποτελεί ένα βασικό πρόβλημα στην εκπαίδευση νευρωνικών.\n",
    "\n",
    "Όσον αφορά το VGG ιδιαίτερα χρήσιμο για την βελτίωση της επίδοσης του είναι το γεγονός πως χρησιμοποιεί πολλαπλά stacked 3x3 convolutional layers αντί για ένα μεγαλύτερο π.χ. 11x11 layers, γεγονός που αντιστοιχεί σε ένα είδος regularization, ενώ επιτρέπει και την μείωση του πλήθους των παραμέτρων που πρέπει να προσδιοριστούν."
   ]
  },
  {
   "cell_type": "markdown",
   "metadata": {
    "id": "EE2hIYLTxlrG"
   },
   "source": [
    "# **Υλοποίηση αλγορίθμου**\n",
    "\n",
    "---\n",
    "\n"
   ]
  },
  {
   "cell_type": "markdown",
   "metadata": {
    "id": "DfEMjsB4Yurm"
   },
   "source": [
    "## Εισαγωγή και επισκόπηση του συνόλου δεδομένων"
   ]
  },
  {
   "cell_type": "code",
   "execution_count": null,
   "metadata": {
    "id": "STXQMBuN3nZ6"
   },
   "outputs": [],
   "source": [
    "from __future__ import absolute_import, division, print_function, unicode_literals # legacy compatibility\n",
    "\n",
    "import numpy as np\n",
    "import pandas as pd\n",
    "import matplotlib.pyplot as plt"
   ]
  },
  {
   "cell_type": "code",
   "execution_count": null,
   "metadata": {
    "id": "2WSEGPI9Q7tW"
   },
   "outputs": [],
   "source": [
    "# helper functions\n",
    "\n",
    "# select from from_list elements with index in index_list\n",
    "def select_from_list(from_list, index_list):\n",
    "  filtered_list= [from_list[i] for i in index_list]\n",
    "  return(filtered_list)\n",
    "\n",
    "# append in filtered_list the index of each element of unfilterd_list if it exists in in target_list\n",
    "def get_ds_index(unfiliterd_list, target_list):\n",
    "  index = 0\n",
    "  filtered_list=[]\n",
    "  for i_ in unfiliterd_list:\n",
    "    if i_[0] in target_list:\n",
    "      filtered_list.append(index)\n",
    "    index += 1\n",
    "  return(filtered_list)\n"
   ]
  },
  {
   "cell_type": "code",
   "execution_count": null,
   "metadata": {
    "id": "OCW71UaGzz0Q"
   },
   "outputs": [],
   "source": [
    "# load the entire dataset\n",
    "import tensorflow as tf\n",
    "from tensorflow.keras import datasets, layers, models\n",
    "\n",
    "(x_train_all, y_train_all), (x_test_all, y_test_all) = tf.keras.datasets.cifar100.load_data(label_mode='fine')"
   ]
  },
  {
   "cell_type": "code",
   "execution_count": null,
   "metadata": {
    "colab": {
     "base_uri": "https://localhost:8080/"
    },
    "id": "kGKYHffEE1do",
    "outputId": "67765dc5-05f1-441c-f0b6-998a00c48565"
   },
   "outputs": [
    {
     "name": "stdout",
     "output_type": "stream",
     "text": [
      "(50000, 32, 32, 3)\n"
     ]
    }
   ],
   "source": [
    "print(x_train_all.shape)"
   ]
  },
  {
   "cell_type": "markdown",
   "metadata": {
    "id": "9PO9wIwYUf0R"
   },
   "source": [
    "Η κάθε ομάδα θα δουλέψει με διαφορετικό υποσύνολο του dataset.\n",
    "Στο επόμενο κελί, αντικαταστήστε την τιμή της μεταβλητής `team_seed` με τον αριθμό που αντιστοιχεί στην ομάδας σας. "
   ]
  },
  {
   "cell_type": "code",
   "execution_count": null,
   "metadata": {
    "id": "NN0kEze7uZ_G"
   },
   "outputs": [],
   "source": [
    "# REPLACE WITH YOUR TEAM NUMBER\n",
    "team_seed = 33"
   ]
  },
  {
   "cell_type": "code",
   "execution_count": null,
   "metadata": {
    "id": "RhbZJW6PxUDJ"
   },
   "outputs": [],
   "source": [
    "# select from CIFAR100 20 classes\n",
    "cifar100_classes_url = \"https://pastebin.com/raw/nzE1n98V\""
   ]
  },
  {
   "cell_type": "markdown",
   "metadata": {
    "id": "yO9f6wb0Wi0H"
   },
   "source": [
    "Δημιουργούμε το μοναδικό dataset της ομάδας μας:"
   ]
  },
  {
   "cell_type": "code",
   "execution_count": null,
   "metadata": {
    "id": "PgIN2h_KuCp_"
   },
   "outputs": [],
   "source": [
    "team_classes = pd.read_csv(cifar100_classes_url, sep=',', header=None)\n",
    "CIFAR100_LABELS_LIST = pd.read_csv('https://pastebin.com/raw/qgDaNggt', sep=',', header=None).astype(str).values.tolist()[0]\n",
    "\n",
    "our_index = team_classes.iloc[team_seed,:].values.tolist()\n",
    "our_classes = select_from_list(CIFAR100_LABELS_LIST, our_index)\n",
    "train_index = get_ds_index(y_train_all, our_index)\n",
    "test_index = get_ds_index(y_test_all, our_index)\n",
    "\n",
    "x_train_ds = np.asarray(select_from_list(x_train_all, train_index))\n",
    "y_train_ds = np.asarray(select_from_list(y_train_all, train_index))\n",
    "x_test_ds = np.asarray(select_from_list(x_test_all, test_index))\n",
    "y_test_ds = np.asarray(select_from_list(y_test_all, test_index))"
   ]
  },
  {
   "cell_type": "code",
   "execution_count": null,
   "metadata": {
    "colab": {
     "base_uri": "https://localhost:8080/"
    },
    "id": "_B4-tvVOQq3j",
    "outputId": "60b0892d-5eba-4c09-d7e7-1f72844477d5"
   },
   "outputs": [
    {
     "name": "stdout",
     "output_type": "stream",
     "text": [
      "[' bicycle', ' cockroach', ' crocodile', ' kangaroo', ' leopard', ' lizard', ' lobster', ' mountain', ' orchid', ' pear', ' pickup_truck', ' plain', ' plate', ' ray', ' seal', ' shark', ' shrew', ' snail', ' spider', ' wolf']\n",
      "20\n"
     ]
    }
   ],
   "source": [
    "# print our classes\n",
    "print(our_classes)\n",
    "print(len(our_classes))"
   ]
  },
  {
   "cell_type": "code",
   "execution_count": null,
   "metadata": {
    "colab": {
     "base_uri": "https://localhost:8080/"
    },
    "id": "bk5wy0u7GGMj",
    "outputId": "909ac88c-3ed0-454e-abce-b4140142ed3f"
   },
   "outputs": [
    {
     "name": "stdout",
     "output_type": "stream",
     "text": [
      "(32, 32, 3)\n"
     ]
    }
   ],
   "source": [
    "print(x_train_ds[1].shape)"
   ]
  },
  {
   "cell_type": "markdown",
   "metadata": {
    "id": "3zo21QL2GeCh"
   },
   "source": [
    "Καθώς τα labels που διαθέτουμε αντιστοιχούν μόνο σε 20 κατηγορίες αλλά δεν έχουν συνεχόμενα indexes, αντιστοιχούμε αυτά σε ένα σύνολο από indexes από το 0 μέχρι το 19:\n"
   ]
  },
  {
   "cell_type": "code",
   "execution_count": null,
   "metadata": {
    "colab": {
     "base_uri": "https://localhost:8080/"
    },
    "id": "kgfqT4LEneuw",
    "outputId": "eb33d5bb-571e-4032-e9f7-7ed996a7107f"
   },
   "outputs": [
    {
     "name": "stdout",
     "output_type": "stream",
     "text": [
      "10000\n",
      "2000\n"
     ]
    }
   ],
   "source": [
    "matching = {8:0, 24:1, 27:2, 38:3, 42:4, 44:5, 45:6, 49:7, 54:8, 57:9, 58:10, 60:11, 61:12, 67:13, 72:14, 73:15, 74:16, 77:17, 79:18, 97:19}\n",
    "\n",
    "#train tabels \n",
    "tmp = ([matching.get(n, n) for n in y_train_ds.flatten()])\n",
    "print(len(tmp))\n",
    "y_train_ds = np.reshape(tmp, (10000, 1) )\n",
    "\n",
    "#test labels \n",
    "temp = ([matching.get(n, n) for n in y_test_ds.flatten()])\n",
    "print(len(temp))\n",
    "y_test_ds = np.reshape(temp, (2000, 1))"
   ]
  },
  {
   "cell_type": "code",
   "execution_count": null,
   "metadata": {
    "colab": {
     "base_uri": "https://localhost:8080/"
    },
    "id": "smVc_-4xoBx1",
    "outputId": "431216f4-97f4-4d26-eb70-1178ff8f37ee"
   },
   "outputs": [
    {
     "name": "stdout",
     "output_type": "stream",
     "text": [
      "[0, 1, 2, 3, 4, 5, 6, 7, 8, 9, 10, 11, 12, 13, 14, 15, 16, 17, 18, 19]\n"
     ]
    }
   ],
   "source": [
    "import numpy\n",
    "import tensorflow as tf\n",
    "with numpy.printoptions(threshold=numpy.inf):\n",
    "    a=set()\n",
    "    b=[]\n",
    "    for i in y_test_ds:\n",
    "      if i[0] not in a:\n",
    "        a.add(i[0])\n",
    "        b.append(i[0])\n",
    "    b.sort()\n",
    "    print(b)   \n"
   ]
  },
  {
   "cell_type": "code",
   "execution_count": null,
   "metadata": {
    "colab": {
     "base_uri": "https://localhost:8080/"
    },
    "id": "J_oO9GLxtoRP",
    "outputId": "e06ccf9a-bede-4dd5-ddfb-8e5e2ee0948e"
   },
   "outputs": [
    {
     "name": "stdout",
     "output_type": "stream",
     "text": [
      "[0, 1, 2, 3, 4, 5, 6, 7, 8, 9, 10, 11, 12, 13, 14, 15, 16, 17, 18, 19]\n"
     ]
    }
   ],
   "source": [
    "with numpy.printoptions(threshold=numpy.inf):\n",
    "    a=set()\n",
    "    b=[]\n",
    "    for i in y_train_ds:\n",
    "      if i[0] not in a:\n",
    "        a.add(i[0])\n",
    "        b.append(i[0])\n",
    "    b.sort()\n",
    "    print(b)  "
   ]
  },
  {
   "cell_type": "code",
   "execution_count": null,
   "metadata": {
    "colab": {
     "base_uri": "https://localhost:8080/",
     "height": 444
    },
    "id": "QpGXgTs_5ZCk",
    "outputId": "20ddc76e-021e-41de-c74b-b27b2ed0fb3f"
   },
   "outputs": [
    {
     "name": "stdout",
     "output_type": "stream",
     "text": [
      "Train: X=(8500, 32, 32, 3), y=(8500, 1)\n",
      "Validation: X=(1500, 32, 32, 3), y=(1500, 1)\n",
      "Test: X=(2000, 32, 32, 3), y=(2000, 1)\n"
     ]
    },
    {
     "data": {
      "image/png": "[encoded data removed]",
      "text/plain": [
       "<Figure size 432x432 with 9 Axes>"
      ]
     },
     "metadata": {
      "needs_background": "light",
      "tags": []
     },
     "output_type": "display_data"
    }
   ],
   "source": [
    "# get (train) dataset dimensions\n",
    "data_size, img_rows, img_cols, img_channels = x_train_ds.shape\n",
    "\n",
    "# set validation set percentage (wrt the training set size)\n",
    "validation_percentage = 0.15\n",
    "val_size = round(validation_percentage * data_size)\n",
    "\n",
    "# Reserve val_size samples for validation and normalize all values\n",
    "x_val = x_train_ds[-val_size:]/255\n",
    "y_val = y_train_ds[-val_size:]\n",
    "x_train = x_train_ds[:-val_size]/255\n",
    "y_train = y_train_ds[:-val_size]\n",
    "x_test = x_test_ds/255\n",
    "y_test = y_test_ds\n",
    "\n",
    "# summarize loaded dataset\n",
    "print('Train: X=%s, y=%s' % (x_train.shape, y_train.shape))\n",
    "print('Validation: X=%s, y=%s' % (x_val.shape, y_val.shape))\n",
    "print('Test: X=%s, y=%s' % (x_test.shape, y_test.shape))\n",
    "\n",
    "# get class label from class index\n",
    "def class_label_from_index(fine_category):\n",
    "  return(CIFAR100_LABELS_LIST[fine_category.item(0)])\n",
    "\n",
    "# plot first few images\n",
    "plt.figure(figsize=(6, 6))\n",
    "for i in range(9):\n",
    "\t# define subplot\n",
    "  plt.subplot(330 + 1 + i).set_title(class_label_from_index(y_train[i]))\n",
    "\t# plot raw pixel data\n",
    "  plt.imshow(x_train[i], cmap=plt.get_cmap('gray'))\n",
    "  #show the figure\n",
    "plt.show()"
   ]
  },
  {
   "cell_type": "markdown",
   "metadata": {
    "id": "iAgowxR8oJH7"
   },
   "source": [
    "# **Ερώτημα 1**\n",
    "\n",
    "\n",
    "\n",
    "\n",
    "---\n",
    "#### Βήμα 1: Σχεδίαση, μεταγλώττιση και εκπαίδευση των μοντέλων\n",
    "\n",
    " 1. Σχεδίαστε, μεταγλωττίστε και εκπαιδεύστε τα μοντέλα  **LeNet, AlexNet και  VGG**, καθώς και ένα δικό σας μοντέλο (ονομάστε το π.χ. **MyCNN**) χρησιμοποιώντας διαφορετικούς συνδυασμούς (τουλάχιστον 2 ανά μοντέλο) για [optimizer](https://keras.io/api/optimizers/), [loss](https://keras.io/api/losses/), batch size και epoch.  Για [metrics](https://keras.io/api/metrics/) να χρησιμοποιήσετε την ορθότητα (όπως στο Lab9.1).\n",
    "---\n",
    "  \n",
    "#### Βήμα 2: Αξιολόγηση των μοντέλων\n",
    "\n",
    "1. Για κάθε ένα από τα μοντέλα που εκπαιδεύσατε, απεικονίστε σε κοινό διάγραμμα την ορθότητα εκπαίδευσης και την ορθότητα επικύρωσης στο σύνολο των εποχών, για κάθε διαφορετικό συνδυασμό του βήματος 1 και επιλέξτε αυτό με την καλύτερη ορθότητα από κάθε μοντέλο (ένα από κάθε αρχιτεκτονική, συνολικά 4).\n",
    "2. Για κάθε ένα από τα μοντέλα με την καλύτερη ορθότητα (συνολικά **4**), απεικονίστε σε κοινό διάγραμμα την ορθότητα εκπαίδευσης και την ορθότητα επικύρωσης στο σύνολο των εποχών.\n",
    "3. Αξιολογήστε, αναλυτικά, τα αποτελέσματά σας ως προς τα εξής:\n",
    " - Επίδραση του πλήθους των δεδομένων/κλάσεων στην απόδοση του μοντέλου\n",
    " - Επίδραση του αλγόριθμου βελτιστοποίησης (optimizer)\n",
    " - Επίδραση του μεγέθους δέσμης (batch size)\n",
    " \n",
    "---\n",
    "\n",
    "#### Βήμα 3: Αξιολόγηση ορθότητας\n",
    "Αξιολογήστε την ορθότητα για το test set σας.\n"
   ]
  },
  {
   "cell_type": "markdown",
   "metadata": {
    "id": "32k3NaQ7fk58"
   },
   "source": [
    "## **Ερώτημα 1 - Υλοποίηση**"
   ]
  },
  {
   "cell_type": "markdown",
   "metadata": {
    "id": "x6M4ACJuOo_7"
   },
   "source": [
    "## **Βήμα 1 -Σχεδίαση, μεταγλώτιση και εκπαίδευση μοντέλων**"
   ]
  },
  {
   "cell_type": "markdown",
   "metadata": {
    "id": "raL8jKJBySxB"
   },
   "source": [
    "## **Μοντέλο LeNet**\n"
   ]
  },
  {
   "cell_type": "markdown",
   "metadata": {
    "id": "3-aIDZVUuuPa"
   },
   "source": [
    "### ***Σχεδίαση***"
   ]
  },
  {
   "cell_type": "markdown",
   "metadata": {
    "id": "1g89YU4MAYxW"
   },
   "source": [
    "Σχεδιάζουμε το μοντέλο σύμφωνα με το διάγραμμα της εικόνας 6.6.2 στην δοσμένη στην εκφώνηση υλοποίηση: https://d2l.ai/chapter_convolutional-neural-networks/lenet.html\n",
    "\n",
    "Συγκεκριμένα, το νευρωνικό αποτελείται από ένα Convolutional Layer με μέγεθος πυρήνα 5x5 και πλήθος φίλτρων 6, στην συνέχεια ένα Pooling Layer το οποίο έχει stride 2, μέγεθος πυρήνα 2x2 και υλοποιεί Average Pooling, ύστερα ξανά ένα Convolutional Layer με μέγεθος πυρήνα 5x5 και πλήθος φίλτρων 16, ακολουθούμενο από ένα ακόμα Pooling Layer με stride 2, μέγεθος πυρήνα 2x2, το οποίο υλοποιεί Average Pooling. Τέλος, ακολουθούν τρία Fully Connected Layers. Σημειώνουμε ότι πριν την είσοδο στα FC layers πρέπει το input να μετατραπεί σε από 4D σε 2D, αφού τέτοια διάσταση αναμένεται από τα FC layers.\n",
    "Επιπλέον, καθώς έχουμε 20 κατηγορίες εικονών για κατηγοριοποίηση, φροντίζουμε το τελευταίο FC layer να έχει έξοδο 20.\n",
    "\n",
    "Σημειώνουμε ότι προσθέτουμε ένα normalization μετά από κάθε convolutional layer, καθώς παρατηρήσαμε πειραματικά πως με την προσθήκη αυτή επιτυγχάνονται πολύ υψηλότερα ποσοστά ακρίβειας στο νευρωνικό."
   ]
  },
  {
   "cell_type": "markdown",
   "metadata": {
    "id": "pOhzF7MjQ_zF"
   },
   "source": [
    "Οι **τρεις** περιπτώσεις σχεδίασης:"
   ]
  },
  {
   "cell_type": "code",
   "execution_count": null,
   "metadata": {
    "id": "5VInDvce1jXN"
   },
   "outputs": [],
   "source": [
    "model_lenet_1 = models.Sequential()\n",
    "model_lenet_1.add(layers.Conv2D(filters=6, kernel_size=5, activation='sigmoid', padding='same', input_shape=(32, 32, 3))) \n",
    "model_lenet_1.add(layers.BatchNormalization())\n",
    "model_lenet_1.add(layers.AvgPool2D(pool_size=2, strides=2))\n",
    "model_lenet_1.add(layers.Conv2D(filters=16, kernel_size=5, activation='sigmoid'))\n",
    "model_lenet_1.add(layers.BatchNormalization())\n",
    "model_lenet_1.add(layers.AvgPool2D(pool_size=2, strides=2))\n",
    "model_lenet_1.add(layers.Flatten())\n",
    "model_lenet_1.add(layers.Dense(120, activation='sigmoid'))\n",
    "model_lenet_1.add(layers.Dense(84, activation='sigmoid'))\n",
    "model_lenet_1.add(layers.Dense(20))"
   ]
  },
  {
   "cell_type": "code",
   "execution_count": null,
   "metadata": {
    "id": "8m_Zctv72cxj"
   },
   "outputs": [],
   "source": [
    "model_lenet_2 = models.Sequential()\n",
    "model_lenet_2.add(layers.Conv2D(filters=6, kernel_size=5, activation='sigmoid', padding='same', input_shape=(32, 32, 3))) \n",
    "model_lenet_2.add(layers.BatchNormalization())\n",
    "model_lenet_2.add(layers.AvgPool2D(pool_size=2, strides=2))\n",
    "model_lenet_2.add(layers.Conv2D(filters=16, kernel_size=5, activation='sigmoid'))\n",
    "model_lenet_2.add(layers.BatchNormalization())\n",
    "model_lenet_2.add(layers.AvgPool2D(pool_size=2, strides=2))\n",
    "model_lenet_2.add(layers.Flatten())\n",
    "model_lenet_2.add(layers.Dense(120, activation='sigmoid'))\n",
    "model_lenet_2.add(layers.Dense(84, activation='sigmoid'))\n",
    "model_lenet_2.add(layers.Dense(20))"
   ]
  },
  {
   "cell_type": "code",
   "execution_count": null,
   "metadata": {
    "id": "8jyF1sCY2gyN"
   },
   "outputs": [],
   "source": [
    "model_lenet_3 = models.Sequential()\n",
    "model_lenet_3.add(layers.Conv2D(filters=6, kernel_size=5, activation='sigmoid', padding='same', input_shape=(32, 32, 3))) \n",
    "model_lenet_3.add(layers.BatchNormalization())\n",
    "model_lenet_3.add(layers.AvgPool2D(pool_size=2, strides=2))\n",
    "model_lenet_3.add(layers.Conv2D(filters=16, kernel_size=5, activation='sigmoid'))\n",
    "model_lenet_3.add(layers.BatchNormalization())\n",
    "model_lenet_3.add(layers.AvgPool2D(pool_size=2, strides=2))\n",
    "model_lenet_3.add(layers.Flatten())\n",
    "model_lenet_3.add(layers.Dense(120, activation='sigmoid'))\n",
    "model_lenet_3.add(layers.Dense(84, activation='sigmoid'))\n",
    "model_lenet_3.add(layers.Dense(20))"
   ]
  },
  {
   "cell_type": "markdown",
   "metadata": {
    "id": "mudYzUsr28Np"
   },
   "source": [
    "Χρησιμοποιούμε διαφορετικούς συνδυασμούς για optimizer, loss, batch size και epochs:"
   ]
  },
  {
   "cell_type": "markdown",
   "metadata": {
    "id": "JRDFtnKM3GZr"
   },
   "source": [
    "## **1η περίπτωση**\n",
    "\n",
    "*   Optimizer: adam\n",
    "*   Loss function: CategoricalCrossentropy\n",
    "*   Batch size: 128\n",
    "*   Epochs: 15\n",
    "\n",
    "\n",
    "\n"
   ]
  },
  {
   "cell_type": "markdown",
   "metadata": {
    "id": "S7mfurIk2E4d"
   },
   "source": [
    "### ***Μεταγλώττιση***"
   ]
  },
  {
   "cell_type": "code",
   "execution_count": null,
   "metadata": {
    "id": "id4qoEMx2JLq"
   },
   "outputs": [],
   "source": [
    "model_lenet_1.compile(optimizer='adam',\n",
    "              loss=tf.keras.losses.SparseCategoricalCrossentropy(from_logits=True),\n",
    "              metrics=['accuracy'])"
   ]
  },
  {
   "cell_type": "markdown",
   "metadata": {
    "id": "cgXnpcbI3klo"
   },
   "source": [
    "### ***Εκπαίδευση***"
   ]
  },
  {
   "cell_type": "code",
   "execution_count": null,
   "metadata": {
    "colab": {
     "base_uri": "https://localhost:8080/"
    },
    "id": "Wa2TyJWS3qah",
    "outputId": "99e9e9e5-6ab4-438a-c184-9ecd1349ea25"
   },
   "outputs": [
    {
     "name": "stdout",
     "output_type": "stream",
     "text": [
      "Epoch 1/30\n",
      "67/67 [==============================] - 1s 9ms/step - loss: 2.7259 - accuracy: 0.1900 - val_loss: 2.9937 - val_accuracy: 0.0827\n",
      "Epoch 2/30\n",
      "67/67 [==============================] - 0s 5ms/step - loss: 2.4386 - accuracy: 0.2906 - val_loss: 2.9650 - val_accuracy: 0.0580\n",
      "Epoch 3/30\n",
      "67/67 [==============================] - 0s 5ms/step - loss: 2.2932 - accuracy: 0.3306 - val_loss: 2.9171 - val_accuracy: 0.1107\n",
      "Epoch 4/30\n",
      "67/67 [==============================] - 0s 6ms/step - loss: 2.1957 - accuracy: 0.3515 - val_loss: 2.8113 - val_accuracy: 0.1100\n",
      "Epoch 5/30\n",
      "67/67 [==============================] - 0s 5ms/step - loss: 2.1137 - accuracy: 0.3746 - val_loss: 2.6519 - val_accuracy: 0.1473\n",
      "Epoch 6/30\n",
      "67/67 [==============================] - 0s 5ms/step - loss: 2.0486 - accuracy: 0.3891 - val_loss: 2.5108 - val_accuracy: 0.2180\n",
      "Epoch 7/30\n",
      "67/67 [==============================] - 0s 5ms/step - loss: 1.9895 - accuracy: 0.4059 - val_loss: 2.3453 - val_accuracy: 0.2693\n",
      "Epoch 8/30\n",
      "67/67 [==============================] - 0s 5ms/step - loss: 1.9405 - accuracy: 0.4192 - val_loss: 2.2215 - val_accuracy: 0.3173\n",
      "Epoch 9/30\n",
      "67/67 [==============================] - 0s 5ms/step - loss: 1.8913 - accuracy: 0.4312 - val_loss: 2.1388 - val_accuracy: 0.3547\n",
      "Epoch 10/30\n",
      "67/67 [==============================] - 0s 5ms/step - loss: 1.8426 - accuracy: 0.4489 - val_loss: 2.0464 - val_accuracy: 0.3880\n",
      "Epoch 11/30\n",
      "67/67 [==============================] - 0s 5ms/step - loss: 1.7943 - accuracy: 0.4601 - val_loss: 2.0832 - val_accuracy: 0.3593\n",
      "Epoch 12/30\n",
      "67/67 [==============================] - 0s 5ms/step - loss: 1.7564 - accuracy: 0.4694 - val_loss: 2.0283 - val_accuracy: 0.3780\n",
      "Epoch 13/30\n",
      "67/67 [==============================] - 0s 5ms/step - loss: 1.7034 - accuracy: 0.4924 - val_loss: 2.0598 - val_accuracy: 0.3600\n",
      "Epoch 14/30\n",
      "67/67 [==============================] - 0s 5ms/step - loss: 1.6588 - accuracy: 0.5055 - val_loss: 1.9491 - val_accuracy: 0.4113\n",
      "Epoch 15/30\n",
      "67/67 [==============================] - 0s 5ms/step - loss: 1.6185 - accuracy: 0.5129 - val_loss: 1.9569 - val_accuracy: 0.4060\n",
      "Epoch 16/30\n",
      "67/67 [==============================] - 0s 5ms/step - loss: 1.5739 - accuracy: 0.5266 - val_loss: 1.8954 - val_accuracy: 0.4320\n",
      "Epoch 17/30\n",
      "67/67 [==============================] - 0s 5ms/step - loss: 1.5380 - accuracy: 0.5418 - val_loss: 1.8806 - val_accuracy: 0.4340\n",
      "Epoch 18/30\n",
      "67/67 [==============================] - 0s 5ms/step - loss: 1.4889 - accuracy: 0.5560 - val_loss: 1.8971 - val_accuracy: 0.4273\n",
      "Epoch 19/30\n",
      "67/67 [==============================] - 0s 5ms/step - loss: 1.4494 - accuracy: 0.5660 - val_loss: 1.8778 - val_accuracy: 0.4360\n",
      "Epoch 20/30\n",
      "67/67 [==============================] - 0s 5ms/step - loss: 1.4167 - accuracy: 0.5756 - val_loss: 1.8588 - val_accuracy: 0.4467\n",
      "Epoch 21/30\n",
      "67/67 [==============================] - 0s 5ms/step - loss: 1.3669 - accuracy: 0.5945 - val_loss: 1.8540 - val_accuracy: 0.4427\n",
      "Epoch 22/30\n",
      "67/67 [==============================] - 0s 5ms/step - loss: 1.3294 - accuracy: 0.6052 - val_loss: 1.8655 - val_accuracy: 0.4373\n",
      "Epoch 23/30\n",
      "67/67 [==============================] - 0s 5ms/step - loss: 1.2880 - accuracy: 0.6221 - val_loss: 1.8446 - val_accuracy: 0.4553\n",
      "Epoch 24/30\n",
      "67/67 [==============================] - 0s 5ms/step - loss: 1.2456 - accuracy: 0.6349 - val_loss: 1.8316 - val_accuracy: 0.4600\n",
      "Epoch 25/30\n",
      "67/67 [==============================] - 0s 6ms/step - loss: 1.1990 - accuracy: 0.6496 - val_loss: 1.8394 - val_accuracy: 0.4573\n",
      "Epoch 26/30\n",
      "67/67 [==============================] - 0s 6ms/step - loss: 1.1623 - accuracy: 0.6574 - val_loss: 1.8585 - val_accuracy: 0.4540\n",
      "Epoch 27/30\n",
      "67/67 [==============================] - 0s 5ms/step - loss: 1.1191 - accuracy: 0.6738 - val_loss: 1.8307 - val_accuracy: 0.4547\n",
      "Epoch 28/30\n",
      "67/67 [==============================] - 0s 5ms/step - loss: 1.0798 - accuracy: 0.6866 - val_loss: 1.8435 - val_accuracy: 0.4493\n",
      "Epoch 29/30\n",
      "67/67 [==============================] - 0s 5ms/step - loss: 1.0411 - accuracy: 0.6989 - val_loss: 1.9154 - val_accuracy: 0.4527\n",
      "Epoch 30/30\n",
      "67/67 [==============================] - 0s 5ms/step - loss: 0.9986 - accuracy: 0.7180 - val_loss: 1.9073 - val_accuracy: 0.4373\n"
     ]
    }
   ],
   "source": [
    "history_lenet_1 = model_lenet_1.fit(x_train, y_train, epochs=30, batch_size=128,\n",
    "                    validation_data=(x_val, y_val))"
   ]
  },
  {
   "cell_type": "markdown",
   "metadata": {
    "id": "1Ief09Qg5YVT"
   },
   "source": [
    "## **2η περίπτωση**\n",
    "\n",
    "*   Optimizer: RMSprop\n",
    "*   Loss function: LogCosh\n",
    "*   Batch size: 256\n",
    "*   Epochs: 10"
   ]
  },
  {
   "cell_type": "markdown",
   "metadata": {
    "id": "fSo8VNbtANSH"
   },
   "source": [
    "### ***Μεταγλώττιση***"
   ]
  },
  {
   "cell_type": "code",
   "execution_count": null,
   "metadata": {
    "id": "lYsc69Hb5qpt"
   },
   "outputs": [],
   "source": [
    "model_lenet_2.compile(optimizer='RMSprop',\n",
    "           loss= tf.keras.losses.LogCosh(reduction=\"auto\", name=\"log_cosh\"),\n",
    "              metrics=['accuracy'])"
   ]
  },
  {
   "cell_type": "markdown",
   "metadata": {
    "id": "QogG3Ffu6fMS"
   },
   "source": [
    "### ***Εκπαίδευση***"
   ]
  },
  {
   "cell_type": "code",
   "execution_count": null,
   "metadata": {
    "colab": {
     "base_uri": "https://localhost:8080/"
    },
    "id": "XWwAPWDL6hg7",
    "outputId": "909c3980-b93c-4380-d327-2549fb0aecca"
   },
   "outputs": [
    {
     "name": "stdout",
     "output_type": "stream",
     "text": [
      "Epoch 1/10\n",
      "34/34 [==============================] - 1s 13ms/step - loss: 7.3262 - accuracy: 0.0507 - val_loss: 6.6329 - val_accuracy: 0.0507\n",
      "Epoch 2/10\n",
      "34/34 [==============================] - 0s 7ms/step - loss: 5.6984 - accuracy: 0.0499 - val_loss: 5.3465 - val_accuracy: 0.0507\n",
      "Epoch 3/10\n",
      "34/34 [==============================] - 0s 7ms/step - loss: 4.7819 - accuracy: 0.0532 - val_loss: 4.6380 - val_accuracy: 0.0540\n",
      "Epoch 4/10\n",
      "34/34 [==============================] - 0s 7ms/step - loss: 4.3252 - accuracy: 0.0493 - val_loss: 4.4496 - val_accuracy: 0.0560\n",
      "Epoch 5/10\n",
      "34/34 [==============================] - 0s 7ms/step - loss: 4.1875 - accuracy: 0.0487 - val_loss: 4.4790 - val_accuracy: 0.0553\n",
      "Epoch 6/10\n",
      "34/34 [==============================] - 0s 7ms/step - loss: 4.1325 - accuracy: 0.0394 - val_loss: 4.5181 - val_accuracy: 0.0560\n",
      "Epoch 7/10\n",
      "34/34 [==============================] - 0s 7ms/step - loss: 4.0872 - accuracy: 0.0400 - val_loss: 4.5150 - val_accuracy: 0.0507\n",
      "Epoch 8/10\n",
      "34/34 [==============================] - 0s 7ms/step - loss: 4.0570 - accuracy: 0.0402 - val_loss: 4.5402 - val_accuracy: 0.0553\n",
      "Epoch 9/10\n",
      "34/34 [==============================] - 0s 7ms/step - loss: 4.0226 - accuracy: 0.0366 - val_loss: 4.2980 - val_accuracy: 0.0493\n",
      "Epoch 10/10\n",
      "34/34 [==============================] - 0s 7ms/step - loss: 3.9953 - accuracy: 0.0374 - val_loss: 4.2896 - val_accuracy: 0.0413\n"
     ]
    }
   ],
   "source": [
    "history_lenet_2 = model_lenet_2.fit(x_train, y_train, epochs=10, batch_size=256,\n",
    "                    validation_data=(x_val, y_val))"
   ]
  },
  {
   "cell_type": "markdown",
   "metadata": {
    "id": "daakTSEjAgQp"
   },
   "source": [
    "## **3η περίπτωση**\n",
    "\n",
    "*   Optimizer: Adamax\n",
    "*   Loss function: Huber\n",
    "*   Batch size: 400\n",
    "*   Epochs: 20"
   ]
  },
  {
   "cell_type": "markdown",
   "metadata": {
    "id": "WcmSTYb0A1LB"
   },
   "source": [
    "### ***Μεταγλώττιση***"
   ]
  },
  {
   "cell_type": "code",
   "execution_count": null,
   "metadata": {
    "id": "n7G_JDuMA2t_"
   },
   "outputs": [],
   "source": [
    "model_lenet_3.compile(optimizer='Adamax',\n",
    "           loss= tf.keras.losses.Huber(delta=1.0, reduction=\"auto\", name=\"huber_loss\"),\n",
    "              metrics=['accuracy'])"
   ]
  },
  {
   "cell_type": "markdown",
   "metadata": {
    "id": "geujlvF-A8dK"
   },
   "source": [
    "### ***Εκπαίδευση***"
   ]
  },
  {
   "cell_type": "code",
   "execution_count": null,
   "metadata": {
    "colab": {
     "base_uri": "https://localhost:8080/"
    },
    "id": "HQxYWOR-BAKm",
    "outputId": "5b86973b-c114-471a-bf73-c24bd68789ba"
   },
   "outputs": [
    {
     "name": "stdout",
     "output_type": "stream",
     "text": [
      "Epoch 1/20\n",
      "22/22 [==============================] - 1s 24ms/step - loss: 8.4736 - accuracy: 0.0524 - val_loss: 8.0789 - val_accuracy: 0.0607\n",
      "Epoch 2/20\n",
      "22/22 [==============================] - 0s 11ms/step - loss: 7.3109 - accuracy: 0.0508 - val_loss: 7.1413 - val_accuracy: 0.0453\n",
      "Epoch 3/20\n",
      "22/22 [==============================] - 0s 13ms/step - loss: 6.4883 - accuracy: 0.0493 - val_loss: 6.3959 - val_accuracy: 0.0527\n",
      "Epoch 4/20\n",
      "22/22 [==============================] - 0s 11ms/step - loss: 5.8420 - accuracy: 0.0495 - val_loss: 5.8130 - val_accuracy: 0.0527\n",
      "Epoch 5/20\n",
      "22/22 [==============================] - 0s 11ms/step - loss: 5.3660 - accuracy: 0.0495 - val_loss: 5.3978 - val_accuracy: 0.0527\n",
      "Epoch 6/20\n",
      "22/22 [==============================] - 0s 11ms/step - loss: 5.0430 - accuracy: 0.0495 - val_loss: 5.1138 - val_accuracy: 0.0607\n",
      "Epoch 7/20\n",
      "22/22 [==============================] - 0s 11ms/step - loss: 4.8282 - accuracy: 0.0484 - val_loss: 4.9256 - val_accuracy: 0.0607\n",
      "Epoch 8/20\n",
      "22/22 [==============================] - 0s 12ms/step - loss: 4.6908 - accuracy: 0.0481 - val_loss: 4.8081 - val_accuracy: 0.0607\n",
      "Epoch 9/20\n",
      "22/22 [==============================] - 0s 12ms/step - loss: 4.6086 - accuracy: 0.0481 - val_loss: 4.7359 - val_accuracy: 0.0607\n",
      "Epoch 10/20\n",
      "22/22 [==============================] - 0s 11ms/step - loss: 4.5430 - accuracy: 0.0482 - val_loss: 4.6998 - val_accuracy: 0.0607\n",
      "Epoch 11/20\n",
      "22/22 [==============================] - 0s 11ms/step - loss: 4.4693 - accuracy: 0.0480 - val_loss: 4.6437 - val_accuracy: 0.0607\n",
      "Epoch 12/20\n",
      "22/22 [==============================] - 0s 11ms/step - loss: 4.4327 - accuracy: 0.0474 - val_loss: 4.6156 - val_accuracy: 0.0607\n",
      "Epoch 13/20\n",
      "22/22 [==============================] - 0s 11ms/step - loss: 4.4043 - accuracy: 0.0474 - val_loss: 4.5936 - val_accuracy: 0.0607\n",
      "Epoch 14/20\n",
      "22/22 [==============================] - 0s 11ms/step - loss: 4.3859 - accuracy: 0.0493 - val_loss: 4.5938 - val_accuracy: 0.0607\n",
      "Epoch 15/20\n",
      "22/22 [==============================] - 0s 12ms/step - loss: 4.3683 - accuracy: 0.0500 - val_loss: 4.5753 - val_accuracy: 0.0607\n",
      "Epoch 16/20\n",
      "22/22 [==============================] - 0s 12ms/step - loss: 4.3529 - accuracy: 0.0504 - val_loss: 4.5407 - val_accuracy: 0.0653\n",
      "Epoch 17/20\n",
      "22/22 [==============================] - 0s 11ms/step - loss: 4.3409 - accuracy: 0.0508 - val_loss: 4.5326 - val_accuracy: 0.0633\n",
      "Epoch 18/20\n",
      "22/22 [==============================] - 0s 11ms/step - loss: 4.3248 - accuracy: 0.0529 - val_loss: 4.5123 - val_accuracy: 0.0433\n",
      "Epoch 19/20\n",
      "22/22 [==============================] - 0s 11ms/step - loss: 4.3103 - accuracy: 0.0416 - val_loss: 4.5445 - val_accuracy: 0.0453\n",
      "Epoch 20/20\n",
      "22/22 [==============================] - 0s 11ms/step - loss: 4.2936 - accuracy: 0.0433 - val_loss: 4.5435 - val_accuracy: 0.0413\n"
     ]
    }
   ],
   "source": [
    "history_lenet_3 = model_lenet_3.fit(x_train, y_train, epochs=20, batch_size=400,\n",
    "                    validation_data=(x_val, y_val))"
   ]
  },
  {
   "cell_type": "markdown",
   "metadata": {
    "id": "0BHswcWrTMuU"
   },
   "source": [
    " ## **Μοντέλο ΑlexNet**"
   ]
  },
  {
   "cell_type": "markdown",
   "metadata": {
    "id": "9kPA7_j8TTPU"
   },
   "source": [
    "### ***Σχεδίαση***"
   ]
  },
  {
   "cell_type": "markdown",
   "metadata": {
    "id": "9NSaGfdShkCs"
   },
   "source": [
    "Ακολουθούμε την σχεδίαση του AlexNet που περιγράφεται στο σχήμα της εικόνα 7.1.2 σύμφωνα με την δοσμένη από την εκφώνηση υλοποίηση: https://d2l.ai/chapter_convolutional-modern/alexnet.html\n",
    "\n",
    "Το AlexNet, σε σύγκριση με το LeNet διαθέτει περισσότερα layers, ενώ εμφανίζονται και διαδοχικά Convolutional layers χωρίς την ενδιάμεση παρεμβολή pooling layers. Επιπλέον, χρησιμοποιείται MaxPooling και όχι Average Pooling, ενώ η συνάρτηση ενεργοποίήσης δεν είναι η σιγμοειδής, όπως στο LeNet, αλλά η Relu. \n",
    "\n",
    "Σημειώνουμε επιπλέον ότι χρησιμοποιούμε dropout για να μειώσουμε το φαινόμενο του overfitting. Επιπλέον, καθώς οι εικόνες μας ανήκουν σε 20 κλάσεις, το output του τελευταίου Fully Connected layer είναι ξανά 20.\n",
    "\n",
    "\n",
    "Σημειώνουμε ότι προσθέτουμε ξανά ένα normalization μετά από κάθε convolutional layer, καθώς παρατηρήσαμε πειραματικά πως με την προσθήκη αυτή επιτυγχάνονται πολύ υψηλότερα ποσοστά ακρίβειας στο νευρωνικό."
   ]
  },
  {
   "cell_type": "markdown",
   "metadata": {
    "id": "PgORiJJpRRmU"
   },
   "source": [
    "Οι **τρεις** περιπτώσεις σχεδίασης:"
   ]
  },
  {
   "cell_type": "code",
   "execution_count": null,
   "metadata": {
    "id": "lrtf10Lh-ZUD"
   },
   "outputs": [],
   "source": [
    "model_ΑlexNet_1 = models.Sequential()\n",
    "model_ΑlexNet_1.add(layers.Conv2D(filters=96, kernel_size=11, strides=4,activation='relu',  input_shape=(96, 96, 3)))\n",
    "model_ΑlexNet_1.add(layers.BatchNormalization())\n",
    "model_ΑlexNet_1.add(layers.MaxPool2D(pool_size=3, strides=2))\n",
    "model_ΑlexNet_1.add(layers.Conv2D(filters=256, kernel_size=5, padding='same',activation='relu'))\n",
    "model_ΑlexNet_1.add(layers.BatchNormalization())\n",
    "model_ΑlexNet_1.add(layers.MaxPool2D(pool_size=3, strides=2))\n",
    "model_ΑlexNet_1.add(layers.Conv2D(filters=384, kernel_size=3, padding='same',activation='relu'))\n",
    "model_ΑlexNet_1.add(layers.BatchNormalization())\n",
    "model_ΑlexNet_1.add(layers.Conv2D(filters=384, kernel_size=3, padding='same',activation='relu'))\n",
    "model_ΑlexNet_1.add(layers.BatchNormalization())\n",
    "model_ΑlexNet_1.add(layers.Conv2D(filters=256, kernel_size=3, padding='same',activation='relu'))\n",
    "model_ΑlexNet_1.add(layers.BatchNormalization())\n",
    "model_ΑlexNet_1.add(layers.MaxPool2D(pool_size=3, strides=2))\n",
    "model_ΑlexNet_1.add(layers.Flatten())\n",
    "model_ΑlexNet_1.add(layers.Dense(4096, activation='relu'))\n",
    "model_ΑlexNet_1.add(layers.Dropout(0.5))\n",
    "model_ΑlexNet_1.add(layers.Dense(4096, activation='relu'))\n",
    "model_ΑlexNet_1.add(layers.Dropout(0.5))\n",
    "#model_ΑlexNet_2.add(layers.Dense(1000, activation='relu'))\n",
    "#model_ΑlexNet_2.add(layers.Dropout(0.5))\n",
    "model_ΑlexNet_1.add(layers.Dense(20))"
   ]
  },
  {
   "cell_type": "code",
   "execution_count": null,
   "metadata": {
    "colab": {
     "base_uri": "https://localhost:8080/"
    },
    "id": "b2YwQyr3-iK1",
    "outputId": "bd2bbc24-b5dc-495f-ad5b-456d2af5f4aa"
   },
   "outputs": [
    {
     "name": "stdout",
     "output_type": "stream",
     "text": [
      "Model: \"sequential\"\n",
      "_________________________________________________________________\n",
      "Layer (type)                 Output Shape              Param #   \n",
      "=================================================================\n",
      "conv2d (Conv2D)              (None, 22, 22, 96)        34944     \n",
      "_________________________________________________________________\n",
      "batch_normalization (BatchNo (None, 22, 22, 96)        384       \n",
      "_________________________________________________________________\n",
      "max_pooling2d (MaxPooling2D) (None, 10, 10, 96)        0         \n",
      "_________________________________________________________________\n",
      "conv2d_1 (Conv2D)            (None, 10, 10, 256)       614656    \n",
      "_________________________________________________________________\n",
      "batch_normalization_1 (Batch (None, 10, 10, 256)       1024      \n",
      "_________________________________________________________________\n",
      "max_pooling2d_1 (MaxPooling2 (None, 4, 4, 256)         0         \n",
      "_________________________________________________________________\n",
      "conv2d_2 (Conv2D)            (None, 4, 4, 384)         885120    \n",
      "_________________________________________________________________\n",
      "batch_normalization_2 (Batch (None, 4, 4, 384)         1536      \n",
      "_________________________________________________________________\n",
      "conv2d_3 (Conv2D)            (None, 4, 4, 384)         1327488   \n",
      "_________________________________________________________________\n",
      "batch_normalization_3 (Batch (None, 4, 4, 384)         1536      \n",
      "_________________________________________________________________\n",
      "conv2d_4 (Conv2D)            (None, 4, 4, 256)         884992    \n",
      "_________________________________________________________________\n",
      "batch_normalization_4 (Batch (None, 4, 4, 256)         1024      \n",
      "_________________________________________________________________\n",
      "max_pooling2d_2 (MaxPooling2 (None, 1, 1, 256)         0         \n",
      "_________________________________________________________________\n",
      "flatten (Flatten)            (None, 256)               0         \n",
      "_________________________________________________________________\n",
      "dense (Dense)                (None, 4096)              1052672   \n",
      "_________________________________________________________________\n",
      "dropout (Dropout)            (None, 4096)              0         \n",
      "_________________________________________________________________\n",
      "dense_1 (Dense)              (None, 4096)              16781312  \n",
      "_________________________________________________________________\n",
      "dropout_1 (Dropout)          (None, 4096)              0         \n",
      "_________________________________________________________________\n",
      "dense_2 (Dense)              (None, 20)                81940     \n",
      "=================================================================\n",
      "Total params: 21,668,628\n",
      "Trainable params: 21,665,876\n",
      "Non-trainable params: 2,752\n",
      "_________________________________________________________________\n"
     ]
    }
   ],
   "source": [
    "model_ΑlexNet_1.summary()"
   ]
  },
  {
   "cell_type": "code",
   "execution_count": null,
   "metadata": {
    "id": "wKShYxwsj73z"
   },
   "outputs": [],
   "source": [
    "model_ΑlexNet_2 = models.Sequential()\n",
    "model_ΑlexNet_2.add(layers.Conv2D(filters=96, kernel_size=11, strides=4,activation='relu',  input_shape=(96, 96, 3)))\n",
    "model_ΑlexNet_2.add(layers.BatchNormalization())\n",
    "model_ΑlexNet_2.add(layers.MaxPool2D(pool_size=3, strides=2))\n",
    "model_ΑlexNet_2.add(layers.Conv2D(filters=256, kernel_size=5, padding='same',activation='relu'))\n",
    "model_ΑlexNet_2.add(layers.BatchNormalization())\n",
    "model_ΑlexNet_2.add(layers.MaxPool2D(pool_size=3, strides=2))\n",
    "model_ΑlexNet_2.add(layers.Conv2D(filters=384, kernel_size=3, padding='same',activation='relu'))\n",
    "model_ΑlexNet_2.add(layers.BatchNormalization())\n",
    "model_ΑlexNet_2.add(layers.Conv2D(filters=384, kernel_size=3, padding='same',activation='relu'))\n",
    "model_ΑlexNet_2.add(layers.BatchNormalization())\n",
    "model_ΑlexNet_2.add(layers.Conv2D(filters=256, kernel_size=3, padding='same',activation='relu'))\n",
    "model_ΑlexNet_2.add(layers.BatchNormalization())\n",
    "model_ΑlexNet_2.add(layers.MaxPool2D(pool_size=3, strides=2))\n",
    "model_ΑlexNet_2.add(layers.Flatten())\n",
    "model_ΑlexNet_2.add(layers.Dense(4096, activation='relu'))\n",
    "model_ΑlexNet_2.add(layers.Dropout(0.5))\n",
    "model_ΑlexNet_2.add(layers.Dense(4096, activation='relu'))\n",
    "model_ΑlexNet_2.add(layers.Dropout(0.5))\n",
    "#model_ΑlexNet_2.add(layers.Dense(1000, activation='relu'))\n",
    "#model_ΑlexNet_2.add(layers.Dropout(0.5))\n",
    "model_ΑlexNet_2.add(layers.Dense(20))"
   ]
  },
  {
   "cell_type": "code",
   "execution_count": null,
   "metadata": {
    "colab": {
     "base_uri": "https://localhost:8080/"
    },
    "id": "L2ZzDUQg5IsK",
    "outputId": "1363e305-7a10-4f44-959a-08f9f1162c04"
   },
   "outputs": [
    {
     "name": "stdout",
     "output_type": "stream",
     "text": [
      "Model: \"sequential_1\"\n",
      "_________________________________________________________________\n",
      "Layer (type)                 Output Shape              Param #   \n",
      "=================================================================\n",
      "conv2d_5 (Conv2D)            (None, 22, 22, 96)        34944     \n",
      "_________________________________________________________________\n",
      "batch_normalization_5 (Batch (None, 22, 22, 96)        384       \n",
      "_________________________________________________________________\n",
      "max_pooling2d_3 (MaxPooling2 (None, 10, 10, 96)        0         \n",
      "_________________________________________________________________\n",
      "conv2d_6 (Conv2D)            (None, 10, 10, 256)       614656    \n",
      "_________________________________________________________________\n",
      "batch_normalization_6 (Batch (None, 10, 10, 256)       1024      \n",
      "_________________________________________________________________\n",
      "max_pooling2d_4 (MaxPooling2 (None, 4, 4, 256)         0         \n",
      "_________________________________________________________________\n",
      "conv2d_7 (Conv2D)            (None, 4, 4, 384)         885120    \n",
      "_________________________________________________________________\n",
      "batch_normalization_7 (Batch (None, 4, 4, 384)         1536      \n",
      "_________________________________________________________________\n",
      "conv2d_8 (Conv2D)            (None, 4, 4, 384)         1327488   \n",
      "_________________________________________________________________\n",
      "batch_normalization_8 (Batch (None, 4, 4, 384)         1536      \n",
      "_________________________________________________________________\n",
      "conv2d_9 (Conv2D)            (None, 4, 4, 256)         884992    \n",
      "_________________________________________________________________\n",
      "batch_normalization_9 (Batch (None, 4, 4, 256)         1024      \n",
      "_________________________________________________________________\n",
      "max_pooling2d_5 (MaxPooling2 (None, 1, 1, 256)         0         \n",
      "_________________________________________________________________\n",
      "flatten_1 (Flatten)          (None, 256)               0         \n",
      "_________________________________________________________________\n",
      "dense_3 (Dense)              (None, 4096)              1052672   \n",
      "_________________________________________________________________\n",
      "dropout_2 (Dropout)          (None, 4096)              0         \n",
      "_________________________________________________________________\n",
      "dense_4 (Dense)              (None, 4096)              16781312  \n",
      "_________________________________________________________________\n",
      "dropout_3 (Dropout)          (None, 4096)              0         \n",
      "_________________________________________________________________\n",
      "dense_5 (Dense)              (None, 20)                81940     \n",
      "=================================================================\n",
      "Total params: 21,668,628\n",
      "Trainable params: 21,665,876\n",
      "Non-trainable params: 2,752\n",
      "_________________________________________________________________\n"
     ]
    }
   ],
   "source": [
    "model_ΑlexNet_2.summary()"
   ]
  },
  {
   "cell_type": "code",
   "execution_count": null,
   "metadata": {
    "id": "Hlo_3MGlBQT0"
   },
   "outputs": [],
   "source": [
    "model_ΑlexNet_3 = models.Sequential()\n",
    "model_ΑlexNet_3.add(layers.Conv2D(filters=96, kernel_size=11, strides=4,activation='relu',  input_shape=(96, 96, 3)))\n",
    "model_ΑlexNet_3.add(layers.BatchNormalization())\n",
    "model_ΑlexNet_3.add(layers.MaxPool2D(pool_size=3, strides=2))\n",
    "model_ΑlexNet_3.add(layers.Conv2D(filters=256, kernel_size=5, padding='same',activation='relu'))\n",
    "model_ΑlexNet_3.add(layers.BatchNormalization())\n",
    "model_ΑlexNet_3.add(layers.MaxPool2D(pool_size=3, strides=2))\n",
    "model_ΑlexNet_3.add(layers.Conv2D(filters=384, kernel_size=3, padding='same',activation='relu'))\n",
    "model_ΑlexNet_3.add(layers.BatchNormalization())\n",
    "model_ΑlexNet_3.add(layers.Conv2D(filters=384, kernel_size=3, padding='same',activation='relu'))\n",
    "model_ΑlexNet_3.add(layers.BatchNormalization())\n",
    "model_ΑlexNet_3.add(layers.Conv2D(filters=256, kernel_size=3, padding='same',activation='relu'))\n",
    "model_ΑlexNet_3.add(layers.BatchNormalization())\n",
    "model_ΑlexNet_3.add(layers.MaxPool2D(pool_size=3, strides=2))\n",
    "model_ΑlexNet_3.add(layers.Flatten())\n",
    "model_ΑlexNet_3.add(layers.Dense(4096, activation='relu'))\n",
    "model_ΑlexNet_3.add(layers.Dropout(0.5))\n",
    "model_ΑlexNet_3.add(layers.Dense(4096, activation='relu'))\n",
    "model_ΑlexNet_3.add(layers.Dropout(0.5))\n",
    "#model_ΑlexNet_3.add(layers.Dense(1000, activation='relu'))\n",
    "#model_ΑlexNet_3.add(layers.Dropout(0.5))\n",
    "model_ΑlexNet_3.add(layers.Dense(20))"
   ]
  },
  {
   "cell_type": "code",
   "execution_count": null,
   "metadata": {
    "colab": {
     "base_uri": "https://localhost:8080/"
    },
    "id": "CkPB4DyiBbbP",
    "outputId": "f0f48411-a7f0-42e6-a827-1877d0302736"
   },
   "outputs": [
    {
     "name": "stdout",
     "output_type": "stream",
     "text": [
      "Model: \"sequential_2\"\n",
      "_________________________________________________________________\n",
      "Layer (type)                 Output Shape              Param #   \n",
      "=================================================================\n",
      "conv2d_10 (Conv2D)           (None, 22, 22, 96)        34944     \n",
      "_________________________________________________________________\n",
      "batch_normalization_10 (Batc (None, 22, 22, 96)        384       \n",
      "_________________________________________________________________\n",
      "max_pooling2d_6 (MaxPooling2 (None, 10, 10, 96)        0         \n",
      "_________________________________________________________________\n",
      "conv2d_11 (Conv2D)           (None, 10, 10, 256)       614656    \n",
      "_________________________________________________________________\n",
      "batch_normalization_11 (Batc (None, 10, 10, 256)       1024      \n",
      "_________________________________________________________________\n",
      "max_pooling2d_7 (MaxPooling2 (None, 4, 4, 256)         0         \n",
      "_________________________________________________________________\n",
      "conv2d_12 (Conv2D)           (None, 4, 4, 384)         885120    \n",
      "_________________________________________________________________\n",
      "batch_normalization_12 (Batc (None, 4, 4, 384)         1536      \n",
      "_________________________________________________________________\n",
      "conv2d_13 (Conv2D)           (None, 4, 4, 384)         1327488   \n",
      "_________________________________________________________________\n",
      "batch_normalization_13 (Batc (None, 4, 4, 384)         1536      \n",
      "_________________________________________________________________\n",
      "conv2d_14 (Conv2D)           (None, 4, 4, 256)         884992    \n",
      "_________________________________________________________________\n",
      "batch_normalization_14 (Batc (None, 4, 4, 256)         1024      \n",
      "_________________________________________________________________\n",
      "max_pooling2d_8 (MaxPooling2 (None, 1, 1, 256)         0         \n",
      "_________________________________________________________________\n",
      "flatten_2 (Flatten)          (None, 256)               0         \n",
      "_________________________________________________________________\n",
      "dense_6 (Dense)              (None, 4096)              1052672   \n",
      "_________________________________________________________________\n",
      "dropout_4 (Dropout)          (None, 4096)              0         \n",
      "_________________________________________________________________\n",
      "dense_7 (Dense)              (None, 4096)              16781312  \n",
      "_________________________________________________________________\n",
      "dropout_5 (Dropout)          (None, 4096)              0         \n",
      "_________________________________________________________________\n",
      "dense_8 (Dense)              (None, 20)                81940     \n",
      "=================================================================\n",
      "Total params: 21,668,628\n",
      "Trainable params: 21,665,876\n",
      "Non-trainable params: 2,752\n",
      "_________________________________________________________________\n"
     ]
    }
   ],
   "source": [
    "model_ΑlexNet_3.summary()"
   ]
  },
  {
   "cell_type": "markdown",
   "metadata": {
    "id": "jmy-ysh3_aWr"
   },
   "source": [
    "Κάνουμε αρχικά upscale στις εικόνες που διαθέτουμε για την εκπαίδευση των νευρωνικών μας, καθώς το AlexNet δέχεται μεγαλύτερου μεγέθους εικόνες:"
   ]
  },
  {
   "cell_type": "code",
   "execution_count": null,
   "metadata": {
    "colab": {
     "base_uri": "https://localhost:8080/"
    },
    "id": "TKQAe7_S7Oke",
    "outputId": "b51397a1-b08c-4146-c4f4-5fe1d4b8af1b"
   },
   "outputs": [
    {
     "name": "stdout",
     "output_type": "stream",
     "text": [
      "(8500, 32, 32, 3)\n"
     ]
    }
   ],
   "source": [
    "print(x_train.shape)\n",
    "a=[]\n",
    "import cv2\n",
    "for i in range(0,8500):\n",
    "  t=cv2.resize(x_train[i],(96,96))\n",
    "  a.append(t)\n"
   ]
  },
  {
   "cell_type": "code",
   "execution_count": null,
   "metadata": {
    "colab": {
     "base_uri": "https://localhost:8080/"
    },
    "id": "RtvVe7m4nhBa",
    "outputId": "3a7283d4-9002-402c-984a-98e5792edcd3"
   },
   "outputs": [
    {
     "name": "stdout",
     "output_type": "stream",
     "text": [
      "(1500, 32, 32, 3)\n"
     ]
    }
   ],
   "source": [
    "print(x_val.shape)\n",
    "b=[]\n",
    "import cv2\n",
    "for i in range(0,1500):\n",
    "  t=cv2.resize(x_val[i],(96,96))\n",
    "  b.append(t)\n",
    " \n"
   ]
  },
  {
   "cell_type": "code",
   "execution_count": null,
   "metadata": {
    "colab": {
     "base_uri": "https://localhost:8080/"
    },
    "id": "oWbrtHAKZMyd",
    "outputId": "6cd79cf1-c1b5-47d0-ad9c-58d17418b87b"
   },
   "outputs": [
    {
     "name": "stdout",
     "output_type": "stream",
     "text": [
      "(8500, 96, 96, 3)\n",
      "(1500, 96, 96, 3)\n"
     ]
    }
   ],
   "source": [
    "b=np.array(b)\n",
    "a=np.array(a)\n",
    "print(a.shape)\n",
    "print(b.shape)"
   ]
  },
  {
   "cell_type": "code",
   "execution_count": null,
   "metadata": {
    "colab": {
     "base_uri": "https://localhost:8080/"
    },
    "id": "F_Ty4hbIzQ4h",
    "outputId": "ec08168c-17d4-40dc-8723-4788ed05c595"
   },
   "outputs": [
    {
     "name": "stdout",
     "output_type": "stream",
     "text": [
      "(2000, 32, 32, 3)\n",
      "(2000, 1)\n",
      "(2000, 96, 96, 3)\n"
     ]
    }
   ],
   "source": [
    "print(x_test.shape)\n",
    "print(y_test.shape)\n",
    "x_test_new=[]\n",
    "import cv2\n",
    "for i in range(0,2000):\n",
    "  t1=cv2.resize(x_test[i],(96,96))\n",
    "  x_test_new.append(t1)\n",
    "x_test_new=np.array(x_test_new)\n",
    "print(x_test_new.shape)"
   ]
  },
  {
   "cell_type": "markdown",
   "metadata": {
    "id": "kaOKhjed0aqu"
   },
   "source": [
    "Χρησιμοποιούμε διαφορετικούς συνδυασμούς για optimizer, loss, batch size και epochs:"
   ]
  },
  {
   "cell_type": "markdown",
   "metadata": {
    "id": "4cZ4-_LF9Fc-"
   },
   "source": [
    "## **1η περίπτωση**\n",
    "\n",
    "*   Optimizer: adam\n",
    "*   Loss function: SparseCategoricalCrossentropy\n",
    "*   Batch size: 256\n",
    "*   Epochs: 30"
   ]
  },
  {
   "cell_type": "markdown",
   "metadata": {
    "id": "MPrdwTaH_qIF"
   },
   "source": [
    "### ***Μεταγλώττιση***"
   ]
  },
  {
   "cell_type": "code",
   "execution_count": null,
   "metadata": {
    "id": "8hCevfzD_wTO"
   },
   "outputs": [],
   "source": [
    "model_ΑlexNet_1.compile(optimizer='adam',\n",
    "             loss=tf.keras.losses.SparseCategoricalCrossentropy(from_logits=True),\n",
    "              metrics=['accuracy'])"
   ]
  },
  {
   "cell_type": "markdown",
   "metadata": {
    "id": "rUYGJus__-QE"
   },
   "source": [
    "### ***Εκπαίδευση***"
   ]
  },
  {
   "cell_type": "code",
   "execution_count": null,
   "metadata": {
    "colab": {
     "base_uri": "https://localhost:8080/"
    },
    "id": "onwlG2ZuAAOS",
    "outputId": "e88044cd-98e7-479c-ca61-faea561a3cc9"
   },
   "outputs": [
    {
     "name": "stdout",
     "output_type": "stream",
     "text": [
      "Epoch 1/30\n",
      "34/34 [==============================] - 40s 195ms/step - loss: 2.8510 - accuracy: 0.2204 - val_loss: 3.4240 - val_accuracy: 0.0987\n",
      "Epoch 2/30\n",
      "34/34 [==============================] - 5s 148ms/step - loss: 2.1423 - accuracy: 0.3349 - val_loss: 2.7837 - val_accuracy: 0.1820\n",
      "Epoch 3/30\n",
      "34/34 [==============================] - 5s 148ms/step - loss: 1.9815 - accuracy: 0.3852 - val_loss: 3.4403 - val_accuracy: 0.1693\n",
      "Epoch 4/30\n",
      "34/34 [==============================] - 5s 147ms/step - loss: 1.8604 - accuracy: 0.4260 - val_loss: 2.6282 - val_accuracy: 0.2287\n",
      "Epoch 5/30\n",
      "34/34 [==============================] - 5s 149ms/step - loss: 1.7185 - accuracy: 0.4724 - val_loss: 3.1588 - val_accuracy: 0.2007\n",
      "Epoch 6/30\n",
      "34/34 [==============================] - 5s 150ms/step - loss: 1.6092 - accuracy: 0.5091 - val_loss: 2.7633 - val_accuracy: 0.2520\n",
      "Epoch 7/30\n",
      "34/34 [==============================] - 5s 150ms/step - loss: 1.4945 - accuracy: 0.5360 - val_loss: 2.4613 - val_accuracy: 0.2853\n",
      "Epoch 8/30\n",
      "34/34 [==============================] - 5s 152ms/step - loss: 1.3864 - accuracy: 0.5680 - val_loss: 2.1510 - val_accuracy: 0.3700\n",
      "Epoch 9/30\n",
      "34/34 [==============================] - 5s 152ms/step - loss: 1.2586 - accuracy: 0.6039 - val_loss: 2.2156 - val_accuracy: 0.3447\n",
      "Epoch 10/30\n",
      "34/34 [==============================] - 5s 152ms/step - loss: 1.1129 - accuracy: 0.6509 - val_loss: 2.1653 - val_accuracy: 0.3767\n",
      "Epoch 11/30\n",
      "34/34 [==============================] - 5s 154ms/step - loss: 1.0299 - accuracy: 0.6756 - val_loss: 2.2933 - val_accuracy: 0.3747\n",
      "Epoch 12/30\n",
      "34/34 [==============================] - 5s 155ms/step - loss: 0.9189 - accuracy: 0.7118 - val_loss: 2.6043 - val_accuracy: 0.3627\n",
      "Epoch 13/30\n",
      "34/34 [==============================] - 5s 156ms/step - loss: 0.7438 - accuracy: 0.7620 - val_loss: 3.4428 - val_accuracy: 0.3367\n",
      "Epoch 14/30\n",
      "34/34 [==============================] - 5s 155ms/step - loss: 0.7161 - accuracy: 0.7669 - val_loss: 2.3616 - val_accuracy: 0.4407\n",
      "Epoch 15/30\n",
      "34/34 [==============================] - 5s 156ms/step - loss: 0.6144 - accuracy: 0.8035 - val_loss: 2.5827 - val_accuracy: 0.4520\n",
      "Epoch 16/30\n",
      "34/34 [==============================] - 5s 158ms/step - loss: 0.4823 - accuracy: 0.8455 - val_loss: 2.3421 - val_accuracy: 0.5153\n",
      "Epoch 17/30\n",
      "34/34 [==============================] - 5s 158ms/step - loss: 0.4475 - accuracy: 0.8544 - val_loss: 2.5699 - val_accuracy: 0.4740\n",
      "Epoch 18/30\n",
      "34/34 [==============================] - 5s 159ms/step - loss: 0.3818 - accuracy: 0.8793 - val_loss: 2.6837 - val_accuracy: 0.4560\n",
      "Epoch 19/30\n",
      "34/34 [==============================] - 5s 159ms/step - loss: 0.4012 - accuracy: 0.8712 - val_loss: 2.3322 - val_accuracy: 0.5253\n",
      "Epoch 20/30\n",
      "34/34 [==============================] - 5s 157ms/step - loss: 0.2783 - accuracy: 0.9099 - val_loss: 2.5403 - val_accuracy: 0.5113\n",
      "Epoch 21/30\n",
      "34/34 [==============================] - 5s 157ms/step - loss: 0.2533 - accuracy: 0.9180 - val_loss: 2.6446 - val_accuracy: 0.5213\n",
      "Epoch 22/30\n",
      "34/34 [==============================] - 5s 155ms/step - loss: 0.2654 - accuracy: 0.9208 - val_loss: 3.1713 - val_accuracy: 0.4940\n",
      "Epoch 23/30\n",
      "34/34 [==============================] - 5s 156ms/step - loss: 0.2526 - accuracy: 0.9218 - val_loss: 2.8292 - val_accuracy: 0.4860\n",
      "Epoch 24/30\n",
      "34/34 [==============================] - 5s 155ms/step - loss: 0.1945 - accuracy: 0.9394 - val_loss: 3.0426 - val_accuracy: 0.5047\n",
      "Epoch 25/30\n",
      "34/34 [==============================] - 5s 156ms/step - loss: 0.1620 - accuracy: 0.9448 - val_loss: 2.6308 - val_accuracy: 0.5567\n",
      "Epoch 26/30\n",
      "34/34 [==============================] - 5s 155ms/step - loss: 0.1394 - accuracy: 0.9560 - val_loss: 4.0607 - val_accuracy: 0.4467\n",
      "Epoch 27/30\n",
      "34/34 [==============================] - 5s 155ms/step - loss: 0.1186 - accuracy: 0.9646 - val_loss: 3.0357 - val_accuracy: 0.5480\n",
      "Epoch 28/30\n",
      "34/34 [==============================] - 5s 156ms/step - loss: 0.1638 - accuracy: 0.9505 - val_loss: 3.2852 - val_accuracy: 0.5227\n",
      "Epoch 29/30\n",
      "34/34 [==============================] - 5s 155ms/step - loss: 0.1428 - accuracy: 0.9581 - val_loss: 3.2443 - val_accuracy: 0.5313\n",
      "Epoch 30/30\n",
      "34/34 [==============================] - 5s 156ms/step - loss: 0.1368 - accuracy: 0.9567 - val_loss: 3.1338 - val_accuracy: 0.5287\n"
     ]
    }
   ],
   "source": [
    "history_AlexNet_1 = model_ΑlexNet_1.fit(a,y_train, epochs=30, batch_size=256,validation_data=(b, y_val))"
   ]
  },
  {
   "cell_type": "markdown",
   "metadata": {
    "id": "-8hvn7ez0dgL"
   },
   "source": [
    "## **2η περίπτωση**\n",
    "\n",
    "*   Optimizer: adam\n",
    "*   Loss function: SparseCategoricalCrossentropy\n",
    "*   Batch size: 128\n",
    "*   Epochs: 15\n",
    "\n",
    "\n",
    "\n"
   ]
  },
  {
   "cell_type": "markdown",
   "metadata": {
    "id": "piYd6QxN0lxW"
   },
   "source": [
    "### ***Μεταγλώττιση***"
   ]
  },
  {
   "cell_type": "code",
   "execution_count": null,
   "metadata": {
    "id": "0h_dNXon0oC9"
   },
   "outputs": [],
   "source": [
    "model_ΑlexNet_2.compile(optimizer='adam',\n",
    "             loss=tf.keras.losses.SparseCategoricalCrossentropy(from_logits=True),\n",
    "              metrics=['accuracy'])"
   ]
  },
  {
   "cell_type": "markdown",
   "metadata": {
    "id": "ExDBfwTF042V"
   },
   "source": [
    "### ***Εκπαίδευση***"
   ]
  },
  {
   "cell_type": "code",
   "execution_count": null,
   "metadata": {
    "colab": {
     "base_uri": "https://localhost:8080/"
    },
    "id": "NKm2ckkF072q",
    "outputId": "66e96f16-5ca8-42d8-fa89-cc44da758a7d"
   },
   "outputs": [
    {
     "name": "stdout",
     "output_type": "stream",
     "text": [
      "Epoch 1/15\n",
      "67/67 [==============================] - 8s 91ms/step - loss: 2.8185 - accuracy: 0.2206 - val_loss: 2.9947 - val_accuracy: 0.1273\n",
      "Epoch 2/15\n",
      "67/67 [==============================] - 5s 80ms/step - loss: 2.2022 - accuracy: 0.3196 - val_loss: 2.7418 - val_accuracy: 0.1787\n",
      "Epoch 3/15\n",
      "67/67 [==============================] - 5s 81ms/step - loss: 2.0218 - accuracy: 0.3795 - val_loss: 3.7899 - val_accuracy: 0.1507\n",
      "Epoch 4/15\n",
      "67/67 [==============================] - 5s 81ms/step - loss: 1.8697 - accuracy: 0.4287 - val_loss: 2.3759 - val_accuracy: 0.2780\n",
      "Epoch 5/15\n",
      "67/67 [==============================] - 5s 81ms/step - loss: 1.7535 - accuracy: 0.4586 - val_loss: 2.6170 - val_accuracy: 0.2740\n",
      "Epoch 6/15\n",
      "67/67 [==============================] - 5s 81ms/step - loss: 1.6182 - accuracy: 0.5026 - val_loss: 2.1691 - val_accuracy: 0.3800\n",
      "Epoch 7/15\n",
      "67/67 [==============================] - 5s 81ms/step - loss: 1.5233 - accuracy: 0.5273 - val_loss: 2.7100 - val_accuracy: 0.3153\n",
      "Epoch 8/15\n",
      "67/67 [==============================] - 5s 80ms/step - loss: 1.4058 - accuracy: 0.5641 - val_loss: 2.0775 - val_accuracy: 0.4233\n",
      "Epoch 9/15\n",
      "67/67 [==============================] - 5s 80ms/step - loss: 1.2957 - accuracy: 0.6011 - val_loss: 2.1427 - val_accuracy: 0.4207\n",
      "Epoch 10/15\n",
      "67/67 [==============================] - 5s 80ms/step - loss: 1.1940 - accuracy: 0.6302 - val_loss: 1.9065 - val_accuracy: 0.4680\n",
      "Epoch 11/15\n",
      "67/67 [==============================] - 5s 80ms/step - loss: 1.0532 - accuracy: 0.6722 - val_loss: 1.9455 - val_accuracy: 0.4687\n",
      "Epoch 12/15\n",
      "67/67 [==============================] - 5s 80ms/step - loss: 0.9694 - accuracy: 0.6974 - val_loss: 2.0399 - val_accuracy: 0.4913\n",
      "Epoch 13/15\n",
      "67/67 [==============================] - 5s 80ms/step - loss: 0.8561 - accuracy: 0.7344 - val_loss: 1.7900 - val_accuracy: 0.5247\n",
      "Epoch 14/15\n",
      "67/67 [==============================] - 5s 80ms/step - loss: 0.7088 - accuracy: 0.7781 - val_loss: 2.1161 - val_accuracy: 0.4953\n",
      "Epoch 15/15\n",
      "67/67 [==============================] - 5s 80ms/step - loss: 0.6394 - accuracy: 0.7986 - val_loss: 2.1496 - val_accuracy: 0.4980\n"
     ]
    }
   ],
   "source": [
    "history_AlexNet_2 = model_ΑlexNet_2.fit(a,y_train, epochs=15, batch_size=128,validation_data=(b, y_val))"
   ]
  },
  {
   "cell_type": "markdown",
   "metadata": {
    "id": "UopMkALEBzEy"
   },
   "source": [
    "## **3η περίπτωση**\n",
    "\n",
    "*   Optimizer: RMSprop\n",
    "*   Loss function: Huber \n",
    "*   Batch size: 128\n",
    "*   Epochs: 20"
   ]
  },
  {
   "cell_type": "markdown",
   "metadata": {
    "id": "IX0OCq3BB75D"
   },
   "source": [
    "### ***Μεταγλώττιση***"
   ]
  },
  {
   "cell_type": "code",
   "execution_count": null,
   "metadata": {
    "id": "jycoG5bqB97k"
   },
   "outputs": [],
   "source": [
    "model_ΑlexNet_3.compile(optimizer='RMSprop',\n",
    "             loss=tf.keras.losses.Huber(delta=1.0, reduction=\"auto\", name=\"huber_loss\"),\n",
    "              metrics=['accuracy'])"
   ]
  },
  {
   "cell_type": "markdown",
   "metadata": {
    "id": "86vLWpoqCKTg"
   },
   "source": [
    "### ***Εκπαίδευση***"
   ]
  },
  {
   "cell_type": "code",
   "execution_count": null,
   "metadata": {
    "colab": {
     "base_uri": "https://localhost:8080/"
    },
    "id": "SxdLRv_ZCL5P",
    "outputId": "103a7607-aa18-430c-f4e9-0c781100eb24"
   },
   "outputs": [
    {
     "name": "stdout",
     "output_type": "stream",
     "text": [
      "Epoch 1/20\n",
      "67/67 [==============================] - 7s 90ms/step - loss: 6.2650 - accuracy: 0.0505 - val_loss: 5.0513 - val_accuracy: 0.0600\n",
      "Epoch 2/20\n",
      "67/67 [==============================] - 6s 85ms/step - loss: 4.8183 - accuracy: 0.0527 - val_loss: 34.0071 - val_accuracy: 0.0520\n",
      "Epoch 3/20\n",
      "67/67 [==============================] - 6s 85ms/step - loss: 4.6258 - accuracy: 0.0454 - val_loss: 14.0350 - val_accuracy: 0.0520\n",
      "Epoch 4/20\n",
      "67/67 [==============================] - 6s 85ms/step - loss: 4.3755 - accuracy: 0.0464 - val_loss: 4.4076 - val_accuracy: 0.0333\n",
      "Epoch 5/20\n",
      "67/67 [==============================] - 6s 85ms/step - loss: 4.2278 - accuracy: 0.0519 - val_loss: 5.5970 - val_accuracy: 0.0473\n",
      "Epoch 6/20\n",
      "67/67 [==============================] - 6s 85ms/step - loss: 4.0987 - accuracy: 0.0504 - val_loss: 5.5952 - val_accuracy: 0.0560\n",
      "Epoch 7/20\n",
      "67/67 [==============================] - 6s 85ms/step - loss: 4.0254 - accuracy: 0.0467 - val_loss: 4.9225 - val_accuracy: 0.0807\n",
      "Epoch 8/20\n",
      "67/67 [==============================] - 6s 85ms/step - loss: 3.9121 - accuracy: 0.0509 - val_loss: 4.2627 - val_accuracy: 0.0967\n",
      "Epoch 9/20\n",
      "67/67 [==============================] - 6s 85ms/step - loss: 3.7602 - accuracy: 0.0539 - val_loss: 4.1660 - val_accuracy: 0.0507\n",
      "Epoch 10/20\n",
      "67/67 [==============================] - 6s 85ms/step - loss: 3.6807 - accuracy: 0.0526 - val_loss: 4.2043 - val_accuracy: 0.0580\n",
      "Epoch 11/20\n",
      "67/67 [==============================] - 6s 85ms/step - loss: 3.5277 - accuracy: 0.0529 - val_loss: 4.5561 - val_accuracy: 0.0340\n",
      "Epoch 12/20\n",
      "67/67 [==============================] - 6s 85ms/step - loss: 3.4504 - accuracy: 0.0466 - val_loss: 4.5005 - val_accuracy: 0.0840\n",
      "Epoch 13/20\n",
      "67/67 [==============================] - 6s 85ms/step - loss: 3.2995 - accuracy: 0.0494 - val_loss: 4.1643 - val_accuracy: 0.0553\n",
      "Epoch 14/20\n",
      "67/67 [==============================] - 6s 85ms/step - loss: 3.1668 - accuracy: 0.0495 - val_loss: 4.3638 - val_accuracy: 0.0473\n",
      "Epoch 15/20\n",
      "67/67 [==============================] - 6s 85ms/step - loss: 3.0190 - accuracy: 0.0474 - val_loss: 4.6581 - val_accuracy: 0.0460\n",
      "Epoch 16/20\n",
      "67/67 [==============================] - 6s 85ms/step - loss: 2.9332 - accuracy: 0.0473 - val_loss: 3.9904 - val_accuracy: 0.0527\n",
      "Epoch 17/20\n",
      "67/67 [==============================] - 6s 85ms/step - loss: 2.8001 - accuracy: 0.0459 - val_loss: 3.6118 - val_accuracy: 0.0340\n",
      "Epoch 18/20\n",
      "67/67 [==============================] - 6s 85ms/step - loss: 2.6432 - accuracy: 0.0478 - val_loss: 3.8337 - val_accuracy: 0.0307\n",
      "Epoch 19/20\n",
      "67/67 [==============================] - 6s 85ms/step - loss: 2.5787 - accuracy: 0.0507 - val_loss: 3.5893 - val_accuracy: 0.0387\n",
      "Epoch 20/20\n",
      "67/67 [==============================] - 6s 85ms/step - loss: 2.3685 - accuracy: 0.0538 - val_loss: 4.3721 - val_accuracy: 0.0567\n"
     ]
    }
   ],
   "source": [
    "history_AlexNet_3 = model_ΑlexNet_3.fit(a,y_train, epochs=20, batch_size=128,validation_data=(b, y_val))"
   ]
  },
  {
   "cell_type": "markdown",
   "metadata": {
    "id": "CTM7E9hqDFWY"
   },
   "source": [
    "## **Μοντέλο VGG**"
   ]
  },
  {
   "cell_type": "markdown",
   "metadata": {
    "id": "f8mHPQs2DNmV"
   },
   "source": [
    "### ***Σχεδίαση***"
   ]
  },
  {
   "cell_type": "markdown",
   "metadata": {
    "id": "Ckc9QrI_DOro"
   },
   "source": [
    "Πραγματοποιούμε την σχεδίαση του VGG σύμφωνα με την δοσμένη υλοποίηση: https://d2l.ai/chapter_convolutional-modern/vgg.html\n",
    "\n",
    "Το VGG αποτελείται από δύο μέρη, το πρώτο αποτελούμενο από Convolutional και Pooling layers και το δεύτερο από Fully Connected layeers. Το VGG δομείται από διαδοχικά block, καθένα από τα οποία περιλαμβάνει μια ακολουθία convolutional layers και ένα maximum pooling layer.\n",
    "\n",
    "Σημειώνουμε ότι προσθέτουμε ένα normalization μετά από κάθε convolutional layer, καθώς παρατηρήσαμε πειραματικά πως με την προσθήκη αυτή επιτυγχάνονται πολύ υψηλότερα ποσοστά ακρίβειας στο νευρωνικό."
   ]
  },
  {
   "cell_type": "markdown",
   "metadata": {
    "id": "DCxTRBC4EkqB"
   },
   "source": [
    "Μπορούμε να υλοποιήσουμε το κάθε block ως εξής:"
   ]
  },
  {
   "cell_type": "code",
   "execution_count": null,
   "metadata": {
    "id": "p3JiNTFnEfVB"
   },
   "outputs": [],
   "source": [
    "def vgg_block(num_convs, num_channels):\n",
    "    blk = tf.keras.models.Sequential()\n",
    "    for _ in range(num_convs):\n",
    "        blk.add(\n",
    "            tf.keras.layers.Conv2D(num_channels, kernel_size=3,\n",
    "                                   padding='same', activation='relu'))\n",
    "        blk.add(layers.BatchNormalization())\n",
    "    blk.add(tf.keras.layers.MaxPool2D(pool_size=2, strides=2))\n",
    "    return blk"
   ]
  },
  {
   "cell_type": "markdown",
   "metadata": {
    "id": "9kKwldgLEqBj"
   },
   "source": [
    "Έτσι, τελικά το νευρωνικό δημιουργείται με διαδοχικά τέτοια blocks καθώς και την προσθήκη των FC layers στο τέλος:"
   ]
  },
  {
   "cell_type": "code",
   "execution_count": null,
   "metadata": {
    "id": "DCZisUWUFEDa"
   },
   "outputs": [],
   "source": [
    "conv_arch = ((1, 64), (1, 128), (2, 256), (2, 512), (2, 512))\n"
   ]
  },
  {
   "cell_type": "code",
   "execution_count": null,
   "metadata": {
    "id": "ftFrmSvEE5vF"
   },
   "outputs": [],
   "source": [
    "def vgg(conv_arch):\n",
    "    net = tf.keras.models.Sequential()\n",
    "    # The convulational part\n",
    "    for (num_convs, num_channels) in conv_arch:\n",
    "        net.add(vgg_block(num_convs, num_channels))\n",
    "    # The fully-connected part\n",
    "    net.add(\n",
    "        tf.keras.models.Sequential([\n",
    "            tf.keras.layers.Flatten(),\n",
    "            tf.keras.layers.Dense(4096, activation='relu'),\n",
    "            tf.keras.layers.Dropout(0.5),\n",
    "            tf.keras.layers.Dense(4096, activation='relu'),\n",
    "            tf.keras.layers.Dropout(0.5),\n",
    "            tf.keras.layers.Dense(20)]))\n",
    "    return net\n",
    "\n"
   ]
  },
  {
   "cell_type": "markdown",
   "metadata": {
    "id": "kRCDnOwCRqIB"
   },
   "source": [
    "Οι **τρεις** περιπτώσεις σχεδίασης:"
   ]
  },
  {
   "cell_type": "code",
   "execution_count": null,
   "metadata": {
    "id": "_RbJXdAlKbYB"
   },
   "outputs": [],
   "source": [
    "model_VGG_1 = vgg(conv_arch)"
   ]
  },
  {
   "cell_type": "code",
   "execution_count": null,
   "metadata": {
    "id": "XYqhfV0PKcDD"
   },
   "outputs": [],
   "source": [
    "model_VGG_2 = vgg(conv_arch)"
   ]
  },
  {
   "cell_type": "code",
   "execution_count": null,
   "metadata": {
    "id": "_d0kGRXCKcb5"
   },
   "outputs": [],
   "source": [
    "model_VGG_3 = vgg(conv_arch)"
   ]
  },
  {
   "cell_type": "markdown",
   "metadata": {
    "id": "Y_6nNCMFJLWP"
   },
   "source": [
    "## **1η περίπτωση**\n",
    "\n",
    "*   Optimizer: adam\n",
    "*   Loss function: SparseCategoricalCrossentropy\n",
    "*   Batch size: 128\n",
    "*   Epochs: 15"
   ]
  },
  {
   "cell_type": "markdown",
   "metadata": {
    "id": "fyUjd41dGs6X"
   },
   "source": [
    "### ***Μεταγλώττιση***"
   ]
  },
  {
   "cell_type": "code",
   "execution_count": null,
   "metadata": {
    "id": "jKycJVCUGs6h"
   },
   "outputs": [],
   "source": [
    "model_VGG_1.compile(optimizer='adam',\n",
    "             loss=tf.keras.losses.SparseCategoricalCrossentropy(from_logits=True),\n",
    "              metrics=['accuracy'])"
   ]
  },
  {
   "cell_type": "markdown",
   "metadata": {
    "id": "k89p80MIG3SL"
   },
   "source": [
    "### ***Εκπαίδευση***"
   ]
  },
  {
   "cell_type": "code",
   "execution_count": null,
   "metadata": {
    "colab": {
     "base_uri": "https://localhost:8080/"
    },
    "id": "Lx0WdSxYHB4A",
    "outputId": "f2c7a493-da82-4e89-f6d3-1d6453d5dbfb"
   },
   "outputs": [
    {
     "name": "stdout",
     "output_type": "stream",
     "text": [
      "Epoch 1/15\n",
      "67/67 [==============================] - 24s 268ms/step - loss: 4.1756 - accuracy: 0.1927 - val_loss: 4.6287 - val_accuracy: 0.0427\n",
      "Epoch 2/15\n",
      "67/67 [==============================] - 13s 194ms/step - loss: 2.4574 - accuracy: 0.2760 - val_loss: 4.0966 - val_accuracy: 0.0500\n",
      "Epoch 3/15\n",
      "67/67 [==============================] - 13s 193ms/step - loss: 2.2790 - accuracy: 0.3185 - val_loss: 3.1111 - val_accuracy: 0.0893\n",
      "Epoch 4/15\n",
      "67/67 [==============================] - 13s 191ms/step - loss: 2.1489 - accuracy: 0.3559 - val_loss: 3.3073 - val_accuracy: 0.1147\n",
      "Epoch 5/15\n",
      "67/67 [==============================] - 13s 190ms/step - loss: 2.0954 - accuracy: 0.3766 - val_loss: 2.7576 - val_accuracy: 0.1787\n",
      "Epoch 6/15\n",
      "67/67 [==============================] - 13s 191ms/step - loss: 1.9969 - accuracy: 0.4056 - val_loss: 2.2980 - val_accuracy: 0.3193\n",
      "Epoch 7/15\n",
      "67/67 [==============================] - 13s 191ms/step - loss: 1.9003 - accuracy: 0.4211 - val_loss: 1.9966 - val_accuracy: 0.3820\n",
      "Epoch 8/15\n",
      "67/67 [==============================] - 13s 191ms/step - loss: 1.8087 - accuracy: 0.4556 - val_loss: 1.9747 - val_accuracy: 0.3953\n",
      "Epoch 9/15\n",
      "67/67 [==============================] - 13s 191ms/step - loss: 1.7025 - accuracy: 0.4874 - val_loss: 1.7958 - val_accuracy: 0.4440\n",
      "Epoch 10/15\n",
      "67/67 [==============================] - 13s 191ms/step - loss: 1.6064 - accuracy: 0.5154 - val_loss: 1.6569 - val_accuracy: 0.4993\n",
      "Epoch 11/15\n",
      "67/67 [==============================] - 13s 191ms/step - loss: 1.5405 - accuracy: 0.5347 - val_loss: 1.7547 - val_accuracy: 0.4867\n",
      "Epoch 12/15\n",
      "67/67 [==============================] - 13s 191ms/step - loss: 1.4864 - accuracy: 0.5524 - val_loss: 1.8488 - val_accuracy: 0.4713\n",
      "Epoch 13/15\n",
      "67/67 [==============================] - 13s 191ms/step - loss: 1.5049 - accuracy: 0.5714 - val_loss: 2.1107 - val_accuracy: 0.4033\n",
      "Epoch 14/15\n",
      "67/67 [==============================] - 13s 191ms/step - loss: 1.3370 - accuracy: 0.5999 - val_loss: 2.4503 - val_accuracy: 0.3380\n",
      "Epoch 15/15\n",
      "67/67 [==============================] - 13s 191ms/step - loss: 1.3466 - accuracy: 0.5967 - val_loss: 2.1464 - val_accuracy: 0.4193\n"
     ]
    }
   ],
   "source": [
    "history_VGG_1 = model_VGG_1.fit(a,y_train, epochs=15, batch_size=128,validation_data=(b, y_val))"
   ]
  },
  {
   "cell_type": "code",
   "execution_count": null,
   "metadata": {
    "colab": {
     "base_uri": "https://localhost:8080/"
    },
    "id": "L0acIJJuO8AE",
    "outputId": "26db6f2d-4e62-4c43-9bad-1f7c41c1a175"
   },
   "outputs": [
    {
     "name": "stdout",
     "output_type": "stream",
     "text": [
      "Model: \"sequential_3\"\n",
      "_________________________________________________________________\n",
      "Layer (type)                 Output Shape              Param #   \n",
      "=================================================================\n",
      "sequential_4 (Sequential)    (None, 48, 48, 64)        2048      \n",
      "_________________________________________________________________\n",
      "sequential_5 (Sequential)    (None, 24, 24, 128)       74368     \n",
      "_________________________________________________________________\n",
      "sequential_6 (Sequential)    (None, 12, 12, 256)       887296    \n",
      "_________________________________________________________________\n",
      "sequential_7 (Sequential)    (None, 6, 6, 512)         3544064   \n",
      "_________________________________________________________________\n",
      "sequential_8 (Sequential)    (None, 3, 3, 512)         4723712   \n",
      "_________________________________________________________________\n",
      "sequential_9 (Sequential)    (None, 20)                35741716  \n",
      "=================================================================\n",
      "Total params: 44,973,204\n",
      "Trainable params: 44,967,700\n",
      "Non-trainable params: 5,504\n",
      "_________________________________________________________________\n"
     ]
    }
   ],
   "source": [
    "model_VGG_1.summary()"
   ]
  },
  {
   "cell_type": "markdown",
   "metadata": {
    "id": "OPCX27cJJSqt"
   },
   "source": [
    "## **2η περίπτωση**\n",
    "\n",
    "*   Optimizer: adam\n",
    "*   Loss function: SparseCategoricalCrossentropy\n",
    "*   Batch size: 128\n",
    "*   Epochs: 30"
   ]
  },
  {
   "cell_type": "markdown",
   "metadata": {
    "id": "DwCAXnfXJZqV"
   },
   "source": [
    "### ***Μεταγλώττιση***"
   ]
  },
  {
   "cell_type": "code",
   "execution_count": null,
   "metadata": {
    "id": "m5h3nh2OJbgz"
   },
   "outputs": [],
   "source": [
    "model_VGG_2.compile(optimizer='adam',\n",
    "             loss=tf.keras.losses.SparseCategoricalCrossentropy(from_logits=True),\n",
    "              metrics=['accuracy'])"
   ]
  },
  {
   "cell_type": "markdown",
   "metadata": {
    "id": "vaIukpPhJey8"
   },
   "source": [
    "### ***Εκπαίδευση***"
   ]
  },
  {
   "cell_type": "code",
   "execution_count": null,
   "metadata": {
    "colab": {
     "base_uri": "https://localhost:8080/"
    },
    "id": "n60BxKa2JgU-",
    "outputId": "e8c0a15d-d5c5-4920-f305-adb0263bc395"
   },
   "outputs": [
    {
     "name": "stdout",
     "output_type": "stream",
     "text": [
      "Epoch 1/30\n",
      "67/67 [==============================] - 14s 194ms/step - loss: 3.9184 - accuracy: 0.2013 - val_loss: 3.2559 - val_accuracy: 0.0393\n",
      "Epoch 2/30\n",
      "67/67 [==============================] - 13s 191ms/step - loss: 2.5067 - accuracy: 0.2849 - val_loss: 3.3854 - val_accuracy: 0.0600\n",
      "Epoch 3/30\n",
      "67/67 [==============================] - 13s 191ms/step - loss: 2.2886 - accuracy: 0.3327 - val_loss: 3.3194 - val_accuracy: 0.0720\n",
      "Epoch 4/30\n",
      "67/67 [==============================] - 13s 191ms/step - loss: 2.1588 - accuracy: 0.3648 - val_loss: 3.4142 - val_accuracy: 0.1073\n",
      "Epoch 5/30\n",
      "67/67 [==============================] - 13s 191ms/step - loss: 1.9881 - accuracy: 0.4047 - val_loss: 2.8229 - val_accuracy: 0.1640\n",
      "Epoch 6/30\n",
      "67/67 [==============================] - 13s 192ms/step - loss: 1.8960 - accuracy: 0.4288 - val_loss: 2.7214 - val_accuracy: 0.1720\n",
      "Epoch 7/30\n",
      "67/67 [==============================] - 13s 191ms/step - loss: 1.8057 - accuracy: 0.4614 - val_loss: 2.3550 - val_accuracy: 0.2987\n",
      "Epoch 8/30\n",
      "67/67 [==============================] - 13s 191ms/step - loss: 1.6740 - accuracy: 0.5004 - val_loss: 1.9950 - val_accuracy: 0.3953\n",
      "Epoch 9/30\n",
      "67/67 [==============================] - 13s 191ms/step - loss: 1.6205 - accuracy: 0.5087 - val_loss: 2.3414 - val_accuracy: 0.3987\n",
      "Epoch 10/30\n",
      "67/67 [==============================] - 13s 192ms/step - loss: 1.5504 - accuracy: 0.5352 - val_loss: 1.8201 - val_accuracy: 0.4720\n",
      "Epoch 11/30\n",
      "67/67 [==============================] - 13s 191ms/step - loss: 1.4426 - accuracy: 0.5746 - val_loss: 2.1688 - val_accuracy: 0.3873\n",
      "Epoch 12/30\n",
      "67/67 [==============================] - 13s 191ms/step - loss: 1.5794 - accuracy: 0.5365 - val_loss: 1.8181 - val_accuracy: 0.4733\n",
      "Epoch 13/30\n",
      "67/67 [==============================] - 13s 192ms/step - loss: 1.3816 - accuracy: 0.5878 - val_loss: 1.6306 - val_accuracy: 0.5193\n",
      "Epoch 14/30\n",
      "67/67 [==============================] - 13s 192ms/step - loss: 1.1566 - accuracy: 0.6482 - val_loss: 1.8762 - val_accuracy: 0.4267\n",
      "Epoch 15/30\n",
      "67/67 [==============================] - 13s 191ms/step - loss: 1.0874 - accuracy: 0.6713 - val_loss: 1.6717 - val_accuracy: 0.5200\n",
      "Epoch 16/30\n",
      "67/67 [==============================] - 13s 191ms/step - loss: 1.0874 - accuracy: 0.6758 - val_loss: 1.7016 - val_accuracy: 0.5053\n",
      "Epoch 17/30\n",
      "67/67 [==============================] - 13s 192ms/step - loss: 0.9756 - accuracy: 0.7084 - val_loss: 1.6130 - val_accuracy: 0.5307\n",
      "Epoch 18/30\n",
      "67/67 [==============================] - 13s 192ms/step - loss: 0.8545 - accuracy: 0.7405 - val_loss: 1.5845 - val_accuracy: 0.5607\n",
      "Epoch 19/30\n",
      "67/67 [==============================] - 13s 192ms/step - loss: 0.7531 - accuracy: 0.7698 - val_loss: 1.7724 - val_accuracy: 0.5040\n",
      "Epoch 20/30\n",
      "67/67 [==============================] - 13s 192ms/step - loss: 0.7085 - accuracy: 0.7839 - val_loss: 1.9693 - val_accuracy: 0.5060\n",
      "Epoch 21/30\n",
      "67/67 [==============================] - 13s 192ms/step - loss: 0.6074 - accuracy: 0.8184 - val_loss: 1.6678 - val_accuracy: 0.5620\n",
      "Epoch 22/30\n",
      "67/67 [==============================] - 13s 192ms/step - loss: 0.5637 - accuracy: 0.8318 - val_loss: 1.5448 - val_accuracy: 0.5947\n",
      "Epoch 23/30\n",
      "67/67 [==============================] - 13s 192ms/step - loss: 0.5144 - accuracy: 0.8421 - val_loss: 3.0989 - val_accuracy: 0.4867\n",
      "Epoch 24/30\n",
      "67/67 [==============================] - 13s 191ms/step - loss: 0.4553 - accuracy: 0.8601 - val_loss: 1.6479 - val_accuracy: 0.5960\n",
      "Epoch 25/30\n",
      "67/67 [==============================] - 13s 191ms/step - loss: 0.4208 - accuracy: 0.8753 - val_loss: 2.3825 - val_accuracy: 0.4913\n",
      "Epoch 26/30\n",
      "67/67 [==============================] - 13s 192ms/step - loss: 0.4264 - accuracy: 0.8791 - val_loss: 2.0818 - val_accuracy: 0.5487\n",
      "Epoch 27/30\n",
      "67/67 [==============================] - 13s 191ms/step - loss: 0.4071 - accuracy: 0.8839 - val_loss: 1.6329 - val_accuracy: 0.6127\n",
      "Epoch 28/30\n",
      "67/67 [==============================] - 13s 191ms/step - loss: 0.3413 - accuracy: 0.9027 - val_loss: 1.6850 - val_accuracy: 0.6173\n",
      "Epoch 29/30\n",
      "67/67 [==============================] - 13s 191ms/step - loss: 0.2885 - accuracy: 0.9146 - val_loss: 1.7666 - val_accuracy: 0.5920\n",
      "Epoch 30/30\n",
      "67/67 [==============================] - 13s 192ms/step - loss: 0.2701 - accuracy: 0.9225 - val_loss: 1.8168 - val_accuracy: 0.5940\n"
     ]
    }
   ],
   "source": [
    "history_VGG_2 = model_VGG_2.fit(a,y_train, epochs=30, batch_size=128,validation_data=(b, y_val))"
   ]
  },
  {
   "cell_type": "code",
   "execution_count": null,
   "metadata": {
    "colab": {
     "base_uri": "https://localhost:8080/"
    },
    "id": "PsszwyEhPAV3",
    "outputId": "4117fe47-ed31-494f-8aff-f3070205a6d0"
   },
   "outputs": [
    {
     "name": "stdout",
     "output_type": "stream",
     "text": [
      "Model: \"sequential_10\"\n",
      "_________________________________________________________________\n",
      "Layer (type)                 Output Shape              Param #   \n",
      "=================================================================\n",
      "sequential_11 (Sequential)   (None, 48, 48, 64)        2048      \n",
      "_________________________________________________________________\n",
      "sequential_12 (Sequential)   (None, 24, 24, 128)       74368     \n",
      "_________________________________________________________________\n",
      "sequential_13 (Sequential)   (None, 12, 12, 256)       887296    \n",
      "_________________________________________________________________\n",
      "sequential_14 (Sequential)   (None, 6, 6, 512)         3544064   \n",
      "_________________________________________________________________\n",
      "sequential_15 (Sequential)   (None, 3, 3, 512)         4723712   \n",
      "_________________________________________________________________\n",
      "sequential_16 (Sequential)   (None, 20)                35741716  \n",
      "=================================================================\n",
      "Total params: 44,973,204\n",
      "Trainable params: 44,967,700\n",
      "Non-trainable params: 5,504\n",
      "_________________________________________________________________\n"
     ]
    }
   ],
   "source": [
    "model_VGG_2.summary()"
   ]
  },
  {
   "cell_type": "markdown",
   "metadata": {
    "id": "xOxJoIT-N38w"
   },
   "source": [
    "## **3η περίπτωση**\n",
    "\n",
    "*   Optimizer: Nadam\n",
    "*   Loss function: LogCosh\n",
    "*   Batch size: 256\n",
    "*   Epochs: 20"
   ]
  },
  {
   "cell_type": "markdown",
   "metadata": {
    "id": "Gqmnt4HEOZo_"
   },
   "source": [
    "### ***Μεταγλώττιση***"
   ]
  },
  {
   "cell_type": "code",
   "execution_count": null,
   "metadata": {
    "id": "-WEDAu4OObfo"
   },
   "outputs": [],
   "source": [
    "model_VGG_3.compile(optimizer='adam',\n",
    "             loss=tf.keras.losses.LogCosh(reduction=tf.keras.losses.Reduction.NONE),\n",
    "              metrics=['accuracy'])"
   ]
  },
  {
   "cell_type": "markdown",
   "metadata": {
    "id": "LEJNCGMqOgIh"
   },
   "source": [
    "### ***Εκπαίδευση***"
   ]
  },
  {
   "cell_type": "code",
   "execution_count": null,
   "metadata": {
    "colab": {
     "base_uri": "https://localhost:8080/"
    },
    "id": "9Tfeih9iOiSp",
    "outputId": "5c2cd03c-42a0-448c-b67a-4d1aecbb13e7"
   },
   "outputs": [
    {
     "name": "stdout",
     "output_type": "stream",
     "text": [
      "Epoch 1/20\n",
      "34/34 [==============================] - 30s 553ms/step - loss: 6.7659 - accuracy: 0.0481 - val_loss: 4.5782 - val_accuracy: 0.0580\n",
      "Epoch 2/20\n",
      "34/34 [==============================] - 13s 394ms/step - loss: 4.3899 - accuracy: 0.0498 - val_loss: 4.4911 - val_accuracy: 0.0787\n",
      "Epoch 3/20\n",
      "34/34 [==============================] - 13s 392ms/step - loss: 4.2682 - accuracy: 0.0494 - val_loss: 4.9223 - val_accuracy: 0.0427\n",
      "Epoch 4/20\n",
      "34/34 [==============================] - 13s 393ms/step - loss: 4.1250 - accuracy: 0.0499 - val_loss: 6.6978 - val_accuracy: 0.0527\n",
      "Epoch 5/20\n",
      "34/34 [==============================] - 13s 394ms/step - loss: 3.9727 - accuracy: 0.0509 - val_loss: 6.2535 - val_accuracy: 0.0460\n",
      "Epoch 6/20\n",
      "34/34 [==============================] - 13s 394ms/step - loss: 3.8892 - accuracy: 0.0525 - val_loss: 4.8869 - val_accuracy: 0.0627\n",
      "Epoch 7/20\n",
      "34/34 [==============================] - 13s 396ms/step - loss: 3.7489 - accuracy: 0.0534 - val_loss: 4.7037 - val_accuracy: 0.0393\n",
      "Epoch 8/20\n",
      "34/34 [==============================] - 13s 395ms/step - loss: 3.6485 - accuracy: 0.0532 - val_loss: 4.9512 - val_accuracy: 0.0500\n",
      "Epoch 9/20\n",
      "34/34 [==============================] - 13s 396ms/step - loss: 3.5909 - accuracy: 0.0492 - val_loss: 4.7628 - val_accuracy: 0.0460\n",
      "Epoch 10/20\n",
      "34/34 [==============================] - 13s 395ms/step - loss: 3.5789 - accuracy: 0.0509 - val_loss: 4.5530 - val_accuracy: 0.0400\n",
      "Epoch 11/20\n",
      "34/34 [==============================] - 13s 394ms/step - loss: 3.4592 - accuracy: 0.0574 - val_loss: 4.7994 - val_accuracy: 0.0880\n",
      "Epoch 12/20\n",
      "34/34 [==============================] - 13s 394ms/step - loss: 3.5004 - accuracy: 0.0514 - val_loss: 4.3781 - val_accuracy: 0.0327\n",
      "Epoch 13/20\n",
      "34/34 [==============================] - 13s 396ms/step - loss: 3.4431 - accuracy: 0.0481 - val_loss: 4.3615 - val_accuracy: 0.0513\n",
      "Epoch 14/20\n",
      "34/34 [==============================] - 13s 394ms/step - loss: 3.2824 - accuracy: 0.0459 - val_loss: 3.7796 - val_accuracy: 0.0580\n",
      "Epoch 15/20\n",
      "34/34 [==============================] - 13s 396ms/step - loss: 3.2023 - accuracy: 0.0467 - val_loss: 3.9511 - val_accuracy: 0.0620\n",
      "Epoch 16/20\n",
      "34/34 [==============================] - 13s 394ms/step - loss: 3.1558 - accuracy: 0.0521 - val_loss: 3.6996 - val_accuracy: 0.0613\n",
      "Epoch 17/20\n",
      "34/34 [==============================] - 13s 395ms/step - loss: 3.1435 - accuracy: 0.0544 - val_loss: 4.2430 - val_accuracy: 0.0340\n",
      "Epoch 18/20\n",
      "34/34 [==============================] - 13s 393ms/step - loss: 3.0233 - accuracy: 0.0501 - val_loss: 3.5954 - val_accuracy: 0.0520\n",
      "Epoch 19/20\n",
      "34/34 [==============================] - 13s 395ms/step - loss: 2.9061 - accuracy: 0.0487 - val_loss: 3.5447 - val_accuracy: 0.0653\n",
      "Epoch 20/20\n",
      "34/34 [==============================] - 13s 394ms/step - loss: 2.8149 - accuracy: 0.0520 - val_loss: 3.5352 - val_accuracy: 0.0653\n"
     ]
    }
   ],
   "source": [
    "history_VGG_3 = model_VGG_3.fit(a,y_train, epochs=20, batch_size=256,validation_data=(b, y_val))"
   ]
  },
  {
   "cell_type": "code",
   "execution_count": null,
   "metadata": {
    "colab": {
     "base_uri": "https://localhost:8080/"
    },
    "id": "xhAFPzq7PCGW",
    "outputId": "9c83e138-c4a2-4455-bc0e-3b6f73a41459"
   },
   "outputs": [
    {
     "name": "stdout",
     "output_type": "stream",
     "text": [
      "Model: \"sequential_17\"\n",
      "_________________________________________________________________\n",
      "Layer (type)                 Output Shape              Param #   \n",
      "=================================================================\n",
      "sequential_18 (Sequential)   (None, 48, 48, 64)        2048      \n",
      "_________________________________________________________________\n",
      "sequential_19 (Sequential)   (None, 24, 24, 128)       74368     \n",
      "_________________________________________________________________\n",
      "sequential_20 (Sequential)   (None, 12, 12, 256)       887296    \n",
      "_________________________________________________________________\n",
      "sequential_21 (Sequential)   (None, 6, 6, 512)         3544064   \n",
      "_________________________________________________________________\n",
      "sequential_22 (Sequential)   (None, 3, 3, 512)         4723712   \n",
      "_________________________________________________________________\n",
      "sequential_23 (Sequential)   (None, 20)                35741716  \n",
      "=================================================================\n",
      "Total params: 44,973,204\n",
      "Trainable params: 44,967,700\n",
      "Non-trainable params: 5,504\n",
      "_________________________________________________________________\n"
     ]
    }
   ],
   "source": [
    "model_VGG_3.summary()"
   ]
  },
  {
   "cell_type": "markdown",
   "metadata": {
    "id": "Ro3pzwhfWsJY"
   },
   "source": [
    "## **Μοντέλο MyCNN**"
   ]
  },
  {
   "cell_type": "markdown",
   "metadata": {
    "id": "Am23FVBfWy2x"
   },
   "source": [
    "Σχεδιάζουμε ένα δικό μας CNN. Επιλέγουμε να χρησιμοποιήσουμε ως activation function στα convolutional και fully connected layers την Relu, καθώς αυτή, όπως αναφέραμε και στο θεωρητικό τμήμα είναι πιο αποδοτική υπολογιστικά, αλλά και επιτυγχάνει πολύ καλά αποτελέσματα. Επιπλέον, χρησιμοποιούμε Average Pooling για τα pooling layers, ενώ προσθέτουμε και normalization μετά από κάθε convolutional layer (αφού παρατηρήσαμε ότι αυτό βελτιώνει γενικά τα αποτελέσματά μας. Τονίζουμε ότι το output του τελευταίου fully connected layer έχει μέγεθος είκοσι, όσες και οι κατηγορίες εικόνων που διαθέτουμε. Η ακριβής αρχιτεκτονική που χρησιμοποιούμε είναι προφανής στον παρακάτω κώδικα:"
   ]
  },
  {
   "cell_type": "markdown",
   "metadata": {
    "id": "nOdkCDyQW7Mb"
   },
   "source": [
    "## ***Σχεδίαση***"
   ]
  },
  {
   "cell_type": "markdown",
   "metadata": {
    "id": "_nWsIbMygfic"
   },
   "source": [
    "Οι **τρεις** περιπτώσεις σχεδίασης:"
   ]
  },
  {
   "cell_type": "code",
   "execution_count": null,
   "metadata": {
    "id": "vqe6uzPzgyB0"
   },
   "outputs": [],
   "source": [
    "model_mycnn_1 = models.Sequential()\n",
    "model_mycnn_1.add(layers.Conv2D(filters=80, kernel_size=15, activation='relu', padding='same',  input_shape=(96, 96, 3))) \n",
    "model_mycnn_1.add(layers.BatchNormalization())\n",
    "model_mycnn_1.add(layers.AvgPool2D(pool_size=2, strides=2))\n",
    "model_mycnn_1.add(layers.Conv2D(filters=100, kernel_size=5, activation='relu'))\n",
    "model_mycnn_1.add(layers.BatchNormalization())\n",
    "model_mycnn_1.add(layers.AvgPool2D(pool_size=2, strides=2))\n",
    "model_mycnn_1.add(layers.Conv2D(filters=300, kernel_size=5, activation='relu'))\n",
    "model_mycnn_1.add(layers.BatchNormalization())\n",
    "model_mycnn_1.add(layers.Conv2D(filters=300, kernel_size=5, activation='relu'))\n",
    "model_mycnn_1.add(layers.BatchNormalization())\n",
    "model_mycnn_1.add(layers.Conv2D(filters=200, kernel_size=5, activation='relu'))\n",
    "model_mycnn_1.add(layers.BatchNormalization())\n",
    "model_mycnn_1.add(layers.Conv2D(filters=200, kernel_size=5, activation='relu'))\n",
    "model_mycnn_1.add(layers.BatchNormalization())\n",
    "model_mycnn_1.add(layers.AvgPool2D(pool_size=2, strides=2))\n",
    "model_mycnn_1.add(layers.Flatten())\n",
    "model_mycnn_1.add(layers.Dense(2000, activation='relu'))\n",
    "model_mycnn_1.add(layers.Dense(1000, activation='relu'))\n",
    "model_mycnn_1.add(layers.Dense(20))"
   ]
  },
  {
   "cell_type": "code",
   "execution_count": null,
   "metadata": {
    "id": "XdLDE2OEbL9h"
   },
   "outputs": [],
   "source": [
    "model_mycnn_2 = models.Sequential()\n",
    "model_mycnn_2.add(layers.Conv2D(filters=80, kernel_size=15, activation='relu', padding='same',  input_shape=(96, 96, 3))) \n",
    "model_mycnn_2.add(layers.BatchNormalization())\n",
    "model_mycnn_2.add(layers.AvgPool2D(pool_size=2, strides=2))\n",
    "model_mycnn_2.add(layers.Conv2D(filters=100, kernel_size=5, activation='relu'))\n",
    "model_mycnn_2.add(layers.BatchNormalization())\n",
    "model_mycnn_2.add(layers.AvgPool2D(pool_size=2, strides=2))\n",
    "model_mycnn_2.add(layers.Conv2D(filters=300, kernel_size=5, activation='relu'))\n",
    "model_mycnn_2.add(layers.BatchNormalization())\n",
    "model_mycnn_2.add(layers.Conv2D(filters=300, kernel_size=5, activation='relu'))\n",
    "model_mycnn_2.add(layers.BatchNormalization())\n",
    "model_mycnn_2.add(layers.Conv2D(filters=200, kernel_size=5, activation='relu'))\n",
    "model_mycnn_2.add(layers.BatchNormalization())\n",
    "model_mycnn_2.add(layers.Conv2D(filters=200, kernel_size=5, activation='relu'))\n",
    "model_mycnn_2.add(layers.BatchNormalization())\n",
    "model_mycnn_2.add(layers.AvgPool2D(pool_size=2, strides=2))\n",
    "model_mycnn_2.add(layers.Flatten())\n",
    "model_mycnn_2.add(layers.Dense(2000, activation='relu'))\n",
    "model_mycnn_2.add(layers.Dense(1000, activation='relu'))\n",
    "model_mycnn_2.add(layers.Dense(20))"
   ]
  },
  {
   "cell_type": "code",
   "execution_count": null,
   "metadata": {
    "id": "pazj-n-sg1Cs"
   },
   "outputs": [],
   "source": [
    "model_mycnn_3 = models.Sequential()\n",
    "model_mycnn_3.add(layers.Conv2D(filters=80, kernel_size=15, activation='relu', padding='same',  input_shape=(96, 96, 3))) \n",
    "model_mycnn_3.add(layers.BatchNormalization())\n",
    "model_mycnn_3.add(layers.AvgPool2D(pool_size=2, strides=2))\n",
    "model_mycnn_3.add(layers.Conv2D(filters=100, kernel_size=5, activation='relu'))\n",
    "model_mycnn_3.add(layers.BatchNormalization())\n",
    "model_mycnn_3.add(layers.AvgPool2D(pool_size=2, strides=2))\n",
    "model_mycnn_3.add(layers.Conv2D(filters=300, kernel_size=5, activation='relu'))\n",
    "model_mycnn_3.add(layers.BatchNormalization())\n",
    "model_mycnn_3.add(layers.Conv2D(filters=300, kernel_size=5, activation='relu'))\n",
    "model_mycnn_3.add(layers.BatchNormalization())\n",
    "model_mycnn_3.add(layers.Conv2D(filters=200, kernel_size=5, activation='relu'))\n",
    "model_mycnn_3.add(layers.BatchNormalization())\n",
    "model_mycnn_3.add(layers.Conv2D(filters=200, kernel_size=5, activation='relu'))\n",
    "model_mycnn_3.add(layers.BatchNormalization())\n",
    "model_mycnn_3.add(layers.AvgPool2D(pool_size=2, strides=2))\n",
    "model_mycnn_3.add(layers.Flatten())\n",
    "model_mycnn_3.add(layers.Dense(2000, activation='relu'))\n",
    "model_mycnn_3.add(layers.Dense(1000, activation='relu'))\n",
    "model_mycnn_3.add(layers.Dense(20))"
   ]
  },
  {
   "cell_type": "code",
   "execution_count": null,
   "metadata": {
    "colab": {
     "base_uri": "https://localhost:8080/"
    },
    "id": "2F8nRANhczsl",
    "outputId": "4478948c-5cd6-4d5b-8538-70f8d71055fc"
   },
   "outputs": [
    {
     "name": "stdout",
     "output_type": "stream",
     "text": [
      "Model: \"sequential_28\"\n",
      "_________________________________________________________________\n",
      "Layer (type)                 Output Shape              Param #   \n",
      "=================================================================\n",
      "conv2d_51 (Conv2D)           (None, 96, 96, 80)        54080     \n",
      "_________________________________________________________________\n",
      "batch_normalization_51 (Batc (None, 96, 96, 80)        320       \n",
      "_________________________________________________________________\n",
      "average_pooling2d_9 (Average (None, 48, 48, 80)        0         \n",
      "_________________________________________________________________\n",
      "conv2d_52 (Conv2D)           (None, 44, 44, 100)       200100    \n",
      "_________________________________________________________________\n",
      "batch_normalization_52 (Batc (None, 44, 44, 100)       400       \n",
      "_________________________________________________________________\n",
      "average_pooling2d_10 (Averag (None, 22, 22, 100)       0         \n",
      "_________________________________________________________________\n",
      "conv2d_53 (Conv2D)           (None, 18, 18, 300)       750300    \n",
      "_________________________________________________________________\n",
      "batch_normalization_53 (Batc (None, 18, 18, 300)       1200      \n",
      "_________________________________________________________________\n",
      "conv2d_54 (Conv2D)           (None, 14, 14, 300)       2250300   \n",
      "_________________________________________________________________\n",
      "batch_normalization_54 (Batc (None, 14, 14, 300)       1200      \n",
      "_________________________________________________________________\n",
      "conv2d_55 (Conv2D)           (None, 10, 10, 200)       1500200   \n",
      "_________________________________________________________________\n",
      "batch_normalization_55 (Batc (None, 10, 10, 200)       800       \n",
      "_________________________________________________________________\n",
      "conv2d_56 (Conv2D)           (None, 6, 6, 200)         1000200   \n",
      "_________________________________________________________________\n",
      "batch_normalization_56 (Batc (None, 6, 6, 200)         800       \n",
      "_________________________________________________________________\n",
      "average_pooling2d_11 (Averag (None, 3, 3, 200)         0         \n",
      "_________________________________________________________________\n",
      "flatten_10 (Flatten)         (None, 1800)              0         \n",
      "_________________________________________________________________\n",
      "dense_30 (Dense)             (None, 2000)              3602000   \n",
      "_________________________________________________________________\n",
      "dense_31 (Dense)             (None, 1000)              2001000   \n",
      "_________________________________________________________________\n",
      "dense_32 (Dense)             (None, 20)                20020     \n",
      "=================================================================\n",
      "Total params: 11,382,920\n",
      "Trainable params: 11,380,560\n",
      "Non-trainable params: 2,360\n",
      "_________________________________________________________________\n"
     ]
    }
   ],
   "source": [
    "model_mycnn_2.summary()"
   ]
  },
  {
   "cell_type": "markdown",
   "metadata": {
    "id": "lDOdyinFgvaj"
   },
   "source": [
    "Χρησιμοποιούμε διαφορετικούς συνδυασμούς για optimizer, loss, batch size και epochs:"
   ]
  },
  {
   "cell_type": "markdown",
   "metadata": {
    "id": "R5dgxIWshFxS"
   },
   "source": [
    "## **1η περίπτωση**\n",
    "\n",
    "*   Optimizer: RMSprop\n",
    "*   Loss function: LogCosh\n",
    "*   Batch size: 128\n",
    "*   Epochs: 15"
   ]
  },
  {
   "cell_type": "markdown",
   "metadata": {
    "id": "ypQ8q8B6ha6j"
   },
   "source": [
    "### ***Μεταγλώττιση***"
   ]
  },
  {
   "cell_type": "code",
   "execution_count": null,
   "metadata": {
    "id": "lg5tYSfvhv47"
   },
   "outputs": [],
   "source": [
    "model_mycnn_1.compile(optimizer='RMSprop',\n",
    "           loss= tf.keras.losses.LogCosh(reduction=\"auto\", name=\"log_cosh\"),\n",
    "              metrics=['accuracy'])"
   ]
  },
  {
   "cell_type": "markdown",
   "metadata": {
    "id": "-ExDDiV_hrqT"
   },
   "source": [
    "### ***Εκπαίδευση***"
   ]
  },
  {
   "cell_type": "code",
   "execution_count": null,
   "metadata": {
    "colab": {
     "base_uri": "https://localhost:8080/"
    },
    "id": "xcq08uF_hggq",
    "outputId": "a731de59-e33c-460d-a376-2c6c231d590f"
   },
   "outputs": [
    {
     "name": "stdout",
     "output_type": "stream",
     "text": [
      "Epoch 1/15\n",
      "67/67 [==============================] - 25s 267ms/step - loss: 5.0805 - accuracy: 0.0535 - val_loss: 144.4487 - val_accuracy: 0.0520\n",
      "Epoch 2/15\n",
      "67/67 [==============================] - 13s 193ms/step - loss: 4.5106 - accuracy: 0.0492 - val_loss: 90.8589 - val_accuracy: 0.0460\n",
      "Epoch 3/15\n",
      "67/67 [==============================] - 13s 191ms/step - loss: 4.3072 - accuracy: 0.0562 - val_loss: 7.2561 - val_accuracy: 0.0480\n",
      "Epoch 4/15\n",
      "67/67 [==============================] - 13s 191ms/step - loss: 4.1580 - accuracy: 0.0520 - val_loss: 20.3604 - val_accuracy: 0.0493\n",
      "Epoch 5/15\n",
      "67/67 [==============================] - 13s 190ms/step - loss: 4.0286 - accuracy: 0.0511 - val_loss: 4.2906 - val_accuracy: 0.0527\n",
      "Epoch 6/15\n",
      "67/67 [==============================] - 13s 192ms/step - loss: 3.9675 - accuracy: 0.0504 - val_loss: 4.7446 - val_accuracy: 0.0660\n",
      "Epoch 7/15\n",
      "67/67 [==============================] - 13s 192ms/step - loss: 3.8846 - accuracy: 0.0513 - val_loss: 5.2588 - val_accuracy: 0.0507\n",
      "Epoch 8/15\n",
      "67/67 [==============================] - 13s 192ms/step - loss: 3.8116 - accuracy: 0.0504 - val_loss: 4.2520 - val_accuracy: 0.0553\n",
      "Epoch 9/15\n",
      "67/67 [==============================] - 13s 192ms/step - loss: 3.7526 - accuracy: 0.0516 - val_loss: 4.2172 - val_accuracy: 0.0480\n",
      "Epoch 10/15\n",
      "67/67 [==============================] - 13s 192ms/step - loss: 3.6786 - accuracy: 0.0449 - val_loss: 4.2786 - val_accuracy: 0.0520\n",
      "Epoch 11/15\n",
      "67/67 [==============================] - 13s 192ms/step - loss: 3.6457 - accuracy: 0.0493 - val_loss: 4.4170 - val_accuracy: 0.0480\n",
      "Epoch 12/15\n",
      "67/67 [==============================] - 13s 192ms/step - loss: 3.5893 - accuracy: 0.0487 - val_loss: 4.1181 - val_accuracy: 0.0447\n",
      "Epoch 13/15\n",
      "67/67 [==============================] - 13s 192ms/step - loss: 3.5458 - accuracy: 0.0496 - val_loss: 4.2372 - val_accuracy: 0.0493\n",
      "Epoch 14/15\n",
      "67/67 [==============================] - 13s 192ms/step - loss: 3.4859 - accuracy: 0.0504 - val_loss: 3.9060 - val_accuracy: 0.0433\n",
      "Epoch 15/15\n",
      "67/67 [==============================] - 13s 192ms/step - loss: 3.4357 - accuracy: 0.0489 - val_loss: 4.0406 - val_accuracy: 0.0480\n"
     ]
    }
   ],
   "source": [
    "history_mycnn_1 = model_mycnn_1.fit(a,y_train, epochs=15, batch_size=128,validation_data=(b, y_val))"
   ]
  },
  {
   "cell_type": "markdown",
   "metadata": {
    "id": "lkFKFWHCdBW0"
   },
   "source": [
    "## **2η περίπτωση**\n",
    "\n",
    "*   Optimizer: adam\n",
    "*   Loss function: SparseCategoricalCrossentropy\n",
    "*   Batch size: 128\n",
    "*   Epochs: 30"
   ]
  },
  {
   "cell_type": "markdown",
   "metadata": {
    "id": "p6AkjGsldDQl"
   },
   "source": [
    "### ***Μεταγλώττιση***"
   ]
  },
  {
   "cell_type": "code",
   "execution_count": null,
   "metadata": {
    "id": "Jirv8VnYdEvh"
   },
   "outputs": [],
   "source": [
    "model_mycnn_2.compile(optimizer='adam',\n",
    "             loss=tf.keras.losses.SparseCategoricalCrossentropy(from_logits=True),\n",
    "              metrics=['accuracy'])"
   ]
  },
  {
   "cell_type": "markdown",
   "metadata": {
    "id": "H_GdClz2dHVu"
   },
   "source": [
    "### ***Εκπαίδευση***"
   ]
  },
  {
   "cell_type": "code",
   "execution_count": null,
   "metadata": {
    "colab": {
     "base_uri": "https://localhost:8080/"
    },
    "id": "AzXw8paTdJHU",
    "outputId": "13ff3219-18bc-489e-f1f2-94d22e4792d1"
   },
   "outputs": [
    {
     "name": "stdout",
     "output_type": "stream",
     "text": [
      "Epoch 1/30\n",
      "67/67 [==============================] - 29s 425ms/step - loss: 2.5964 - accuracy: 0.2466 - val_loss: 5.3548 - val_accuracy: 0.1393\n",
      "Epoch 2/30\n",
      "67/67 [==============================] - 28s 419ms/step - loss: 2.1724 - accuracy: 0.3360 - val_loss: 4.4323 - val_accuracy: 0.1833\n",
      "Epoch 3/30\n",
      "67/67 [==============================] - 28s 418ms/step - loss: 2.0268 - accuracy: 0.3749 - val_loss: 2.3764 - val_accuracy: 0.3367\n",
      "Epoch 4/30\n",
      "67/67 [==============================] - 28s 418ms/step - loss: 1.9007 - accuracy: 0.4188 - val_loss: 2.4770 - val_accuracy: 0.2960\n",
      "Epoch 5/30\n",
      "67/67 [==============================] - 28s 419ms/step - loss: 1.7968 - accuracy: 0.4425 - val_loss: 2.7174 - val_accuracy: 0.2947\n",
      "Epoch 6/30\n",
      "67/67 [==============================] - 28s 420ms/step - loss: 1.6769 - accuracy: 0.4787 - val_loss: 2.1827 - val_accuracy: 0.3627\n",
      "Epoch 7/30\n",
      "67/67 [==============================] - 28s 420ms/step - loss: 1.5839 - accuracy: 0.5016 - val_loss: 2.6175 - val_accuracy: 0.3480\n",
      "Epoch 8/30\n",
      "67/67 [==============================] - 28s 420ms/step - loss: 1.4643 - accuracy: 0.5391 - val_loss: 3.1161 - val_accuracy: 0.2900\n",
      "Epoch 9/30\n",
      "67/67 [==============================] - 28s 420ms/step - loss: 1.3947 - accuracy: 0.5551 - val_loss: 2.2769 - val_accuracy: 0.3973\n",
      "Epoch 10/30\n",
      "67/67 [==============================] - 28s 420ms/step - loss: 1.2835 - accuracy: 0.5898 - val_loss: 2.1633 - val_accuracy: 0.4267\n",
      "Epoch 11/30\n",
      "67/67 [==============================] - 28s 420ms/step - loss: 1.1621 - accuracy: 0.6347 - val_loss: 2.7937 - val_accuracy: 0.3373\n",
      "Epoch 12/30\n",
      "67/67 [==============================] - 28s 420ms/step - loss: 1.0650 - accuracy: 0.6519 - val_loss: 2.5910 - val_accuracy: 0.3693\n",
      "Epoch 13/30\n",
      "67/67 [==============================] - 28s 420ms/step - loss: 0.9295 - accuracy: 0.6951 - val_loss: 2.3603 - val_accuracy: 0.4360\n",
      "Epoch 14/30\n",
      "67/67 [==============================] - 28s 420ms/step - loss: 0.8083 - accuracy: 0.7335 - val_loss: 2.4294 - val_accuracy: 0.4420\n",
      "Epoch 15/30\n",
      "67/67 [==============================] - 28s 420ms/step - loss: 0.7275 - accuracy: 0.7529 - val_loss: 2.9295 - val_accuracy: 0.4287\n",
      "Epoch 16/30\n",
      "67/67 [==============================] - 28s 420ms/step - loss: 0.6058 - accuracy: 0.7949 - val_loss: 2.9004 - val_accuracy: 0.4373\n",
      "Epoch 17/30\n",
      "67/67 [==============================] - 28s 420ms/step - loss: 0.4820 - accuracy: 0.8321 - val_loss: 2.8993 - val_accuracy: 0.4413\n",
      "Epoch 18/30\n",
      "67/67 [==============================] - 28s 419ms/step - loss: 0.4197 - accuracy: 0.8584 - val_loss: 3.0148 - val_accuracy: 0.4553\n",
      "Epoch 19/30\n",
      "67/67 [==============================] - 28s 419ms/step - loss: 0.3482 - accuracy: 0.8882 - val_loss: 3.1325 - val_accuracy: 0.4587\n",
      "Epoch 20/30\n",
      "67/67 [==============================] - 28s 420ms/step - loss: 0.2898 - accuracy: 0.9015 - val_loss: 3.2917 - val_accuracy: 0.4400\n",
      "Epoch 21/30\n",
      "67/67 [==============================] - 28s 420ms/step - loss: 0.2416 - accuracy: 0.9176 - val_loss: 3.3517 - val_accuracy: 0.4727\n",
      "Epoch 22/30\n",
      "67/67 [==============================] - 28s 420ms/step - loss: 0.2041 - accuracy: 0.9306 - val_loss: 3.4033 - val_accuracy: 0.4767\n",
      "Epoch 23/30\n",
      "67/67 [==============================] - 28s 419ms/step - loss: 0.1978 - accuracy: 0.9313 - val_loss: 3.2878 - val_accuracy: 0.4940\n",
      "Epoch 24/30\n",
      "67/67 [==============================] - 28s 420ms/step - loss: 0.1580 - accuracy: 0.9466 - val_loss: 3.4632 - val_accuracy: 0.4720\n",
      "Epoch 25/30\n",
      "67/67 [==============================] - 28s 420ms/step - loss: 0.1481 - accuracy: 0.9524 - val_loss: 3.7509 - val_accuracy: 0.4707\n",
      "Epoch 26/30\n",
      "67/67 [==============================] - 28s 420ms/step - loss: 0.1893 - accuracy: 0.9364 - val_loss: 3.5438 - val_accuracy: 0.4707\n",
      "Epoch 27/30\n",
      "67/67 [==============================] - 28s 420ms/step - loss: 0.1365 - accuracy: 0.9551 - val_loss: 3.6684 - val_accuracy: 0.4773\n",
      "Epoch 28/30\n",
      "67/67 [==============================] - 28s 420ms/step - loss: 0.1423 - accuracy: 0.9529 - val_loss: 3.6093 - val_accuracy: 0.4727\n",
      "Epoch 29/30\n",
      "67/67 [==============================] - 28s 420ms/step - loss: 0.0995 - accuracy: 0.9676 - val_loss: 3.8875 - val_accuracy: 0.4607\n",
      "Epoch 30/30\n",
      "67/67 [==============================] - 28s 419ms/step - loss: 0.0961 - accuracy: 0.9671 - val_loss: 3.6374 - val_accuracy: 0.4760\n"
     ]
    }
   ],
   "source": [
    "history_mycnn_2 = model_mycnn_2.fit(a,y_train, epochs=30, batch_size=128,validation_data=(b, y_val))"
   ]
  },
  {
   "cell_type": "markdown",
   "metadata": {
    "id": "ZzRxrUmKff4j"
   },
   "source": [
    "## **3η περίπτωση**\n",
    "\n",
    "*   Optimizer: adam\n",
    "*   Loss function: SparseCategoricalCrossentropy\n",
    "*   Batch size: 256\n",
    "*   Epochs: 10"
   ]
  },
  {
   "cell_type": "markdown",
   "metadata": {
    "id": "nbKnXL57iWEz"
   },
   "source": [
    "### ***Μεταγλώττιση***"
   ]
  },
  {
   "cell_type": "code",
   "execution_count": null,
   "metadata": {
    "id": "infCU1oKiPbt"
   },
   "outputs": [],
   "source": [
    "model_mycnn_3.compile(optimizer='adam',\n",
    "             loss=tf.keras.losses.SparseCategoricalCrossentropy(from_logits=True),\n",
    "              metrics=['accuracy'])"
   ]
  },
  {
   "cell_type": "markdown",
   "metadata": {
    "id": "BJSVwl3pievz"
   },
   "source": [
    "### ***Εκπαίδευση***"
   ]
  },
  {
   "cell_type": "code",
   "execution_count": null,
   "metadata": {
    "colab": {
     "base_uri": "https://localhost:8080/"
    },
    "id": "WSVU17mVf1L0",
    "outputId": "00b5ee0a-ddda-4543-fede-09bdd7d6dcaa"
   },
   "outputs": [
    {
     "name": "stdout",
     "output_type": "stream",
     "text": [
      "Epoch 1/10\n",
      "34/34 [==============================] - 28s 503ms/step - loss: 2.6474 - accuracy: 0.2374 - val_loss: 48.4227 - val_accuracy: 0.0927\n",
      "Epoch 2/10\n",
      "34/34 [==============================] - 12s 362ms/step - loss: 2.1306 - accuracy: 0.3396 - val_loss: 9.6201 - val_accuracy: 0.1573\n",
      "Epoch 3/10\n",
      "34/34 [==============================] - 12s 362ms/step - loss: 2.0151 - accuracy: 0.3799 - val_loss: 3.4511 - val_accuracy: 0.2253\n",
      "Epoch 4/10\n",
      "34/34 [==============================] - 12s 362ms/step - loss: 1.8936 - accuracy: 0.4089 - val_loss: 2.9462 - val_accuracy: 0.2473\n",
      "Epoch 5/10\n",
      "34/34 [==============================] - 12s 362ms/step - loss: 1.7912 - accuracy: 0.4418 - val_loss: 2.7087 - val_accuracy: 0.2933\n",
      "Epoch 6/10\n",
      "34/34 [==============================] - 12s 361ms/step - loss: 1.6862 - accuracy: 0.4705 - val_loss: 2.2702 - val_accuracy: 0.3747\n",
      "Epoch 7/10\n",
      "34/34 [==============================] - 12s 361ms/step - loss: 1.5913 - accuracy: 0.4991 - val_loss: 2.2431 - val_accuracy: 0.3613\n",
      "Epoch 8/10\n",
      "34/34 [==============================] - 12s 363ms/step - loss: 1.4922 - accuracy: 0.5260 - val_loss: 2.7133 - val_accuracy: 0.3120\n",
      "Epoch 9/10\n",
      "34/34 [==============================] - 12s 362ms/step - loss: 1.3742 - accuracy: 0.5567 - val_loss: 2.7329 - val_accuracy: 0.3427\n",
      "Epoch 10/10\n",
      "34/34 [==============================] - 12s 361ms/step - loss: 1.2583 - accuracy: 0.5905 - val_loss: 2.4978 - val_accuracy: 0.3847\n"
     ]
    }
   ],
   "source": [
    "history_mycnn_3 = model_mycnn_3.fit(a,y_train, epochs=10, batch_size=256,validation_data=(b, y_val))"
   ]
  },
  {
   "cell_type": "markdown",
   "metadata": {
    "id": "pKD-zBOrUQua"
   },
   "source": [
    "## **Βήμα 2: Αξιολόγηση των μοντέλων**"
   ]
  },
  {
   "cell_type": "markdown",
   "metadata": {
    "id": "4KSOOle80xD8"
   },
   "source": [
    "### **1.Απεικόνιση ακρίβειας εκπαίδευσης και επικύρωσης σε κοινό διάγραμμα για όλους τους συνδυασμούς του ερωτήματος 1**\n"
   ]
  },
  {
   "cell_type": "markdown",
   "metadata": {
    "id": "YBLXZJzZUzLy"
   },
   "source": [
    "#### **1ο μοντέλο (LeNet)**"
   ]
  },
  {
   "cell_type": "code",
   "execution_count": null,
   "metadata": {
    "colab": {
     "base_uri": "https://localhost:8080/",
     "height": 266
    },
    "id": "xtDUjBIsUffB",
    "outputId": "ed39ad25-325e-467c-fa38-e7b6af28e36b"
   },
   "outputs": [
    {
     "data": {
      "image/png": "[encoded data removed]",
      "text/plain": [
       "<Figure size 1440x216 with 3 Axes>"
      ]
     },
     "metadata": {
      "needs_background": "light",
      "tags": []
     },
     "output_type": "display_data"
    }
   ],
   "source": [
    "plt.figure(figsize=(20, 3))\n",
    "plt.subplot(1, 3, 1)\n",
    "plt.plot(history_lenet_1.history['accuracy'], label='accuracy')\n",
    "plt.plot(history_lenet_1.history['val_accuracy'], label = 'val_accuracy')\n",
    "plt.xlabel('Epoch')\n",
    "plt.ylabel('Accuracy')\n",
    "plt.ylim([0, 1])\n",
    "plt.legend(loc='lower right')\n",
    "plt.title(\"LeNet, Optimizer: Adam, BatchSize = 128, epochs = 15\",size=10)\n",
    "\n",
    "plt.subplot(1, 3, 2)\n",
    "plt.plot(history_lenet_2.history['accuracy'], label='accuracy')\n",
    "plt.plot(history_lenet_2.history['val_accuracy'], label = 'val_accuracy')\n",
    "plt.xlabel('Epoch')\n",
    "plt.ylabel('Accuracy')\n",
    "plt.ylim([0, 1])\n",
    "plt.legend(loc='lower right')\n",
    "plt.title(\"LeNet, Optimizer: RMSprop, BatchSize = 256, epochs = 10\",size=10)\n",
    "\n",
    "plt.subplot(1, 3, 3)\n",
    "plt.plot(history_lenet_3.history['accuracy'], label='accuracy')\n",
    "plt.plot(history_lenet_3.history['val_accuracy'], label = 'val_accuracy')\n",
    "plt.xlabel('Epoch')\n",
    "plt.ylabel('Accuracy')\n",
    "plt.ylim([0, 1])\n",
    "plt.legend(loc='lower right')\n",
    "plt.title(\"LeNet, Optimizer: Adamax, BatchSize = 400, epochs = 20\",size=10)\n",
    "\n",
    "plt.subplots_adjust(left=0, bottom=0, right=None, top= None, wspace=0.2, hspace=0.5)"
   ]
  },
  {
   "cell_type": "markdown",
   "metadata": {
    "id": "hpo3VDOYbo2A"
   },
   "source": [
    "Από τα παραπάνω διαγράμματα βλέπουμε ότι η περίπτωση με την καλύτερη ορθότητα είναι η 1η, δηλαδή με:\n",
    "* optimizer:Adam\n",
    "* batch size:128\n",
    "* epochs:15\n",
    "\n",
    "\n"
   ]
  },
  {
   "cell_type": "markdown",
   "metadata": {
    "id": "T7t__GmBWq3v"
   },
   "source": [
    "#### **2ο μοντέλο (AlexNet)**"
   ]
  },
  {
   "cell_type": "code",
   "execution_count": null,
   "metadata": {
    "colab": {
     "base_uri": "https://localhost:8080/",
     "height": 266
    },
    "id": "Zy7YE5AAcIxc",
    "outputId": "46a891d3-740a-4d53-9a92-4a25d45dd957"
   },
   "outputs": [
    {
     "data": {
      "image/png": "[encoded data removed]",
      "text/plain": [
       "<Figure size 1440x216 with 3 Axes>"
      ]
     },
     "metadata": {
      "needs_background": "light",
      "tags": []
     },
     "output_type": "display_data"
    }
   ],
   "source": [
    "plt.figure(figsize=(20, 3))\n",
    "plt.subplot(1, 3, 1)\n",
    "plt.plot(history_AlexNet_1.history['accuracy'], label='accuracy')\n",
    "plt.plot(history_AlexNet_1.history['val_accuracy'], label = 'val_accuracy')\n",
    "plt.xlabel('Epoch')\n",
    "plt.ylabel('Accuracy')\n",
    "plt.ylim([0, 1])\n",
    "plt.legend(loc='lower right')\n",
    "plt.title(\"AlexNet, Optimizer: Adam, BatchSize = 256, epochs =30\",size=10)\n",
    "\n",
    "plt.subplot(1, 3, 2)\n",
    "plt.plot(history_AlexNet_2.history['accuracy'], label='accuracy')\n",
    "plt.plot(history_AlexNet_2.history['val_accuracy'], label = 'val_accuracy')\n",
    "plt.xlabel('Epoch')\n",
    "plt.ylabel('Accuracy')\n",
    "plt.ylim([0, 1])\n",
    "plt.legend(loc='lower right')\n",
    "plt.title(\"AlexNet, Optimizer: Αdam, BatchSize = 128, epochs = 15\",size=10)\n",
    "\n",
    "plt.subplot(1, 3, 3)\n",
    "plt.plot(history_AlexNet_3.history['accuracy'], label='accuracy')\n",
    "plt.plot(history_AlexNet_3.history['val_accuracy'], label = 'val_accuracy')\n",
    "plt.xlabel('Epoch')\n",
    "plt.ylabel('Accuracy')\n",
    "plt.ylim([0, 1])\n",
    "plt.legend(loc='lower right')\n",
    "plt.title(\"AlexNet, Optimizer: RMSprop, BatchSize = 128, epochs = 20\",size=10)\n",
    "\n",
    "plt.subplots_adjust(left=0, bottom=0, right=None, top= None, wspace=0.2, hspace=0.5)"
   ]
  },
  {
   "cell_type": "markdown",
   "metadata": {
    "id": "-cPDhU_9cuuk"
   },
   "source": [
    "Από τα παραπάνω διαγράμματα βλέπουμε ότι η περίπτωση με την καλύτερη ορθότητα είναι η 1η, δηλαδή με:\n",
    "* optimizer:Adam\n",
    "* batch size:256\n",
    "* epochs:30"
   ]
  },
  {
   "cell_type": "markdown",
   "metadata": {
    "id": "SNc0xalkdWGa"
   },
   "source": [
    "#### **3ο μοντέλο (VGG)**"
   ]
  },
  {
   "cell_type": "code",
   "execution_count": null,
   "metadata": {
    "colab": {
     "base_uri": "https://localhost:8080/",
     "height": 266
    },
    "id": "SszKEueGeM_M",
    "outputId": "cf3ad070-6ead-4e7c-b177-8e70af274ccc"
   },
   "outputs": [
    {
     "data": {
      "image/png": "[encoded data removed]",
      "text/plain": [
       "<Figure size 1440x216 with 3 Axes>"
      ]
     },
     "metadata": {
      "needs_background": "light",
      "tags": []
     },
     "output_type": "display_data"
    }
   ],
   "source": [
    "plt.figure(figsize=(20, 3))\n",
    "plt.subplot(1, 3, 1)\n",
    "plt.plot(history_VGG_1.history['accuracy'], label='accuracy')\n",
    "plt.plot(history_VGG_1.history['val_accuracy'], label = 'val_accuracy')\n",
    "plt.xlabel('Epoch')\n",
    "plt.ylabel('Accuracy')\n",
    "plt.ylim([0, 1])\n",
    "plt.legend(loc='lower right')\n",
    "plt.title(\"VGG, Optimizer: Adam, BatchSize = 128, epochs = 15\",size=10)\n",
    "\n",
    "plt.subplot(1, 3, 2)\n",
    "plt.plot(history_VGG_2.history['accuracy'], label='accuracy')\n",
    "plt.plot(history_VGG_2.history['val_accuracy'], label = 'val_accuracy')\n",
    "plt.xlabel('Epoch')\n",
    "plt.ylabel('Accuracy')\n",
    "plt.ylim([0, 1])\n",
    "plt.legend(loc='lower right')\n",
    "plt.title(\"VGG, Optimizer: Adam, BatchSize = 128, epochs = 30\",size=10)\n",
    "\n",
    "plt.subplot(1, 3, 3)\n",
    "plt.plot(history_VGG_3.history['accuracy'], label='accuracy')\n",
    "plt.plot(history_VGG_3.history['val_accuracy'], label = 'val_accuracy')\n",
    "plt.xlabel('Epoch')\n",
    "plt.ylabel('Accuracy')\n",
    "plt.ylim([0, 1])\n",
    "plt.legend(loc='lower right')\n",
    "plt.title(\"VGG, Optimizer: Nadam, BatchSize = 256, epochs = 20\",size=10)\n",
    "\n",
    "plt.subplots_adjust(left=0, bottom=0, right=None, top= None, wspace=0.2, hspace=0.5)"
   ]
  },
  {
   "cell_type": "markdown",
   "metadata": {
    "id": "JFZ2wsAEe6Hq"
   },
   "source": [
    "Από τα παραπάνω διαγράμματα βλέπουμε ότι η περίπτωση με την καλύτερη ορθότητα είναι η 2η, δηλαδή με:\n",
    "* optimizer:Adam\n",
    "* batch size:128\n",
    "* epochs:30"
   ]
  },
  {
   "cell_type": "markdown",
   "metadata": {
    "id": "MfvjEOs7mUkf"
   },
   "source": [
    "#### **4ο μοντέλο (MyCNN)**"
   ]
  },
  {
   "cell_type": "code",
   "execution_count": null,
   "metadata": {
    "colab": {
     "base_uri": "https://localhost:8080/",
     "height": 266
    },
    "id": "8r4zyReGmYZA",
    "outputId": "fe7e98b6-e08d-4bbd-dad2-7bdf5e58ff46"
   },
   "outputs": [
    {
     "data": {
      "image/png": "[encoded data removed]",
      "text/plain": [
       "<Figure size 1440x216 with 3 Axes>"
      ]
     },
     "metadata": {
      "needs_background": "light",
      "tags": []
     },
     "output_type": "display_data"
    }
   ],
   "source": [
    "plt.figure(figsize=(20, 3))\n",
    "plt.subplot(1, 3, 1)\n",
    "plt.plot(history_mycnn_1.history['accuracy'], label='accuracy')\n",
    "plt.plot(history_mycnn_1.history['val_accuracy'], label = 'val_accuracy')\n",
    "plt.xlabel('Epoch')\n",
    "plt.ylabel('Accuracy')\n",
    "plt.ylim([0, 1])\n",
    "plt.legend(loc='lower right')\n",
    "plt.title(\"MyCNN, Optimizer: RMSprop, BatchSize = 128, epochs = 15\",size=10)\n",
    "\n",
    "plt.subplot(1, 3, 2)\n",
    "plt.plot(history_mycnn_2.history['accuracy'], label='accuracy')\n",
    "plt.plot(history_mycnn_2.history['val_accuracy'], label = 'val_accuracy')\n",
    "plt.xlabel('Epoch')\n",
    "plt.ylabel('Accuracy')\n",
    "plt.ylim([0, 1])\n",
    "plt.legend(loc='lower right')\n",
    "plt.title(\"MyCNN, Optimizer: Adam, BatchSize = 128, epochs = 30\",size=10)\n",
    "\n",
    "plt.subplot(1, 3, 3)\n",
    "plt.plot(history_mycnn_3.history['accuracy'], label='accuracy')\n",
    "plt.plot(history_mycnn_3.history['val_accuracy'], label = 'val_accuracy')\n",
    "plt.xlabel('Epoch')\n",
    "plt.ylabel('Accuracy')\n",
    "plt.ylim([0, 1])\n",
    "plt.legend(loc='lower right')\n",
    "plt.title(\"MyCNN, Optimizer: Adam, BatchSize = 256, epochs = 10\",size=10)\n",
    "\n",
    "plt.subplots_adjust(left=0, bottom=0, right=None, top= None, wspace=0.2, hspace=0.5)"
   ]
  },
  {
   "cell_type": "markdown",
   "metadata": {
    "id": "ym7MzAxdvIT4"
   },
   "source": [
    "Από τα παραπάνω διαγράμματα βλέπουμε ότι η περίπτωση με την καλύτερη ορθότητα είναι η 2η, δηλαδή με:\n",
    "* optimizer:Adam\n",
    "* batch size:128\n",
    "* epochs:30"
   ]
  },
  {
   "cell_type": "markdown",
   "metadata": {
    "id": "KTVe5UGOv7GZ"
   },
   "source": [
    "### **2.Απεικόνιση ακρίβειας εκπαίδευσης και επικύρωσης σε κοινό διάγραμμα για κάθε ένα από τα μοντέλα με την βέλτιστη ορθότητα**"
   ]
  },
  {
   "cell_type": "code",
   "execution_count": null,
   "metadata": {
    "colab": {
     "base_uri": "https://localhost:8080/",
     "height": 373
    },
    "id": "l9YN3NtGwTQa",
    "outputId": "8e152958-6f8a-459c-9997-16afcd3970a8"
   },
   "outputs": [
    {
     "data": {
      "text/plain": [
       "Text(0.5, 1.0, 'Κοινό διάγραμμα βέλτιστων μοντέλων')"
      ]
     },
     "execution_count": 126,
     "metadata": {
      "tags": []
     },
     "output_type": "execute_result"
    },
    {
     "data": {
      "image/png": "[encoded data removed]",
      "text/plain": [
       "<Figure size 1080x360 with 1 Axes>"
      ]
     },
     "metadata": {
      "needs_background": "light",
      "tags": []
     },
     "output_type": "display_data"
    }
   ],
   "source": [
    "plt.figure(figsize=(15, 5))\n",
    "\n",
    "plt.plot(history_lenet_1.history['accuracy'],color = \"darkred\",label='LeNet accuracy')\n",
    "plt.plot(history_AlexNet_1.history['accuracy'],color = \"darkslategrey\", label='AlexNet accuracy')\n",
    "plt.plot(history_VGG_2.history['accuracy'],color = \"indigo\",  label='VGG accuracy')\n",
    "plt.plot(history_mycnn_2.history['accuracy'],color = \"darkorange\", label='MyCNN accuracy')\n",
    "\n",
    "plt.plot(history_lenet_1.history['val_accuracy'],color = \"red\", label = 'LeNet val_accuracy')\n",
    "plt.plot(history_AlexNet_1.history['val_accuracy'],color = \"teal\", label = 'AlexNet val_accuracy')\n",
    "plt.plot(history_VGG_2.history['val_accuracy'],color = \"magenta\", label = 'VGG val_accuracy')\n",
    "plt.plot(history_mycnn_2.history['val_accuracy'],color = \"yellow\", label = 'MyCNN val_accuracy')\n",
    "\n",
    "\n",
    "plt.xlabel('Epoch')\n",
    "plt.ylabel('Accuracy')\n",
    "plt.ylim([0, 1])\n",
    "plt.legend(loc='lower right')\n",
    "plt.title(\"Κοινό διάγραμμα βέλτιστων μοντέλων\",size=20)"
   ]
  },
  {
   "cell_type": "markdown",
   "metadata": {
    "id": "tmYhNXYaIIuA"
   },
   "source": [
    "### **Αξιολόγηση επίδρασης μεγεθών**"
   ]
  },
  {
   "cell_type": "markdown",
   "metadata": {
    "id": "OHBC_Z8YyTyc"
   },
   "source": [
    "\n",
    "\n",
    "* #### **Επίδραση του πλήθους των δεδομένων/κλάσεων στην απόδοση του μοντέλου**\n",
    "\n",
    "Όσον αφορά το πλήθος των δεδομένων, όπως γνωρίζουμε από την θεωρία, μεγαλύτερο πλήθος εικόνων οδηγεί σε μεγαλύτερη ακρίβεια μιας και όταν υπάρχει ένας μικρός αριθμός παραδειγμάτων εκπαίδευσης το μοντέλο μερικές φορές μαθαίνει από θορύβους ή ανεπιθύμητες λεπτομέρειες από παραδείγματα του συνόλου εκπαίδευσης σε βαθμό που επηρεάζει αρνητικά την απόδοση του μοντέλου σε νέα παραδείγματα (φαινόμενο overfitting). \n",
    "\n",
    "Αναφορικά με το πλήθος των κλάσεων, όσο περισσότερες κλάσεις έχουμε τόσο μειώνεται η ακρίβεια. Αυτό οφείλεται στο γεγονός ότι με την αύξηση του αριθμού των κλάσεων, εικόνες που ανήκουν σε κλάσεις οι οποίες έχουν αρκετά κοινά στοιχεία (παραδείγματος χάρη οι κλάσεις γάτες και τίγρεις) είναι πιο δύσκολο να ταξινομηθούν μιας και αυξάνονται οι λεπτομέρειες οι οποίες οφείλονται για τον διαχωρισμό αυτό. \n",
    "\n",
    " \n",
    "\n",
    "\n",
    "\n",
    "\n"
   ]
  },
  {
   "cell_type": "markdown",
   "metadata": {
    "id": "FsoISsNPzQOq"
   },
   "source": [
    "* #### **Επίδραση του αλγορίθμου βελτιστοποίησης(optimizer)**\n",
    "\n",
    "Στα πειράματα μας είδαμε τους optimizers Adam,Adamax,Nadam και RMSprop. Ο optimizer Adam έδωσε εν γένει πολύ καλύτερα αποτελέσματα από τους υπόλοιπους οδηγώντας σε μεγαλύτερες τιμές accuracy ενώ αντίθετα οι υπόλοιποι optimizers έδωσαν ένα χαμηλό accuracy (της τάξης του 10%). Όσον αφορά την μορφή που έχει η γραφική παράσταση για κάθε optimizer, παρατηρήσαμε ότι για όλους τους optimizers η ευθεία της ορθότητας εκπαίδευσης δεν είχε απότομες μεταβολές. Αντίθετα, η ευθεία της ορθότητας επικύρωσης είχε έντονες μεταβολές στις περισσότερες περιπτώσεις για τον optimizer Adam και ήταν ομαλή για τους υπολοίπους optimizers. Η μορφή των ευθειών έχει να κάνει με το πόσο γρήγορα κλιμακώνει η εκάστοτε ορθότητα και αν παρουσιάζει έντονες αυξομοιώσεις κατά την διάρκεια της μεταγλώττισης που μπορεί να οφείλονται σε δυσκολίες εκπαίδευσης του νευρωνικού για συγκεκριμένες κλάσεις.\n",
    "\n",
    "\n"
   ]
  },
  {
   "cell_type": "markdown",
   "metadata": {
    "id": "QSfJL1jPzXvx"
   },
   "source": [
    "* #### **Επίδραση του μεγέθους δέσμης(batch size)**\n",
    "\n",
    "Όπως γνωρίζουμε, με το batch size (μέγεθος παρτίδας) ορίζουμε το πλήθος των δειγμάτων εκπαίδευσης σε ένα πέρασμα εμπρός / πίσω. Αυτό έχει σαν αποτέλεσμα για μεγαλύτερο batch size να χρειάζονται λιγότερες επαναλήψεις ανα epoch και άρα να έχουμε μεγαλύτερη ταχύτητα στην εκπαίδευση του νευρωνικού, κάτι το οποιό έγινε αντιληπτό κατά την διάρκεια της εκπαίδευσης των νευρωνικών όποι πειραματισμοί με μεγάλο batch size καθυστερούσαν αρκετά να δώσουν αποτέλεσμα. Υπάρχει ωστόσο ένα trade-off μεταξύ ταχύτητας και ακρίβειας όσον αφορά το batch size. Πιο συγκεκριμένα, για μικρό batch size τότε γίνονται περισσότερες επαναλήψεις ανα epoche όπου σε κάθε επανάληψη τροφοδοτούμε το νευρωνικό με περισσότερη πληροφορία, κάτι το οποίο, όπως είναι λογικό οδηγεί σε αύξηση του accuracy."
   ]
  },
  {
   "cell_type": "markdown",
   "metadata": {
    "id": "CYnZnz15rixs"
   },
   "source": [
    "## **Βήμα 3: Αξιολόγηση ορθότητας** "
   ]
  },
  {
   "cell_type": "markdown",
   "metadata": {
    "id": "su4Fsq5F5fnL"
   },
   "source": [
    "Στο σημείο αυτό αξιολογήσαμε την ορθότητα για το test set μας με βάση τα βέλτιστα μοντέλα που βρήκαμε παραπάνω:\n"
   ]
  },
  {
   "cell_type": "code",
   "execution_count": null,
   "metadata": {
    "colab": {
     "base_uri": "https://localhost:8080/"
    },
    "id": "Nxb0fDCj5lcj",
    "outputId": "4395e2b9-64d5-4ab8-eda3-f2eec9690c70"
   },
   "outputs": [
    {
     "name": "stdout",
     "output_type": "stream",
     "text": [
      "63/63 - 0s - loss: 1.9288 - accuracy: 0.4495\n",
      "63/63 - 1s - loss: 3.0831 - accuracy: 0.5300\n",
      "63/63 - 2s - loss: 1.9857 - accuracy: 0.5770\n",
      "63/63 - 2s - loss: 3.6276 - accuracy: 0.4675\n"
     ]
    }
   ],
   "source": [
    "test_loss, test_acc = model_lenet_1.evaluate(x_test,  y_test, verbose=2)\n",
    "test_loss, test_acc = model_ΑlexNet_1.evaluate(x_test_new,  y_test, verbose=2)\n",
    "test_loss, test_acc = model_VGG_2.evaluate(x_test_new,  y_test, verbose=2)\n",
    "test_loss, test_acc = model_mycnn_2.evaluate(x_test_new,  y_test, verbose=2)"
   ]
  },
  {
   "cell_type": "markdown",
   "metadata": {
    "id": "5U6Vs1eD811Y"
   },
   "source": [
    "Παρατηρώντας τα παραπάνω αποτελέσματα βλέπουμε ότι το accuracy είναι αισθητά μικρότερο σε σχέση με το accuracy που είχαμε κατά την εκπαίδευση. Αυτό πιθανόν να οφείλεται στο φαινόμενο overfitting, ότι δηλαδή ενώ το μοντέλο μας έχει εκπαιδευτεί καλά (δηλαδή έχει μεγάλο accuracy), όταν πάει να εφαρμοστεί στις test εικόνες τότε μαθαίνει από θορύβους ή ανεπιθύμητες λεπτομέρειες και δυσκολεύεται να ανιχνεύσει καλά όσα χαρακτηριστικά χρειάζονται, το οποίο οδηγεί σε μικρό accuracy.\n",
    "\n",
    "Ακόμα, παρατηρούμε ότι τα μεγέθη loss και accuracy δεν έχουν κάποια σταθερή σχέση αναλογίας μιας και σε μερικά μοντέλα με μεγαλύτερο accuracy έχουμε μικρότερο loss και σε άλλα, με μεγαλύτερο accuracy έχουμε μεγαλύτερο loss. Η εξήγηση για αυτό το φαινόμενο βρίσκεται στον τρόπο με τον οποίο υλοποιείται το κάθε μοντέλο (πόσα επίπεδα έχει, τι optimizer χρησιμοποιεί κλπ), ο οποίος επηρεάζει την συμπεριφορά που θα έχει το μοντέλο απέναντι σε συγκεκριμένες κλάσεις.\n",
    "\n",
    "Τέλος, παρατηρούμε πως, όπως ήταν αναμενόμενο, το AlexNet και το VGG έχουν καλύτερο accuracy από το παλιότερο LeNet, ενώ το VGG έχει καλύτερο accuracy και από το AlexNet.\n"
   ]
  },
  {
   "cell_type": "markdown",
   "metadata": {
    "id": "v8rhgSGOV5pm"
   },
   "source": [
    "\n",
    "## **Ερώτημα 2**\n",
    "---\n",
    "### Βήμα 1: Έλεγχος υπερεκπαίδευσης\n",
    "\n",
    "Για τον καλύτερο συνδυασμό που λάβατε από το Ερώτημα 1 για μοντέλο σας  (**MyCNN**) και μόνο, δοκιμάστε διάφορους συνδυασμούς των ακόλουθων τεχνικών για τον έλεγχο της υπερεκπαίδευσης (overfitting), όπως: \n",
    "- Πρόωρος τερματισμός (early stopping [tf.keras.callbacks.EarlyStopping](https://www.tensorflow.org/api_docs/python/tf/keras/callbacks/EarlyStoppinghttps://)) \n",
    "\n",
    "- Dropout ([Dropout](https://www.tensorflow.org/tutorials/images/classification#dropout))\n",
    "\n",
    "- Επαύξηση δεδομένων ([Data augmentation](https://www.tensorflow.org/tutorials/images/classification#data_augmentation), [ImageDataGenerator](https://www.tensorflow.org/api_docs/python/tf/keras/preprocessing/image/ImageDataGenerator#class_imagedatagenerator)) \n",
    "\n",
    ", ώστε το μοντέλο σας να γενικεύει καλύτερα.\n",
    "\n",
    "---\n",
    "### Βήμα 2: Αξιολόγηση\n",
    "Αξιολογήστε της ορθότητας για το validation και το test set σας."
   ]
  },
  {
   "cell_type": "markdown",
   "metadata": {
    "id": "-XgQ-NMC-32J"
   },
   "source": [
    "## **Ερώτημα 2 - Υλοποίηση**"
   ]
  },
  {
   "cell_type": "markdown",
   "metadata": {
    "id": "BkCcycFr_dex"
   },
   "source": [
    "### **Βήμα 1 : 'Ελεγχος υπερεκπαίδευσης**"
   ]
  },
  {
   "cell_type": "markdown",
   "metadata": {
    "id": "D2zVHgha_uxh"
   },
   "source": [
    "Σε αυτό το ερώτημα, για το μοντέλο my_cnn_2 θα δοκιμάσουμς τις παρακάτω τεχνικές για τον έλεγχο της υπερεκπαίδευσης:"
   ]
  },
  {
   "cell_type": "markdown",
   "metadata": {
    "id": "od3Ebjot_5d3"
   },
   "source": [
    "#### **Πρόωρος τερματισμός** "
   ]
  },
  {
   "cell_type": "markdown",
   "metadata": {
    "id": "3y3g_F-ZEz5J"
   },
   "source": [
    "Η συγκεκριμένη τεχνική παρατηρεί κατά την εκπαίδευση του \n",
    "δικτύου την ικανότητά του να γενικεύει. Πιο συγκεκριμένα παρακολουθεί την \n",
    "πορεία των καμπυλών της ορθότητας εκπαίδευσης και της ορθότητας επικύρωσης μέχρι \n",
    "και το σημείο που η απόσταση μεταξύ τους αρχίζει να αυξάνεται πάνω από \n",
    "κάποιο προκαθορισμένο όριο και σε εκείνο το σημείο σταματάμε την εκπαίδευση."
   ]
  },
  {
   "cell_type": "markdown",
   "metadata": {
    "id": "zDORg0nlJSDy"
   },
   "source": [
    "##### ***Σχεδίαση***"
   ]
  },
  {
   "cell_type": "markdown",
   "metadata": {
    "id": "PBmqvqlrOHe6"
   },
   "source": [
    "Η συνάρτηση callback θα σταματήσει την εκπαίδευση όταν δεν υπάρχει βελτίωση στο loss για 3 συνεχόμενες epochs. Επειδή αρχικά είχαμε 30 epochs οι οποίες θεωρούνται σχετικά λίγες και δεν θα είχε αποτέλεσμα το early stopping, αυξήσαμε τις epochs στις 50."
   ]
  },
  {
   "cell_type": "code",
   "execution_count": null,
   "metadata": {
    "id": "7J5jjfpiJsX9"
   },
   "outputs": [],
   "source": [
    "tf.keras.callbacks.EarlyStopping(\n",
    "    monitor=\"val_loss\",\n",
    "    min_delta=0,\n",
    "    patience=0,\n",
    "    verbose=0,\n",
    "    mode=\"auto\",\n",
    "    baseline=None,\n",
    "    restore_best_weights=False,\n",
    ")\n",
    "\n",
    "callback = tf.keras.callbacks.EarlyStopping(monitor='loss', patience=3)"
   ]
  },
  {
   "cell_type": "code",
   "execution_count": null,
   "metadata": {
    "id": "3-6cA0CuJc4D"
   },
   "outputs": [],
   "source": [
    "model_mycnn_4 = models.Sequential()\n",
    "model_mycnn_4.add(layers.Conv2D(filters=80, kernel_size=15, activation='relu', padding='same',  input_shape=(96, 96, 3))) \n",
    "model_mycnn_4.add(layers.BatchNormalization())\n",
    "model_mycnn_4.add(layers.AvgPool2D(pool_size=2, strides=2))\n",
    "model_mycnn_4.add(layers.Conv2D(filters=100, kernel_size=5, activation='relu'))\n",
    "model_mycnn_4.add(layers.BatchNormalization())\n",
    "model_mycnn_4.add(layers.AvgPool2D(pool_size=2, strides=2))\n",
    "model_mycnn_4.add(layers.Conv2D(filters=300, kernel_size=5, activation='relu'))\n",
    "model_mycnn_4.add(layers.BatchNormalization())\n",
    "model_mycnn_4.add(layers.Conv2D(filters=300, kernel_size=5, activation='relu'))\n",
    "model_mycnn_4.add(layers.BatchNormalization())\n",
    "model_mycnn_4.add(layers.Conv2D(filters=200, kernel_size=5, activation='relu'))\n",
    "model_mycnn_4.add(layers.BatchNormalization())\n",
    "model_mycnn_4.add(layers.Conv2D(filters=200, kernel_size=5, activation='relu'))\n",
    "model_mycnn_4.add(layers.BatchNormalization())\n",
    "model_mycnn_4.add(layers.AvgPool2D(pool_size=2, strides=2))\n",
    "model_mycnn_4.add(layers.Flatten())\n",
    "model_mycnn_4.add(layers.Dense(2000, activation='relu'))\n",
    "model_mycnn_4.add(layers.Dense(1000, activation='relu'))\n",
    "model_mycnn_4.add(layers.Dense(20))"
   ]
  },
  {
   "cell_type": "markdown",
   "metadata": {
    "id": "SILx0ka2JS_Z"
   },
   "source": [
    "##### ***Μεταγλώττιση***"
   ]
  },
  {
   "cell_type": "code",
   "execution_count": null,
   "metadata": {
    "id": "DHa7d1_CKyTU"
   },
   "outputs": [],
   "source": [
    "model_mycnn_4.compile(optimizer='adam',\n",
    "             loss=tf.keras.losses.SparseCategoricalCrossentropy(from_logits=True),\n",
    "              metrics=['accuracy'])"
   ]
  },
  {
   "cell_type": "markdown",
   "metadata": {
    "id": "zuF5x6EYJWgZ"
   },
   "source": [
    "##### ***Εκπαίδευση***"
   ]
  },
  {
   "cell_type": "code",
   "execution_count": null,
   "metadata": {
    "colab": {
     "base_uri": "https://localhost:8080/"
    },
    "id": "Lu6ylEWsK33q",
    "outputId": "ac5abcd3-1d16-49c4-89f0-c74531f3c592"
   },
   "outputs": [
    {
     "name": "stdout",
     "output_type": "stream",
     "text": [
      "Epoch 1/50\n",
      "67/67 [==============================] - 48s 555ms/step - loss: 2.6103 - accuracy: 0.2429 - val_loss: 6.7914 - val_accuracy: 0.1467\n",
      "Epoch 2/50\n",
      "67/67 [==============================] - 28s 419ms/step - loss: 2.1982 - accuracy: 0.3293 - val_loss: 3.3402 - val_accuracy: 0.2200\n",
      "Epoch 3/50\n",
      "67/67 [==============================] - 28s 418ms/step - loss: 2.0589 - accuracy: 0.3680 - val_loss: 3.2126 - val_accuracy: 0.2307\n",
      "Epoch 4/50\n",
      "67/67 [==============================] - 28s 419ms/step - loss: 1.9463 - accuracy: 0.3989 - val_loss: 3.8327 - val_accuracy: 0.2413\n",
      "Epoch 5/50\n",
      "67/67 [==============================] - 28s 418ms/step - loss: 1.8363 - accuracy: 0.4295 - val_loss: 2.6851 - val_accuracy: 0.2973\n",
      "Epoch 6/50\n",
      "67/67 [==============================] - 28s 418ms/step - loss: 1.7485 - accuracy: 0.4552 - val_loss: 2.4642 - val_accuracy: 0.3407\n",
      "Epoch 7/50\n",
      "67/67 [==============================] - 28s 419ms/step - loss: 1.6256 - accuracy: 0.4888 - val_loss: 4.1337 - val_accuracy: 0.1553\n",
      "Epoch 8/50\n",
      "67/67 [==============================] - 28s 418ms/step - loss: 1.5446 - accuracy: 0.5144 - val_loss: 2.6174 - val_accuracy: 0.3507\n",
      "Epoch 9/50\n",
      "67/67 [==============================] - 28s 417ms/step - loss: 1.4137 - accuracy: 0.5516 - val_loss: 2.5413 - val_accuracy: 0.3360\n",
      "Epoch 10/50\n",
      "67/67 [==============================] - 28s 417ms/step - loss: 1.3578 - accuracy: 0.5639 - val_loss: 2.5469 - val_accuracy: 0.3533\n",
      "Epoch 11/50\n",
      "67/67 [==============================] - 28s 417ms/step - loss: 1.2634 - accuracy: 0.5944 - val_loss: 2.4772 - val_accuracy: 0.3867\n",
      "Epoch 12/50\n",
      "67/67 [==============================] - 28s 417ms/step - loss: 1.1037 - accuracy: 0.6338 - val_loss: 2.3309 - val_accuracy: 0.4273\n",
      "Epoch 13/50\n",
      "67/67 [==============================] - 28s 417ms/step - loss: 0.9905 - accuracy: 0.6685 - val_loss: 2.3426 - val_accuracy: 0.4500\n",
      "Epoch 14/50\n",
      "67/67 [==============================] - 28s 417ms/step - loss: 0.8843 - accuracy: 0.7020 - val_loss: 2.8566 - val_accuracy: 0.3820\n",
      "Epoch 15/50\n",
      "67/67 [==============================] - 28s 417ms/step - loss: 0.7462 - accuracy: 0.7481 - val_loss: 2.4033 - val_accuracy: 0.4533\n",
      "Epoch 16/50\n",
      "67/67 [==============================] - 28s 417ms/step - loss: 0.6215 - accuracy: 0.7916 - val_loss: 2.8186 - val_accuracy: 0.4520\n",
      "Epoch 17/50\n",
      "67/67 [==============================] - 28s 417ms/step - loss: 0.5552 - accuracy: 0.8133 - val_loss: 2.4714 - val_accuracy: 0.4807\n",
      "Epoch 18/50\n",
      "67/67 [==============================] - 28s 417ms/step - loss: 0.4238 - accuracy: 0.8538 - val_loss: 3.0183 - val_accuracy: 0.4433\n",
      "Epoch 19/50\n",
      "67/67 [==============================] - 28s 418ms/step - loss: 0.3227 - accuracy: 0.8913 - val_loss: 2.9434 - val_accuracy: 0.4633\n",
      "Epoch 20/50\n",
      "67/67 [==============================] - 28s 417ms/step - loss: 0.2628 - accuracy: 0.9112 - val_loss: 2.9952 - val_accuracy: 0.4807\n",
      "Epoch 21/50\n",
      "67/67 [==============================] - 28s 417ms/step - loss: 0.2092 - accuracy: 0.9314 - val_loss: 3.2524 - val_accuracy: 0.4513\n",
      "Epoch 22/50\n",
      "67/67 [==============================] - 28s 417ms/step - loss: 0.2023 - accuracy: 0.9306 - val_loss: 3.2464 - val_accuracy: 0.4900\n",
      "Epoch 23/50\n",
      "67/67 [==============================] - 28s 418ms/step - loss: 0.2020 - accuracy: 0.9327 - val_loss: 3.3222 - val_accuracy: 0.4693\n",
      "Epoch 24/50\n",
      "67/67 [==============================] - 28s 418ms/step - loss: 0.2163 - accuracy: 0.9253 - val_loss: 3.4605 - val_accuracy: 0.4787\n",
      "Epoch 25/50\n",
      "67/67 [==============================] - 28s 418ms/step - loss: 0.1580 - accuracy: 0.9484 - val_loss: 3.4732 - val_accuracy: 0.4733\n",
      "Epoch 26/50\n",
      "67/67 [==============================] - 28s 418ms/step - loss: 0.1187 - accuracy: 0.9569 - val_loss: 3.5233 - val_accuracy: 0.4707\n",
      "Epoch 27/50\n",
      "67/67 [==============================] - 28s 417ms/step - loss: 0.1057 - accuracy: 0.9649 - val_loss: 3.6442 - val_accuracy: 0.4587\n",
      "Epoch 28/50\n",
      "67/67 [==============================] - 28s 417ms/step - loss: 0.1251 - accuracy: 0.9579 - val_loss: 4.2171 - val_accuracy: 0.4167\n",
      "Epoch 29/50\n",
      "67/67 [==============================] - 28s 417ms/step - loss: 0.1553 - accuracy: 0.9486 - val_loss: 3.4489 - val_accuracy: 0.4827\n",
      "Epoch 30/50\n",
      "67/67 [==============================] - 28s 417ms/step - loss: 0.1391 - accuracy: 0.9545 - val_loss: 3.7275 - val_accuracy: 0.4573\n",
      "Only 30 epochs are run out of 50\n"
     ]
    }
   ],
   "source": [
    "history_mycnn_4 = model_mycnn_4.fit(a,y_train, epochs=50, batch_size=128,callbacks=[callback],validation_data=(b, y_val))\n",
    "print(\"Only\",len(history_mycnn_4.history['loss']),\"epochs are run out of\", 50)"
   ]
  },
  {
   "cell_type": "markdown",
   "metadata": {
    "id": "X0MZM9lNPU_V"
   },
   "source": [
    "Βλέπουμε λοιπόν ότι από τις 50 epochs τελικά εκτελέστηκαν μόνο οι 31 άρα η τεχνική early stopping εφαρμόστηκε."
   ]
  },
  {
   "cell_type": "markdown",
   "metadata": {
    "id": "_Mb400m9AS4H"
   },
   "source": [
    "#### **Dropout** "
   ]
  },
  {
   "cell_type": "markdown",
   "metadata": {
    "id": "m6A3cB9MA_1H"
   },
   "source": [
    "Το Dropout αποτελεί μια πανίσχυρη τεχνική regularization, που \n",
    "χρησιμοποιείται στα νευρωνικά δίκτυα για να αντιμετωπίσει την \n",
    "υπερεκπαίδευση. Η βασική ιδέα του Dropout, επικεντρώνεται στην \n",
    "απενεργοποίηση τυχαίων νευρώνων του δικτύου κατά την διάρκεια της \n",
    "εκπαίδευσης. Με τον όρο απενεργοποίηση ενός νευρώνα, εννοούμε την \n",
    "προσωρινή αγνόηση του νευρώνα και τον εισερχόμενων και εξερχόμενων \n",
    "συνδέσεών του. Σε κάθε νευρώνα ανατίθεται \n",
    "μία πιθανότητα p(εμείς επιλέξαμε 0.2), βάσει της οποίας θα συμμετέχει ή όχι στο τρέχον βήμα της \n",
    "εκπαίδευσης και με αυτό τον τρόπο, δεν επιτρέπεται σε γειτονικούς νευρώνες να\n",
    "αναπτύξουν αλληλεξάρτηση μεταξύ τους και δεν περιορίζεται η ισχύς του \n",
    "καθενός ξεχωριστά."
   ]
  },
  {
   "cell_type": "markdown",
   "metadata": {
    "id": "EzF5U1dHCz4p"
   },
   "source": [
    "##### ***Σχεδίαση***"
   ]
  },
  {
   "cell_type": "markdown",
   "metadata": {
    "id": "8p8TO6ClGqnt"
   },
   "source": [
    "Ξανασχεδιάζουμε το model_mycnn_2 για να χρησιμοποιήσουμε την τεχνική dropout."
   ]
  },
  {
   "cell_type": "code",
   "execution_count": null,
   "metadata": {
    "id": "yHWlBnLOBmJA"
   },
   "outputs": [],
   "source": [
    "model_mycnn_5 = models.Sequential()\n",
    "model_mycnn_5.add(layers.Conv2D(filters=80, kernel_size=15, activation='relu', padding='same',  input_shape=(96, 96, 3))) \n",
    "model_mycnn_5.add(layers.BatchNormalization())\n",
    "model_mycnn_5.add(layers.AvgPool2D(pool_size=2, strides=2))\n",
    "model_mycnn_5.add(layers.Dropout(0.2)) \n",
    "model_mycnn_5.add(layers.Conv2D(filters=100, kernel_size=5, activation='relu'))\n",
    "model_mycnn_5.add(layers.BatchNormalization())\n",
    "model_mycnn_5.add(layers.AvgPool2D(pool_size=2, strides=2))\n",
    "model_mycnn_5.add(layers.Dropout(0.2)) \n",
    "model_mycnn_5.add(layers.Conv2D(filters=300, kernel_size=5, activation='relu'))\n",
    "model_mycnn_5.add(layers.BatchNormalization())\n",
    "model_mycnn_5.add(layers.Conv2D(filters=300, kernel_size=5, activation='relu'))\n",
    "model_mycnn_5.add(layers.BatchNormalization())\n",
    "model_mycnn_5.add(layers.Conv2D(filters=200, kernel_size=5, activation='relu'))\n",
    "model_mycnn_5.add(layers.BatchNormalization())\n",
    "model_mycnn_5.add(layers.Conv2D(filters=200, kernel_size=5, activation='relu'))\n",
    "model_mycnn_5.add(layers.BatchNormalization())\n",
    "model_mycnn_5.add(layers.AvgPool2D(pool_size=2, strides=2))\n",
    "model_mycnn_5.add(layers.Dropout(0.2)) \n",
    "model_mycnn_5.add(layers.Flatten())\n",
    "model_mycnn_5.add(layers.Dense(2000, activation='relu')) \n",
    "model_mycnn_5.add(layers.Dense(1000, activation='relu'))\n",
    "model_mycnn_5.add(layers.Dense(20))"
   ]
  },
  {
   "cell_type": "markdown",
   "metadata": {
    "id": "pkyEwl_mC-9x"
   },
   "source": [
    "##### ***Μεταγλώττιση***"
   ]
  },
  {
   "cell_type": "code",
   "execution_count": null,
   "metadata": {
    "id": "0ShwXYNbDGeL"
   },
   "outputs": [],
   "source": [
    "model_mycnn_5.compile(optimizer='adam',\n",
    "             loss=tf.keras.losses.SparseCategoricalCrossentropy(from_logits=True),\n",
    "              metrics=['accuracy'])"
   ]
  },
  {
   "cell_type": "markdown",
   "metadata": {
    "id": "raHRrplPDNlj"
   },
   "source": [
    "##### ***Εκπαίδευση***"
   ]
  },
  {
   "cell_type": "code",
   "execution_count": null,
   "metadata": {
    "colab": {
     "base_uri": "https://localhost:8080/"
    },
    "id": "wUnWI0EGDLFg",
    "outputId": "f3d97f94-2891-4ea7-8e75-de9d0215ca8f"
   },
   "outputs": [
    {
     "name": "stdout",
     "output_type": "stream",
     "text": [
      "Epoch 1/30\n",
      "67/67 [==============================] - 31s 446ms/step - loss: 2.6918 - accuracy: 0.2225 - val_loss: 16.6272 - val_accuracy: 0.1180\n",
      "Epoch 2/30\n",
      "67/67 [==============================] - 30s 441ms/step - loss: 2.2320 - accuracy: 0.3078 - val_loss: 4.2389 - val_accuracy: 0.2067\n",
      "Epoch 3/30\n",
      "67/67 [==============================] - 29s 439ms/step - loss: 2.0772 - accuracy: 0.3511 - val_loss: 3.2028 - val_accuracy: 0.2393\n",
      "Epoch 4/30\n",
      "67/67 [==============================] - 29s 440ms/step - loss: 2.0029 - accuracy: 0.3791 - val_loss: 3.0826 - val_accuracy: 0.2540\n",
      "Epoch 5/30\n",
      "67/67 [==============================] - 29s 440ms/step - loss: 1.8685 - accuracy: 0.4229 - val_loss: 2.3901 - val_accuracy: 0.3080\n",
      "Epoch 6/30\n",
      "67/67 [==============================] - 29s 439ms/step - loss: 1.7619 - accuracy: 0.4544 - val_loss: 2.6835 - val_accuracy: 0.2913\n",
      "Epoch 7/30\n",
      "67/67 [==============================] - 29s 439ms/step - loss: 1.6371 - accuracy: 0.4864 - val_loss: 2.4577 - val_accuracy: 0.3607\n",
      "Epoch 8/30\n",
      "67/67 [==============================] - 29s 439ms/step - loss: 1.5837 - accuracy: 0.4992 - val_loss: 3.0522 - val_accuracy: 0.3053\n",
      "Epoch 9/30\n",
      "67/67 [==============================] - 29s 439ms/step - loss: 1.4766 - accuracy: 0.5281 - val_loss: 3.2235 - val_accuracy: 0.2513\n",
      "Epoch 10/30\n",
      "67/67 [==============================] - 29s 440ms/step - loss: 1.3941 - accuracy: 0.5576 - val_loss: 2.5700 - val_accuracy: 0.3353\n",
      "Epoch 11/30\n",
      "67/67 [==============================] - 29s 439ms/step - loss: 1.3084 - accuracy: 0.5826 - val_loss: 2.2826 - val_accuracy: 0.3720\n",
      "Epoch 12/30\n",
      "67/67 [==============================] - 29s 439ms/step - loss: 1.2080 - accuracy: 0.6076 - val_loss: 2.3073 - val_accuracy: 0.4113\n",
      "Epoch 13/30\n",
      "67/67 [==============================] - 29s 438ms/step - loss: 1.1024 - accuracy: 0.6368 - val_loss: 2.8383 - val_accuracy: 0.3893\n",
      "Epoch 14/30\n",
      "67/67 [==============================] - 29s 439ms/step - loss: 1.0053 - accuracy: 0.6667 - val_loss: 2.6414 - val_accuracy: 0.4033\n",
      "Epoch 15/30\n",
      "67/67 [==============================] - 29s 439ms/step - loss: 0.9064 - accuracy: 0.6992 - val_loss: 2.4759 - val_accuracy: 0.4400\n",
      "Epoch 16/30\n",
      "67/67 [==============================] - 29s 439ms/step - loss: 0.8306 - accuracy: 0.7205 - val_loss: 3.3261 - val_accuracy: 0.3153\n",
      "Epoch 17/30\n",
      "67/67 [==============================] - 29s 439ms/step - loss: 0.7352 - accuracy: 0.7519 - val_loss: 2.6176 - val_accuracy: 0.4647\n",
      "Epoch 18/30\n",
      "67/67 [==============================] - 29s 439ms/step - loss: 0.6190 - accuracy: 0.7913 - val_loss: 2.3843 - val_accuracy: 0.4787\n",
      "Epoch 19/30\n",
      "67/67 [==============================] - 29s 438ms/step - loss: 0.5165 - accuracy: 0.8260 - val_loss: 2.8170 - val_accuracy: 0.4553\n",
      "Epoch 20/30\n",
      "67/67 [==============================] - 29s 438ms/step - loss: 0.4770 - accuracy: 0.8342 - val_loss: 2.6190 - val_accuracy: 0.4680\n",
      "Epoch 21/30\n",
      "67/67 [==============================] - 29s 439ms/step - loss: 0.4101 - accuracy: 0.8619 - val_loss: 3.1133 - val_accuracy: 0.4307\n",
      "Epoch 22/30\n",
      "67/67 [==============================] - 29s 438ms/step - loss: 0.3601 - accuracy: 0.8762 - val_loss: 2.7239 - val_accuracy: 0.4993\n",
      "Epoch 23/30\n",
      "67/67 [==============================] - 29s 439ms/step - loss: 0.3189 - accuracy: 0.8904 - val_loss: 2.8179 - val_accuracy: 0.4960\n",
      "Epoch 24/30\n",
      "67/67 [==============================] - 29s 439ms/step - loss: 0.2766 - accuracy: 0.9060 - val_loss: 2.9154 - val_accuracy: 0.4847\n",
      "Epoch 25/30\n",
      "67/67 [==============================] - 29s 439ms/step - loss: 0.2274 - accuracy: 0.9239 - val_loss: 3.0838 - val_accuracy: 0.4860\n",
      "Epoch 26/30\n",
      "67/67 [==============================] - 29s 438ms/step - loss: 0.2294 - accuracy: 0.9188 - val_loss: 3.3442 - val_accuracy: 0.4860\n",
      "Epoch 27/30\n",
      "67/67 [==============================] - 29s 437ms/step - loss: 0.2033 - accuracy: 0.9328 - val_loss: 3.4784 - val_accuracy: 0.4773\n",
      "Epoch 28/30\n",
      "67/67 [==============================] - 29s 437ms/step - loss: 0.1669 - accuracy: 0.9451 - val_loss: 3.5118 - val_accuracy: 0.4653\n",
      "Epoch 29/30\n",
      "67/67 [==============================] - 29s 438ms/step - loss: 0.1745 - accuracy: 0.9425 - val_loss: 3.3174 - val_accuracy: 0.4960\n",
      "Epoch 30/30\n",
      "67/67 [==============================] - 29s 438ms/step - loss: 0.1964 - accuracy: 0.9360 - val_loss: 3.2274 - val_accuracy: 0.4727\n"
     ]
    }
   ],
   "source": [
    "history_mycnn_5 = model_mycnn_5.fit(a,y_train, epochs=30, batch_size=128,validation_data=(b, y_val))"
   ]
  },
  {
   "cell_type": "markdown",
   "metadata": {
    "id": "fGNyT_99AWde"
   },
   "source": [
    "#### **Επαύξηση δεδομένων** "
   ]
  },
  {
   "cell_type": "markdown",
   "metadata": {
    "id": "thP9AxLYGANO"
   },
   "source": [
    "Η επαύξηση των δεδομένων αποτελεί μια συνήθη \n",
    "τεχνική όταν δεν μπορούμε να βρούμε επιπλέον δεδομένα για να \n",
    "εκπαιδεύσουμε το δίκτυο μας. Με αυτή την μέθοδο χρησιμοποιούμε το αρχικό \n",
    "training dataset και στην συνέχεια δημιουργούμε τροποποιημένα αντίγραφά \n",
    "του. Συγκεκριμένα μπορούμε να περιστρέψουμε, (rotate), να \n",
    "αντικατοπτρίσουμε, (flip), να αλλάξουμε το μέγεθος, (scale), να περικόψουμε,\n",
    "(crop) και να προσθέσουμε θόρυβο στα δεδομένα. Όπως είναι κατανοητό, θα \n",
    "πρέπει ο μετασχηματισμός να οδηγεί σε λογικά αποτελέσματα. Για παράδειγμα \n",
    "σε ένα νευρωνικό δίκτυο που αναγνωρίζει αυτοκίνητα, ο αντικατοπτρισμός των \n",
    "εικόνων κατά τον οριζόντιο άξονα έχει νόημα, ενώ κατά τον κατακόρυφο άξονα \n",
    "οδηγεί σε μη λογικό αποτέλεσμα."
   ]
  },
  {
   "cell_type": "code",
   "execution_count": null,
   "metadata": {
    "id": "VKh6D0qN6Lbp"
   },
   "outputs": [],
   "source": [
    "model_mycnn_6 = models.Sequential()\n",
    "model_mycnn_6.add(layers.Conv2D(filters=80, kernel_size=15, activation='relu', padding='same',  input_shape=(96, 96, 3))) \n",
    "model_mycnn_6.add(layers.BatchNormalization())\n",
    "model_mycnn_6.add(layers.AvgPool2D(pool_size=2, strides=2))\n",
    "model_mycnn_6.add(layers.Conv2D(filters=100, kernel_size=5, activation='relu'))\n",
    "model_mycnn_6.add(layers.BatchNormalization())\n",
    "model_mycnn_6.add(layers.AvgPool2D(pool_size=2, strides=2))\n",
    "model_mycnn_6.add(layers.Conv2D(filters=300, kernel_size=5, activation='relu'))\n",
    "model_mycnn_6.add(layers.BatchNormalization())\n",
    "model_mycnn_6.add(layers.Conv2D(filters=300, kernel_size=5, activation='relu'))\n",
    "model_mycnn_6.add(layers.BatchNormalization())\n",
    "model_mycnn_6.add(layers.Conv2D(filters=200, kernel_size=5, activation='relu'))\n",
    "model_mycnn_6.add(layers.BatchNormalization())\n",
    "model_mycnn_6.add(layers.Conv2D(filters=200, kernel_size=5, activation='relu'))\n",
    "model_mycnn_6.add(layers.BatchNormalization())\n",
    "model_mycnn_6.add(layers.AvgPool2D(pool_size=2, strides=2))\n",
    "model_mycnn_6.add(layers.Flatten())\n",
    "model_mycnn_6.add(layers.Dense(2000, activation='relu'))\n",
    "model_mycnn_6.add(layers.Dense(1000, activation='relu'))\n",
    "model_mycnn_6.add(layers.Dense(20))"
   ]
  },
  {
   "cell_type": "code",
   "execution_count": null,
   "metadata": {
    "id": "_hwRLS3h6a19"
   },
   "outputs": [],
   "source": [
    "model_mycnn_6.compile(optimizer='adam',\n",
    "             loss=tf.keras.losses.SparseCategoricalCrossentropy(from_logits=True),\n",
    "              metrics=['accuracy'])"
   ]
  },
  {
   "cell_type": "code",
   "execution_count": null,
   "metadata": {
    "id": "I67Reg2w6zwO"
   },
   "outputs": [],
   "source": [
    "from keras.preprocessing.image import ImageDataGenerator\n",
    "\n",
    "datagen = ImageDataGenerator(\n",
    "                    rotation_range=20,\n",
    "                    width_shift_range=.2,\n",
    "                    height_shift_range=.2,\n",
    "                    horizontal_flip=True,\n",
    "                    zoom_range=0.5\n",
    "                    )\n",
    "datagen.fit(a)"
   ]
  },
  {
   "cell_type": "code",
   "execution_count": null,
   "metadata": {
    "colab": {
     "base_uri": "https://localhost:8080/"
    },
    "id": "5Q-QEOiN7PUt",
    "outputId": "b254708f-e4b8-4edf-c6ba-f10ed6288d5e"
   },
   "outputs": [
    {
     "name": "stdout",
     "output_type": "stream",
     "text": [
      "Epoch 1/30\n",
      "67/67 [==============================] - 78s 579ms/step - loss: 2.7258 - accuracy: 0.0338 - val_loss: 22.2938 - val_accuracy: 0.0015\n",
      "Epoch 2/30\n",
      "67/67 [==============================] - 31s 453ms/step - loss: 2.4176 - accuracy: 0.0527 - val_loss: 3.1450 - val_accuracy: 0.0020\n",
      "Epoch 3/30\n",
      "67/67 [==============================] - 32s 452ms/step - loss: 2.3364 - accuracy: 0.0559 - val_loss: 2.5729 - val_accuracy: 0.0410\n",
      "Epoch 4/30\n",
      "67/67 [==============================] - 32s 453ms/step - loss: 2.3159 - accuracy: 0.0428 - val_loss: 2.7935 - val_accuracy: 0.0310\n",
      "Epoch 5/30\n",
      "67/67 [==============================] - 32s 451ms/step - loss: 2.2487 - accuracy: 0.0489 - val_loss: 2.6782 - val_accuracy: 0.0010\n",
      "Epoch 6/30\n",
      "67/67 [==============================] - 32s 451ms/step - loss: 2.2114 - accuracy: 0.0559 - val_loss: 2.5548 - val_accuracy: 0.0035\n",
      "Epoch 7/30\n",
      "67/67 [==============================] - 32s 453ms/step - loss: 2.1748 - accuracy: 0.0502 - val_loss: 2.2402 - val_accuracy: 0.0160\n",
      "Epoch 8/30\n",
      "67/67 [==============================] - 31s 453ms/step - loss: 2.1551 - accuracy: 0.0533 - val_loss: 2.9259 - val_accuracy: 0.0115\n",
      "Epoch 9/30\n",
      "67/67 [==============================] - 31s 451ms/step - loss: 2.1114 - accuracy: 0.0562 - val_loss: 2.2768 - val_accuracy: 0.0355\n",
      "Epoch 10/30\n",
      "67/67 [==============================] - 31s 452ms/step - loss: 2.0829 - accuracy: 0.0475 - val_loss: 3.1075 - val_accuracy: 0.0045\n",
      "Epoch 11/30\n",
      "67/67 [==============================] - 32s 452ms/step - loss: 2.0716 - accuracy: 0.0547 - val_loss: 2.6291 - val_accuracy: 0.0365\n",
      "Epoch 12/30\n",
      "67/67 [==============================] - 31s 451ms/step - loss: 2.0500 - accuracy: 0.0553 - val_loss: 2.6066 - val_accuracy: 0.0150\n",
      "Epoch 13/30\n",
      "67/67 [==============================] - 31s 451ms/step - loss: 2.0370 - accuracy: 0.0534 - val_loss: 2.0773 - val_accuracy: 0.0335\n",
      "Epoch 14/30\n",
      "67/67 [==============================] - 32s 451ms/step - loss: 1.9918 - accuracy: 0.0546 - val_loss: 2.0507 - val_accuracy: 0.0425\n",
      "Epoch 15/30\n",
      "67/67 [==============================] - 31s 451ms/step - loss: 1.9976 - accuracy: 0.0486 - val_loss: 2.2788 - val_accuracy: 0.0220\n",
      "Epoch 16/30\n",
      "67/67 [==============================] - 31s 451ms/step - loss: 1.9538 - accuracy: 0.0511 - val_loss: 3.8724 - val_accuracy: 0.0855\n",
      "Epoch 17/30\n",
      "67/67 [==============================] - 31s 451ms/step - loss: 1.9227 - accuracy: 0.0540 - val_loss: 2.1736 - val_accuracy: 0.0755\n",
      "Epoch 18/30\n",
      "67/67 [==============================] - 31s 452ms/step - loss: 1.8953 - accuracy: 0.0536 - val_loss: 2.8419 - val_accuracy: 0.1215\n",
      "Epoch 19/30\n",
      "67/67 [==============================] - 31s 450ms/step - loss: 1.9039 - accuracy: 0.0494 - val_loss: 2.0079 - val_accuracy: 0.0290\n",
      "Epoch 20/30\n",
      "67/67 [==============================] - 31s 451ms/step - loss: 1.8827 - accuracy: 0.0515 - val_loss: 1.8809 - val_accuracy: 0.0250\n",
      "Epoch 21/30\n",
      "67/67 [==============================] - 32s 450ms/step - loss: 1.8454 - accuracy: 0.0453 - val_loss: 1.8001 - val_accuracy: 0.0420\n",
      "Epoch 22/30\n",
      "67/67 [==============================] - 31s 452ms/step - loss: 1.8425 - accuracy: 0.0506 - val_loss: 1.8460 - val_accuracy: 0.0890\n",
      "Epoch 23/30\n",
      "67/67 [==============================] - 31s 451ms/step - loss: 1.8224 - accuracy: 0.0507 - val_loss: 1.9586 - val_accuracy: 0.0930\n",
      "Epoch 24/30\n",
      "67/67 [==============================] - 32s 453ms/step - loss: 1.8021 - accuracy: 0.0541 - val_loss: 1.7424 - val_accuracy: 0.0260\n",
      "Epoch 25/30\n",
      "67/67 [==============================] - 32s 451ms/step - loss: 1.7768 - accuracy: 0.0508 - val_loss: 1.9151 - val_accuracy: 0.0960\n",
      "Epoch 26/30\n",
      "67/67 [==============================] - 31s 451ms/step - loss: 1.7522 - accuracy: 0.0526 - val_loss: 1.7404 - val_accuracy: 0.0350\n",
      "Epoch 27/30\n",
      "67/67 [==============================] - 31s 452ms/step - loss: 1.7170 - accuracy: 0.0564 - val_loss: 1.8772 - val_accuracy: 0.0245\n",
      "Epoch 28/30\n",
      "67/67 [==============================] - 32s 451ms/step - loss: 1.7171 - accuracy: 0.0533 - val_loss: 1.8347 - val_accuracy: 0.0200\n",
      "Epoch 29/30\n",
      "67/67 [==============================] - 32s 450ms/step - loss: 1.7103 - accuracy: 0.0486 - val_loss: 1.9086 - val_accuracy: 0.0145\n",
      "Epoch 30/30\n",
      "67/67 [==============================] - 31s 450ms/step - loss: 1.6731 - accuracy: 0.0487 - val_loss: 1.6817 - val_accuracy: 0.1075\n"
     ]
    }
   ],
   "source": [
    "history_mycnn_6 = model_mycnn_6.fit(datagen.flow(a, y_train, batch_size=128),\n",
    "                        epochs=30,\n",
    "                        validation_data=(x_test_new, y_test),\n",
    "                        workers=4)"
   ]
  },
  {
   "cell_type": "markdown",
   "metadata": {
    "id": "M52IveuY1Q45"
   },
   "source": [
    "#### **Πρόωρος τερματισμος και dropout** "
   ]
  },
  {
   "cell_type": "code",
   "execution_count": null,
   "metadata": {
    "id": "HP3m9ckh6noD"
   },
   "outputs": [],
   "source": [
    "tf.keras.callbacks.EarlyStopping(\n",
    "    monitor=\"val_loss\",\n",
    "    min_delta=0,\n",
    "    patience=0,\n",
    "    verbose=0,\n",
    "    mode=\"auto\",\n",
    "    baseline=None,\n",
    "    restore_best_weights=False,\n",
    ")\n",
    "\n",
    "callback = tf.keras.callbacks.EarlyStopping(monitor='loss', patience=3)"
   ]
  },
  {
   "cell_type": "markdown",
   "metadata": {
    "id": "_XZ8daeCBZuW"
   },
   "source": [
    "##### ***Σχεδίαση***"
   ]
  },
  {
   "cell_type": "code",
   "execution_count": null,
   "metadata": {
    "id": "wY2xkClp6t6B"
   },
   "outputs": [],
   "source": [
    "model_mycnn_7 = models.Sequential()\n",
    "model_mycnn_7.add(layers.Conv2D(filters=80, kernel_size=15, activation='relu', padding='same',  input_shape=(96, 96, 3))) \n",
    "model_mycnn_7.add(layers.BatchNormalization())\n",
    "model_mycnn_7.add(layers.AvgPool2D(pool_size=2, strides=2))\n",
    "model_mycnn_7.add(layers.Dropout(0.2))\n",
    "model_mycnn_7.add(layers.Conv2D(filters=100, kernel_size=5, activation='relu'))\n",
    "model_mycnn_7.add(layers.BatchNormalization())\n",
    "model_mycnn_7.add(layers.AvgPool2D(pool_size=2, strides=2))\n",
    "model_mycnn_7.add(layers.Dropout(0.2))\n",
    "model_mycnn_7.add(layers.Conv2D(filters=300, kernel_size=5, activation='relu'))\n",
    "model_mycnn_7.add(layers.BatchNormalization())\n",
    "model_mycnn_7.add(layers.Conv2D(filters=300, kernel_size=5, activation='relu'))\n",
    "model_mycnn_7.add(layers.BatchNormalization())\n",
    "model_mycnn_7.add(layers.Conv2D(filters=200, kernel_size=5, activation='relu'))\n",
    "model_mycnn_7.add(layers.BatchNormalization())\n",
    "model_mycnn_7.add(layers.Conv2D(filters=200, kernel_size=5, activation='relu'))\n",
    "model_mycnn_7.add(layers.BatchNormalization())\n",
    "model_mycnn_7.add(layers.AvgPool2D(pool_size=2, strides=2))\n",
    "model_mycnn_7.add(layers.Dropout(0.2))\n",
    "model_mycnn_7.add(layers.Flatten())\n",
    "model_mycnn_7.add(layers.Dense(2000, activation='relu'))\n",
    "model_mycnn_7.add(layers.Dense(1000, activation='relu'))\n",
    "model_mycnn_7.add(layers.Dense(20))"
   ]
  },
  {
   "cell_type": "markdown",
   "metadata": {
    "id": "vZ52h02KBbhm"
   },
   "source": [
    "##### ***Μεταγλώττιση***"
   ]
  },
  {
   "cell_type": "code",
   "execution_count": null,
   "metadata": {
    "id": "ZSyvVer564gK"
   },
   "outputs": [],
   "source": [
    "model_mycnn_7.compile(optimizer='adam',\n",
    "             loss=tf.keras.losses.SparseCategoricalCrossentropy(from_logits=True),\n",
    "              metrics=['accuracy'])"
   ]
  },
  {
   "cell_type": "markdown",
   "metadata": {
    "id": "boD1uix9Be38"
   },
   "source": [
    "##### ***Εκπαίδευση***"
   ]
  },
  {
   "cell_type": "code",
   "execution_count": null,
   "metadata": {
    "colab": {
     "base_uri": "https://localhost:8080/"
    },
    "id": "xyN_nJ1U68FE",
    "outputId": "33b3b393-0849-4c5e-d19b-db7cb900c0d0"
   },
   "outputs": [
    {
     "name": "stdout",
     "output_type": "stream",
     "text": [
      "Epoch 1/50\n",
      "67/67 [==============================] - 30s 428ms/step - loss: 2.6107 - accuracy: 0.2302 - val_loss: 8.7440 - val_accuracy: 0.1453\n",
      "Epoch 2/50\n",
      "67/67 [==============================] - 28s 423ms/step - loss: 2.2101 - accuracy: 0.3186 - val_loss: 3.0956 - val_accuracy: 0.2300\n",
      "Epoch 3/50\n",
      "67/67 [==============================] - 28s 422ms/step - loss: 2.0784 - accuracy: 0.3593 - val_loss: 2.8483 - val_accuracy: 0.2760\n",
      "Epoch 4/50\n",
      "67/67 [==============================] - 28s 423ms/step - loss: 1.9755 - accuracy: 0.3927 - val_loss: 2.7282 - val_accuracy: 0.2767\n",
      "Epoch 5/50\n",
      "67/67 [==============================] - 28s 423ms/step - loss: 1.8614 - accuracy: 0.4256 - val_loss: 2.5674 - val_accuracy: 0.3060\n",
      "Epoch 6/50\n",
      "67/67 [==============================] - 28s 422ms/step - loss: 1.7648 - accuracy: 0.4491 - val_loss: 2.3143 - val_accuracy: 0.3573\n",
      "Epoch 7/50\n",
      "67/67 [==============================] - 28s 422ms/step - loss: 1.6789 - accuracy: 0.4744 - val_loss: 2.9945 - val_accuracy: 0.3207\n",
      "Epoch 8/50\n",
      "67/67 [==============================] - 28s 422ms/step - loss: 1.5859 - accuracy: 0.4992 - val_loss: 3.3514 - val_accuracy: 0.2900\n",
      "Epoch 9/50\n",
      "67/67 [==============================] - 28s 423ms/step - loss: 1.5150 - accuracy: 0.5195 - val_loss: 2.3613 - val_accuracy: 0.3620\n",
      "Epoch 10/50\n",
      "67/67 [==============================] - 28s 423ms/step - loss: 1.4331 - accuracy: 0.5434 - val_loss: 2.7107 - val_accuracy: 0.3747\n",
      "Epoch 11/50\n",
      "67/67 [==============================] - 28s 423ms/step - loss: 1.3343 - accuracy: 0.5669 - val_loss: 2.5449 - val_accuracy: 0.3580\n",
      "Epoch 12/50\n",
      "67/67 [==============================] - 28s 423ms/step - loss: 1.2389 - accuracy: 0.6051 - val_loss: 2.9466 - val_accuracy: 0.3260\n",
      "Epoch 13/50\n",
      "67/67 [==============================] - 28s 423ms/step - loss: 1.1522 - accuracy: 0.6279 - val_loss: 2.6011 - val_accuracy: 0.3653\n",
      "Epoch 14/50\n",
      "67/67 [==============================] - 28s 423ms/step - loss: 1.0531 - accuracy: 0.6566 - val_loss: 2.6497 - val_accuracy: 0.3660\n",
      "Epoch 15/50\n",
      "67/67 [==============================] - 28s 423ms/step - loss: 0.9584 - accuracy: 0.6824 - val_loss: 2.2620 - val_accuracy: 0.4460\n",
      "Epoch 16/50\n",
      "67/67 [==============================] - 28s 423ms/step - loss: 0.8380 - accuracy: 0.7175 - val_loss: 2.4534 - val_accuracy: 0.4553\n",
      "Epoch 17/50\n",
      "67/67 [==============================] - 28s 423ms/step - loss: 0.7708 - accuracy: 0.7373 - val_loss: 2.3898 - val_accuracy: 0.4593\n",
      "Epoch 18/50\n",
      "67/67 [==============================] - 28s 423ms/step - loss: 0.6530 - accuracy: 0.7792 - val_loss: 2.6768 - val_accuracy: 0.4560\n",
      "Epoch 19/50\n",
      "67/67 [==============================] - 28s 423ms/step - loss: 0.5723 - accuracy: 0.8044 - val_loss: 2.7902 - val_accuracy: 0.4420\n",
      "Epoch 20/50\n",
      "67/67 [==============================] - 28s 423ms/step - loss: 0.5023 - accuracy: 0.8307 - val_loss: 3.0805 - val_accuracy: 0.4320\n",
      "Epoch 21/50\n",
      "67/67 [==============================] - 28s 423ms/step - loss: 0.4457 - accuracy: 0.8480 - val_loss: 2.9501 - val_accuracy: 0.4480\n",
      "Epoch 22/50\n",
      "67/67 [==============================] - 28s 422ms/step - loss: 0.3745 - accuracy: 0.8746 - val_loss: 2.8181 - val_accuracy: 0.4547\n",
      "Epoch 23/50\n",
      "67/67 [==============================] - 28s 423ms/step - loss: 0.3497 - accuracy: 0.8802 - val_loss: 3.1607 - val_accuracy: 0.4713\n",
      "Epoch 24/50\n",
      "67/67 [==============================] - 28s 423ms/step - loss: 0.2986 - accuracy: 0.8965 - val_loss: 3.3304 - val_accuracy: 0.4527\n",
      "Epoch 25/50\n",
      "67/67 [==============================] - 28s 423ms/step - loss: 0.2396 - accuracy: 0.9195 - val_loss: 3.3286 - val_accuracy: 0.4693\n",
      "Epoch 26/50\n",
      "67/67 [==============================] - 28s 423ms/step - loss: 0.2156 - accuracy: 0.9244 - val_loss: 3.2496 - val_accuracy: 0.4693\n",
      "Epoch 27/50\n",
      "67/67 [==============================] - 28s 423ms/step - loss: 0.1845 - accuracy: 0.9382 - val_loss: 3.2757 - val_accuracy: 0.4727\n",
      "Epoch 28/50\n",
      "67/67 [==============================] - 28s 423ms/step - loss: 0.1793 - accuracy: 0.9380 - val_loss: 3.2745 - val_accuracy: 0.4873\n",
      "Epoch 29/50\n",
      "67/67 [==============================] - 28s 423ms/step - loss: 0.1543 - accuracy: 0.9465 - val_loss: 3.7952 - val_accuracy: 0.4420\n",
      "Epoch 30/50\n",
      "67/67 [==============================] - 28s 423ms/step - loss: 0.1750 - accuracy: 0.9391 - val_loss: 3.5603 - val_accuracy: 0.4533\n",
      "Epoch 31/50\n",
      "67/67 [==============================] - 28s 423ms/step - loss: 0.1675 - accuracy: 0.9452 - val_loss: 3.6003 - val_accuracy: 0.4680\n",
      "Epoch 32/50\n",
      "67/67 [==============================] - 28s 423ms/step - loss: 0.1841 - accuracy: 0.9376 - val_loss: 3.3782 - val_accuracy: 0.4773\n",
      "Only 32 epochs are run out of 50\n"
     ]
    }
   ],
   "source": [
    "history_mycnn_7 = model_mycnn_7.fit(a,y_train, epochs=50, batch_size=128,callbacks=[callback],validation_data=(b, y_val))\n",
    "print(\"Only\",len(history_mycnn_7.history['loss']),\"epochs are run out of\", 50)"
   ]
  },
  {
   "cell_type": "markdown",
   "metadata": {
    "id": "LZUq4QKN1nme"
   },
   "source": [
    "#### **Πρόωρος τερματισμος και επαύξηση δεδομένων** "
   ]
  },
  {
   "cell_type": "code",
   "execution_count": null,
   "metadata": {
    "id": "s2-VBZ_r7iKE"
   },
   "outputs": [],
   "source": [
    "tf.keras.callbacks.EarlyStopping(\n",
    "    monitor=\"val_loss\",\n",
    "    min_delta=0,\n",
    "    patience=0,\n",
    "    verbose=0,\n",
    "    mode=\"auto\",\n",
    "    baseline=None,\n",
    "    restore_best_weights=False,\n",
    ")\n",
    "\n",
    "callback = tf.keras.callbacks.EarlyStopping(monitor='loss', patience=3)"
   ]
  },
  {
   "cell_type": "code",
   "execution_count": null,
   "metadata": {
    "id": "3jECKcxe8oGr"
   },
   "outputs": [],
   "source": [
    "from keras.preprocessing.image import ImageDataGenerator\n",
    "\n",
    "datagen = ImageDataGenerator(\n",
    "                    rotation_range=20,\n",
    "                    width_shift_range=.2,\n",
    "                    height_shift_range=.2,\n",
    "                    horizontal_flip=True,\n",
    "                    zoom_range=0.5\n",
    "                    )\n",
    "datagen.fit(a)"
   ]
  },
  {
   "cell_type": "markdown",
   "metadata": {
    "id": "l1KO473nBA72"
   },
   "source": [
    "##### ***Σχεδίαση***"
   ]
  },
  {
   "cell_type": "code",
   "execution_count": null,
   "metadata": {
    "id": "Daleh8VW7kyo"
   },
   "outputs": [],
   "source": [
    "model_mycnn_8 = models.Sequential()\n",
    "model_mycnn_8.add(layers.Conv2D(filters=80, kernel_size=15, activation='relu', padding='same',  input_shape=(96, 96, 3))) \n",
    "model_mycnn_8.add(layers.BatchNormalization())\n",
    "model_mycnn_8.add(layers.AvgPool2D(pool_size=2, strides=2))\n",
    "model_mycnn_8.add(layers.Conv2D(filters=100, kernel_size=5, activation='relu'))\n",
    "model_mycnn_8.add(layers.BatchNormalization())\n",
    "model_mycnn_8.add(layers.AvgPool2D(pool_size=2, strides=2))\n",
    "model_mycnn_8.add(layers.Conv2D(filters=300, kernel_size=5, activation='relu'))\n",
    "model_mycnn_8.add(layers.BatchNormalization())\n",
    "model_mycnn_8.add(layers.Conv2D(filters=300, kernel_size=5, activation='relu'))\n",
    "model_mycnn_8.add(layers.BatchNormalization())\n",
    "model_mycnn_8.add(layers.Conv2D(filters=200, kernel_size=5, activation='relu'))\n",
    "model_mycnn_8.add(layers.BatchNormalization())\n",
    "model_mycnn_8.add(layers.Conv2D(filters=200, kernel_size=5, activation='relu'))\n",
    "model_mycnn_8.add(layers.BatchNormalization())\n",
    "model_mycnn_8.add(layers.AvgPool2D(pool_size=2, strides=2))\n",
    "model_mycnn_8.add(layers.Flatten())\n",
    "model_mycnn_8.add(layers.Dense(2000, activation='relu'))\n",
    "model_mycnn_8.add(layers.Dense(1000, activation='relu'))\n",
    "model_mycnn_8.add(layers.Dense(20))"
   ]
  },
  {
   "cell_type": "markdown",
   "metadata": {
    "id": "tTMRghYmBDFt"
   },
   "source": [
    "##### ***Μεταγλώττιση***"
   ]
  },
  {
   "cell_type": "code",
   "execution_count": null,
   "metadata": {
    "id": "rUWS7uir-mJB"
   },
   "outputs": [],
   "source": [
    "model_mycnn_8.compile(optimizer='adam',\n",
    "             loss=tf.keras.losses.SparseCategoricalCrossentropy(from_logits=True),\n",
    "              metrics=['accuracy'])"
   ]
  },
  {
   "cell_type": "markdown",
   "metadata": {
    "id": "jpZwp_XrBJLG"
   },
   "source": [
    "##### ***Εκπαίδευση***"
   ]
  },
  {
   "cell_type": "code",
   "execution_count": null,
   "metadata": {
    "colab": {
     "base_uri": "https://localhost:8080/"
    },
    "id": "c9DG7A-H8yDn",
    "outputId": "ca958a65-ff2e-4714-cd4b-1abba0043684"
   },
   "outputs": [
    {
     "name": "stdout",
     "output_type": "stream",
     "text": [
      "Epoch 1/30\n",
      "67/67 [==============================] - 54s 550ms/step - loss: 2.7606 - accuracy: 0.0446 - val_loss: 6.9327 - val_accuracy: 0.0000e+00\n",
      "Epoch 2/30\n",
      "67/67 [==============================] - 30s 438ms/step - loss: 2.4270 - accuracy: 0.0536 - val_loss: 3.6235 - val_accuracy: 0.0020\n",
      "Epoch 3/30\n",
      "67/67 [==============================] - 30s 437ms/step - loss: 2.3478 - accuracy: 0.0449 - val_loss: 3.0041 - val_accuracy: 0.0030\n",
      "Epoch 4/30\n",
      "67/67 [==============================] - 31s 436ms/step - loss: 2.2872 - accuracy: 0.0495 - val_loss: 2.3230 - val_accuracy: 0.0150\n",
      "Epoch 5/30\n",
      "67/67 [==============================] - 31s 435ms/step - loss: 2.2405 - accuracy: 0.0492 - val_loss: 2.9570 - val_accuracy: 0.0040\n",
      "Epoch 6/30\n",
      "67/67 [==============================] - 30s 436ms/step - loss: 2.2344 - accuracy: 0.0566 - val_loss: 3.0344 - val_accuracy: 0.0020\n",
      "Epoch 7/30\n",
      "67/67 [==============================] - 31s 436ms/step - loss: 2.1608 - accuracy: 0.0487 - val_loss: 2.6012 - val_accuracy: 0.0365\n",
      "Epoch 8/30\n",
      "67/67 [==============================] - 30s 436ms/step - loss: 2.1201 - accuracy: 0.0513 - val_loss: 2.8103 - val_accuracy: 0.0020\n",
      "Epoch 9/30\n",
      "67/67 [==============================] - 31s 436ms/step - loss: 2.1156 - accuracy: 0.0500 - val_loss: 2.6726 - val_accuracy: 0.0085\n",
      "Epoch 10/30\n",
      "67/67 [==============================] - 30s 435ms/step - loss: 2.0851 - accuracy: 0.0571 - val_loss: 2.5309 - val_accuracy: 0.0280\n",
      "Epoch 11/30\n",
      "67/67 [==============================] - 31s 436ms/step - loss: 2.0365 - accuracy: 0.0521 - val_loss: 2.8535 - val_accuracy: 0.0025\n",
      "Epoch 12/30\n",
      "67/67 [==============================] - 30s 435ms/step - loss: 2.0457 - accuracy: 0.0480 - val_loss: 3.1216 - val_accuracy: 0.0275\n",
      "Epoch 13/30\n",
      "67/67 [==============================] - 30s 434ms/step - loss: 2.0196 - accuracy: 0.0504 - val_loss: 2.2741 - val_accuracy: 0.0495\n",
      "Epoch 14/30\n",
      "67/67 [==============================] - 31s 435ms/step - loss: 1.9839 - accuracy: 0.0548 - val_loss: 3.9472 - val_accuracy: 0.0025\n",
      "Epoch 15/30\n",
      "67/67 [==============================] - 30s 435ms/step - loss: 1.9744 - accuracy: 0.0484 - val_loss: 2.4633 - val_accuracy: 0.1685\n",
      "Epoch 16/30\n",
      "67/67 [==============================] - 30s 435ms/step - loss: 1.9369 - accuracy: 0.0527 - val_loss: 1.9685 - val_accuracy: 0.0315\n",
      "Epoch 17/30\n",
      "67/67 [==============================] - 30s 434ms/step - loss: 1.9184 - accuracy: 0.0514 - val_loss: 2.4099 - val_accuracy: 0.1035\n",
      "Epoch 18/30\n",
      "67/67 [==============================] - 30s 435ms/step - loss: 1.8971 - accuracy: 0.0499 - val_loss: 2.4182 - val_accuracy: 0.0160\n",
      "Epoch 19/30\n",
      "67/67 [==============================] - 30s 437ms/step - loss: 1.8685 - accuracy: 0.0489 - val_loss: 1.9169 - val_accuracy: 0.0525\n",
      "Epoch 20/30\n",
      "67/67 [==============================] - 30s 437ms/step - loss: 1.8502 - accuracy: 0.0514 - val_loss: 1.8637 - val_accuracy: 0.0465\n",
      "Epoch 21/30\n",
      "67/67 [==============================] - 31s 436ms/step - loss: 1.8483 - accuracy: 0.0493 - val_loss: 1.8814 - val_accuracy: 0.0210\n",
      "Epoch 22/30\n",
      "67/67 [==============================] - 30s 436ms/step - loss: 1.8249 - accuracy: 0.0484 - val_loss: 2.0227 - val_accuracy: 0.0590\n",
      "Epoch 23/30\n",
      "67/67 [==============================] - 30s 436ms/step - loss: 1.7993 - accuracy: 0.0462 - val_loss: 1.8393 - val_accuracy: 0.0305\n",
      "Epoch 24/30\n",
      "67/67 [==============================] - 31s 436ms/step - loss: 1.7801 - accuracy: 0.0548 - val_loss: 2.1654 - val_accuracy: 0.0965\n",
      "Epoch 25/30\n",
      "67/67 [==============================] - 31s 434ms/step - loss: 1.7586 - accuracy: 0.0526 - val_loss: 1.8451 - val_accuracy: 0.0915\n",
      "Epoch 26/30\n",
      "67/67 [==============================] - 30s 436ms/step - loss: 1.7364 - accuracy: 0.0491 - val_loss: 1.7108 - val_accuracy: 0.0535\n",
      "Epoch 27/30\n",
      "67/67 [==============================] - 30s 436ms/step - loss: 1.7173 - accuracy: 0.0547 - val_loss: 1.7414 - val_accuracy: 0.0370\n",
      "Epoch 28/30\n",
      "67/67 [==============================] - 30s 436ms/step - loss: 1.6942 - accuracy: 0.0487 - val_loss: 1.8764 - val_accuracy: 0.0845\n",
      "Epoch 29/30\n",
      "67/67 [==============================] - 30s 436ms/step - loss: 1.6903 - accuracy: 0.0504 - val_loss: 1.8688 - val_accuracy: 0.0870\n",
      "Epoch 30/30\n",
      "67/67 [==============================] - 30s 436ms/step - loss: 1.6620 - accuracy: 0.0506 - val_loss: 1.7974 - val_accuracy: 0.0525\n"
     ]
    }
   ],
   "source": [
    "history_mycnn_8 = model_mycnn_8.fit(datagen.flow(a, y_train, batch_size=128),\n",
    "                        epochs=30,callbacks=[callback],\n",
    "                        validation_data=(x_test_new, y_test),\n",
    "                        workers=4)"
   ]
  },
  {
   "cell_type": "markdown",
   "metadata": {
    "id": "gIk40ztv4acp"
   },
   "source": [
    "#### **Dropout και επαύξηση δεδομένων** "
   ]
  },
  {
   "cell_type": "code",
   "execution_count": null,
   "metadata": {
    "id": "AVhshQC7_Ftp"
   },
   "outputs": [],
   "source": [
    "from keras.preprocessing.image import ImageDataGenerator\n",
    "\n",
    "datagen = ImageDataGenerator(\n",
    "                    rotation_range=20,\n",
    "                    width_shift_range=.2,\n",
    "                    height_shift_range=.2,\n",
    "                    horizontal_flip=True,\n",
    "                    zoom_range=0.5\n",
    "                    )\n",
    "datagen.fit(a)"
   ]
  },
  {
   "cell_type": "code",
   "execution_count": null,
   "metadata": {
    "id": "4_IfMdF6B4jS"
   },
   "outputs": [],
   "source": [
    "tf.keras.callbacks.EarlyStopping(\n",
    "    monitor=\"val_loss\",\n",
    "    min_delta=0,\n",
    "    patience=0,\n",
    "    verbose=0,\n",
    "    mode=\"auto\",\n",
    "    baseline=None,\n",
    "    restore_best_weights=False,\n",
    ")\n",
    "\n",
    "callback = tf.keras.callbacks.EarlyStopping(monitor='loss', patience=3)"
   ]
  },
  {
   "cell_type": "markdown",
   "metadata": {
    "id": "pDo3DPXFAcEY"
   },
   "source": [
    "##### ***Σχεδίαση***"
   ]
  },
  {
   "cell_type": "code",
   "execution_count": null,
   "metadata": {
    "id": "vnT9wlh5-J98"
   },
   "outputs": [],
   "source": [
    "model_mycnn_9 = models.Sequential()\n",
    "model_mycnn_9.add(layers.Conv2D(filters=80, kernel_size=15, activation='relu', padding='same',  input_shape=(96, 96, 3))) \n",
    "model_mycnn_9.add(layers.BatchNormalization())\n",
    "model_mycnn_9.add(layers.AvgPool2D(pool_size=2, strides=2))\n",
    "model_mycnn_9.add(layers.Dropout(0.2)) \n",
    "model_mycnn_9.add(layers.Conv2D(filters=100, kernel_size=5, activation='relu'))\n",
    "model_mycnn_9.add(layers.BatchNormalization())\n",
    "model_mycnn_9.add(layers.AvgPool2D(pool_size=2, strides=2))\n",
    "model_mycnn_9.add(layers.Dropout(0.2)) \n",
    "model_mycnn_9.add(layers.Conv2D(filters=300, kernel_size=5, activation='relu'))\n",
    "model_mycnn_9.add(layers.BatchNormalization())\n",
    "model_mycnn_9.add(layers.Conv2D(filters=300, kernel_size=5, activation='relu'))\n",
    "model_mycnn_9.add(layers.BatchNormalization())\n",
    "model_mycnn_9.add(layers.Conv2D(filters=200, kernel_size=5, activation='relu'))\n",
    "model_mycnn_9.add(layers.BatchNormalization())\n",
    "model_mycnn_9.add(layers.Conv2D(filters=200, kernel_size=5, activation='relu'))\n",
    "model_mycnn_9.add(layers.BatchNormalization())\n",
    "model_mycnn_9.add(layers.AvgPool2D(pool_size=2, strides=2))\n",
    "model_mycnn_9.add(layers.Dropout(0.2)) \n",
    "model_mycnn_9.add(layers.Flatten())\n",
    "model_mycnn_9.add(layers.Dense(2000, activation='relu'))\n",
    "model_mycnn_9.add(layers.Dense(1000, activation='relu'))\n",
    "model_mycnn_9.add(layers.Dense(20))"
   ]
  },
  {
   "cell_type": "markdown",
   "metadata": {
    "id": "gUjZLsMRAkH3"
   },
   "source": [
    "##### ***Μεταγλώττιση***"
   ]
  },
  {
   "cell_type": "code",
   "execution_count": null,
   "metadata": {
    "id": "pZEyaQes-9KI"
   },
   "outputs": [],
   "source": [
    "model_mycnn_9.compile(optimizer='adam',\n",
    "             loss=tf.keras.losses.SparseCategoricalCrossentropy(from_logits=True),\n",
    "              metrics=['accuracy'])"
   ]
  },
  {
   "cell_type": "markdown",
   "metadata": {
    "id": "br8-Z7J3As_-"
   },
   "source": [
    "##### ***Εκπαίδευση***"
   ]
  },
  {
   "cell_type": "code",
   "execution_count": null,
   "metadata": {
    "colab": {
     "base_uri": "https://localhost:8080/"
    },
    "id": "tg1IXKg2_SVC",
    "outputId": "96bc1df7-2c5d-4492-f6c5-e84a415ec297"
   },
   "outputs": [
    {
     "name": "stdout",
     "output_type": "stream",
     "text": [
      "Epoch 1/30\n",
      "67/67 [==============================] - 33s 466ms/step - loss: 2.7225 - accuracy: 0.0440 - val_loss: 7.6031 - val_accuracy: 0.0010\n",
      "Epoch 2/30\n",
      "67/67 [==============================] - 31s 448ms/step - loss: 2.4107 - accuracy: 0.0336 - val_loss: 3.2694 - val_accuracy: 0.0030\n",
      "Epoch 3/30\n",
      "67/67 [==============================] - 32s 447ms/step - loss: 2.3150 - accuracy: 0.0436 - val_loss: 2.7488 - val_accuracy: 0.0025\n",
      "Epoch 4/30\n",
      "67/67 [==============================] - 31s 448ms/step - loss: 2.2655 - accuracy: 0.0367 - val_loss: 2.4080 - val_accuracy: 0.0565\n",
      "Epoch 5/30\n",
      "67/67 [==============================] - 31s 447ms/step - loss: 2.2202 - accuracy: 0.0456 - val_loss: 2.4266 - val_accuracy: 0.0340\n",
      "Epoch 6/30\n",
      "67/67 [==============================] - 31s 447ms/step - loss: 2.1949 - accuracy: 0.0553 - val_loss: 2.5566 - val_accuracy: 0.0075\n",
      "Epoch 7/30\n",
      "67/67 [==============================] - 32s 449ms/step - loss: 2.1466 - accuracy: 0.0561 - val_loss: 2.2806 - val_accuracy: 0.0030\n",
      "Epoch 8/30\n",
      "67/67 [==============================] - 31s 447ms/step - loss: 2.1398 - accuracy: 0.0533 - val_loss: 3.1532 - val_accuracy: 0.0140\n",
      "Epoch 9/30\n",
      "67/67 [==============================] - 31s 461ms/step - loss: 2.0846 - accuracy: 0.0551 - val_loss: 2.3439 - val_accuracy: 0.0220\n",
      "Epoch 10/30\n",
      "67/67 [==============================] - 32s 447ms/step - loss: 2.0551 - accuracy: 0.0546 - val_loss: 2.2494 - val_accuracy: 0.0640\n",
      "Epoch 11/30\n",
      "67/67 [==============================] - 31s 448ms/step - loss: 2.0589 - accuracy: 0.0440 - val_loss: 2.2702 - val_accuracy: 0.0175\n",
      "Epoch 12/30\n",
      "67/67 [==============================] - 31s 447ms/step - loss: 2.0283 - accuracy: 0.0554 - val_loss: 5.2736 - val_accuracy: 0.0385\n",
      "Epoch 13/30\n",
      "67/67 [==============================] - 31s 448ms/step - loss: 2.0012 - accuracy: 0.0538 - val_loss: 2.1062 - val_accuracy: 0.1290\n",
      "Epoch 14/30\n",
      "67/67 [==============================] - 31s 448ms/step - loss: 1.9613 - accuracy: 0.0512 - val_loss: 2.0988 - val_accuracy: 0.0070\n",
      "Epoch 15/30\n",
      "67/67 [==============================] - 31s 446ms/step - loss: 1.9553 - accuracy: 0.0551 - val_loss: 2.1991 - val_accuracy: 0.0570\n",
      "Epoch 16/30\n",
      "67/67 [==============================] - 32s 447ms/step - loss: 1.8953 - accuracy: 0.0554 - val_loss: 2.3282 - val_accuracy: 0.0495\n",
      "Epoch 17/30\n",
      "67/67 [==============================] - 31s 448ms/step - loss: 1.9013 - accuracy: 0.0526 - val_loss: 2.1895 - val_accuracy: 0.0190\n",
      "Epoch 18/30\n",
      "67/67 [==============================] - 31s 449ms/step - loss: 1.8965 - accuracy: 0.0453 - val_loss: 2.0837 - val_accuracy: 0.0565\n",
      "Epoch 19/30\n",
      "67/67 [==============================] - 31s 448ms/step - loss: 1.8770 - accuracy: 0.0514 - val_loss: 2.1378 - val_accuracy: 0.0510\n",
      "Epoch 20/30\n",
      "67/67 [==============================] - 31s 447ms/step - loss: 1.8534 - accuracy: 0.0509 - val_loss: 1.9134 - val_accuracy: 0.0325\n",
      "Epoch 21/30\n",
      "67/67 [==============================] - 32s 447ms/step - loss: 1.8434 - accuracy: 0.0506 - val_loss: 1.8095 - val_accuracy: 0.0440\n",
      "Epoch 22/30\n",
      "67/67 [==============================] - 31s 448ms/step - loss: 1.8060 - accuracy: 0.0488 - val_loss: 3.8869 - val_accuracy: 0.0000e+00\n",
      "Epoch 23/30\n",
      "67/67 [==============================] - 32s 448ms/step - loss: 1.8118 - accuracy: 0.0526 - val_loss: 1.9211 - val_accuracy: 0.0725\n",
      "Epoch 24/30\n",
      "67/67 [==============================] - 32s 448ms/step - loss: 1.7868 - accuracy: 0.0516 - val_loss: 1.8711 - val_accuracy: 0.0310\n",
      "Epoch 25/30\n",
      "67/67 [==============================] - 32s 447ms/step - loss: 1.7812 - accuracy: 0.0505 - val_loss: 1.9694 - val_accuracy: 0.0470\n",
      "Epoch 26/30\n",
      "67/67 [==============================] - 31s 448ms/step - loss: 1.7649 - accuracy: 0.0505 - val_loss: 1.9221 - val_accuracy: 0.0695\n",
      "Epoch 27/30\n",
      "67/67 [==============================] - 32s 447ms/step - loss: 1.7272 - accuracy: 0.0493 - val_loss: 1.8065 - val_accuracy: 0.1085\n",
      "Epoch 28/30\n",
      "67/67 [==============================] - 31s 447ms/step - loss: 1.7135 - accuracy: 0.0492 - val_loss: 1.8075 - val_accuracy: 0.0450\n",
      "Epoch 29/30\n",
      "67/67 [==============================] - 32s 448ms/step - loss: 1.6925 - accuracy: 0.0507 - val_loss: 1.6396 - val_accuracy: 0.0440\n",
      "Epoch 30/30\n",
      "67/67 [==============================] - 31s 449ms/step - loss: 1.6648 - accuracy: 0.0476 - val_loss: 1.6397 - val_accuracy: 0.0820\n"
     ]
    }
   ],
   "source": [
    "history_mycnn_9 = model_mycnn_9.fit(datagen.flow(a, y_train, batch_size=128),\n",
    "                        epochs=30,\n",
    "                        validation_data=(x_test_new, y_test),\n",
    "                        workers=4)"
   ]
  },
  {
   "cell_type": "markdown",
   "metadata": {
    "id": "MuhanMo26ay8"
   },
   "source": [
    "#### **Πρόωρος τερματισμός και dropout και επαύξηση δεδομένων**"
   ]
  },
  {
   "cell_type": "code",
   "execution_count": null,
   "metadata": {
    "id": "DOOttYbWButE"
   },
   "outputs": [],
   "source": [
    "from keras.preprocessing.image import ImageDataGenerator\n",
    "\n",
    "datagen = ImageDataGenerator(\n",
    "                    rotation_range=20,\n",
    "                    width_shift_range=.2,\n",
    "                    height_shift_range=.2,\n",
    "                    horizontal_flip=True,\n",
    "                    zoom_range=0.5\n",
    "                    )\n",
    "datagen.fit(a)"
   ]
  },
  {
   "cell_type": "code",
   "execution_count": null,
   "metadata": {
    "id": "e-EtaPYCCZe0"
   },
   "outputs": [],
   "source": [
    "tf.keras.callbacks.EarlyStopping(\n",
    "    monitor=\"val_loss\",\n",
    "    min_delta=0,\n",
    "    patience=0,\n",
    "    verbose=0,\n",
    "    mode=\"auto\",\n",
    "    baseline=None,\n",
    "    restore_best_weights=False,\n",
    ")\n",
    "\n",
    "callback = tf.keras.callbacks.EarlyStopping(monitor='loss', patience=3)"
   ]
  },
  {
   "cell_type": "markdown",
   "metadata": {
    "id": "8NhiRCETC0Yh"
   },
   "source": [
    "##### ***Σχεδίαση***"
   ]
  },
  {
   "cell_type": "code",
   "execution_count": null,
   "metadata": {
    "id": "dmks4tHfBwiY"
   },
   "outputs": [],
   "source": [
    "model_mycnn_10 = models.Sequential()\n",
    "model_mycnn_10.add(layers.Conv2D(filters=80, kernel_size=15, activation='relu', padding='same',  input_shape=(96, 96, 3))) \n",
    "model_mycnn_10.add(layers.BatchNormalization())\n",
    "model_mycnn_10.add(layers.AvgPool2D(pool_size=2, strides=2))\n",
    "model_mycnn_10.add(layers.Dropout(0.2)) \n",
    "model_mycnn_10.add(layers.Conv2D(filters=100, kernel_size=5, activation='relu'))\n",
    "model_mycnn_10.add(layers.BatchNormalization())\n",
    "model_mycnn_10.add(layers.AvgPool2D(pool_size=2, strides=2))\n",
    "model_mycnn_10.add(layers.Dropout(0.2)) \n",
    "model_mycnn_10.add(layers.Conv2D(filters=300, kernel_size=5, activation='relu'))\n",
    "model_mycnn_10.add(layers.BatchNormalization())\n",
    "model_mycnn_10.add(layers.Conv2D(filters=300, kernel_size=5, activation='relu'))\n",
    "model_mycnn_10.add(layers.BatchNormalization())\n",
    "model_mycnn_10.add(layers.Conv2D(filters=200, kernel_size=5, activation='relu'))\n",
    "model_mycnn_10.add(layers.BatchNormalization())\n",
    "model_mycnn_10.add(layers.Conv2D(filters=200, kernel_size=5, activation='relu'))\n",
    "model_mycnn_10.add(layers.BatchNormalization())\n",
    "model_mycnn_10.add(layers.AvgPool2D(pool_size=2, strides=2))\n",
    "model_mycnn_10.add(layers.Dropout(0.2)) \n",
    "model_mycnn_10.add(layers.Flatten())\n",
    "model_mycnn_10.add(layers.Dense(2000, activation='relu')) \n",
    "model_mycnn_10.add(layers.Dense(1000, activation='relu'))\n",
    "model_mycnn_10.add(layers.Dense(20))"
   ]
  },
  {
   "cell_type": "markdown",
   "metadata": {
    "id": "FP0kdIWxC1sc"
   },
   "source": [
    "##### ***Σχεδίαση***"
   ]
  },
  {
   "cell_type": "code",
   "execution_count": null,
   "metadata": {
    "id": "JeYE9BukCltf"
   },
   "outputs": [],
   "source": [
    "model_mycnn_10.compile(optimizer='adam',\n",
    "             loss=tf.keras.losses.SparseCategoricalCrossentropy(from_logits=True),\n",
    "              metrics=['accuracy'])"
   ]
  },
  {
   "cell_type": "markdown",
   "metadata": {
    "id": "O13apapaDJ7x"
   },
   "source": [
    "##### ***Εκπαίδευση***"
   ]
  },
  {
   "cell_type": "code",
   "execution_count": null,
   "metadata": {
    "colab": {
     "base_uri": "https://localhost:8080/"
    },
    "id": "wK5iCmuSDcnL",
    "outputId": "2c8d1ed1-1b66-4dfc-e3dc-a287b0c6c783"
   },
   "outputs": [
    {
     "name": "stdout",
     "output_type": "stream",
     "text": [
      "Epoch 1/30\n",
      "67/67 [==============================] - 33s 467ms/step - loss: 2.7708 - accuracy: 0.0449 - val_loss: 14.4778 - val_accuracy: 0.0000e+00\n",
      "Epoch 2/30\n",
      "67/67 [==============================] - 31s 449ms/step - loss: 2.4382 - accuracy: 0.0480 - val_loss: 3.4851 - val_accuracy: 0.0015\n",
      "Epoch 3/30\n",
      "67/67 [==============================] - 32s 448ms/step - loss: 2.3557 - accuracy: 0.0524 - val_loss: 2.3752 - val_accuracy: 0.0125\n",
      "Epoch 4/30\n",
      "67/67 [==============================] - 31s 447ms/step - loss: 2.2965 - accuracy: 0.0593 - val_loss: 2.8540 - val_accuracy: 0.0495\n",
      "Epoch 5/30\n",
      "67/67 [==============================] - 32s 448ms/step - loss: 2.2384 - accuracy: 0.0581 - val_loss: 2.5448 - val_accuracy: 0.0375\n",
      "Epoch 6/30\n",
      "67/67 [==============================] - 32s 447ms/step - loss: 2.2071 - accuracy: 0.0506 - val_loss: 3.3506 - val_accuracy: 5.0000e-04\n",
      "Epoch 7/30\n",
      "67/67 [==============================] - 31s 448ms/step - loss: 2.1811 - accuracy: 0.0573 - val_loss: 4.0364 - val_accuracy: 0.0000e+00\n",
      "Epoch 8/30\n",
      "67/67 [==============================] - 32s 448ms/step - loss: 2.1424 - accuracy: 0.0535 - val_loss: 2.9413 - val_accuracy: 0.0010\n",
      "Epoch 9/30\n",
      "67/67 [==============================] - 31s 448ms/step - loss: 2.1210 - accuracy: 0.0614 - val_loss: 3.0598 - val_accuracy: 5.0000e-04\n",
      "Epoch 10/30\n",
      "67/67 [==============================] - 31s 448ms/step - loss: 2.0959 - accuracy: 0.0547 - val_loss: 3.7024 - val_accuracy: 0.0270\n",
      "Epoch 11/30\n",
      "67/67 [==============================] - 32s 449ms/step - loss: 2.0430 - accuracy: 0.0534 - val_loss: 2.0504 - val_accuracy: 0.0870\n",
      "Epoch 12/30\n",
      "67/67 [==============================] - 31s 447ms/step - loss: 2.0193 - accuracy: 0.0542 - val_loss: 2.1540 - val_accuracy: 0.0520\n",
      "Epoch 13/30\n",
      "67/67 [==============================] - 31s 448ms/step - loss: 2.0135 - accuracy: 0.0576 - val_loss: 2.0362 - val_accuracy: 0.0450\n",
      "Epoch 14/30\n",
      "67/67 [==============================] - 32s 449ms/step - loss: 1.9696 - accuracy: 0.0547 - val_loss: 1.9524 - val_accuracy: 0.0680\n",
      "Epoch 15/30\n",
      "67/67 [==============================] - 31s 450ms/step - loss: 1.9606 - accuracy: 0.0527 - val_loss: 1.9737 - val_accuracy: 0.0415\n",
      "Epoch 16/30\n",
      "67/67 [==============================] - 31s 450ms/step - loss: 1.9375 - accuracy: 0.0527 - val_loss: 2.0706 - val_accuracy: 0.0305\n",
      "Epoch 17/30\n",
      "67/67 [==============================] - 31s 450ms/step - loss: 1.9246 - accuracy: 0.0571 - val_loss: 1.9913 - val_accuracy: 0.0115\n",
      "Epoch 18/30\n",
      "67/67 [==============================] - 31s 450ms/step - loss: 1.9071 - accuracy: 0.0589 - val_loss: 1.9528 - val_accuracy: 0.0225\n",
      "Epoch 19/30\n",
      "67/67 [==============================] - 31s 449ms/step - loss: 1.8668 - accuracy: 0.0520 - val_loss: 1.8919 - val_accuracy: 0.0880\n",
      "Epoch 20/30\n",
      "67/67 [==============================] - 31s 448ms/step - loss: 1.8678 - accuracy: 0.0518 - val_loss: 1.9153 - val_accuracy: 0.1015\n",
      "Epoch 21/30\n",
      "67/67 [==============================] - 31s 449ms/step - loss: 1.8203 - accuracy: 0.0522 - val_loss: 2.1618 - val_accuracy: 0.0140\n",
      "Epoch 22/30\n",
      "67/67 [==============================] - 31s 448ms/step - loss: 1.8084 - accuracy: 0.0529 - val_loss: 1.8071 - val_accuracy: 0.1130\n",
      "Epoch 23/30\n",
      "67/67 [==============================] - 31s 449ms/step - loss: 1.8092 - accuracy: 0.0504 - val_loss: 1.9001 - val_accuracy: 0.0230\n",
      "Epoch 24/30\n",
      "67/67 [==============================] - 31s 447ms/step - loss: 1.7845 - accuracy: 0.0528 - val_loss: 1.9129 - val_accuracy: 0.0615\n",
      "Epoch 25/30\n",
      "67/67 [==============================] - 31s 450ms/step - loss: 1.7812 - accuracy: 0.0547 - val_loss: 1.9685 - val_accuracy: 0.0345\n",
      "Epoch 26/30\n",
      "67/67 [==============================] - 32s 449ms/step - loss: 1.7597 - accuracy: 0.0496 - val_loss: 1.8881 - val_accuracy: 0.0225\n",
      "Epoch 27/30\n",
      "67/67 [==============================] - 31s 448ms/step - loss: 1.7460 - accuracy: 0.0538 - val_loss: 1.7825 - val_accuracy: 0.0340\n",
      "Epoch 28/30\n",
      "67/67 [==============================] - 32s 449ms/step - loss: 1.7044 - accuracy: 0.0512 - val_loss: 2.1020 - val_accuracy: 0.0220\n",
      "Epoch 29/30\n",
      "67/67 [==============================] - 31s 448ms/step - loss: 1.6902 - accuracy: 0.0516 - val_loss: 2.0600 - val_accuracy: 0.0825\n",
      "Epoch 30/30\n",
      "67/67 [==============================] - 31s 449ms/step - loss: 1.6588 - accuracy: 0.0516 - val_loss: 1.6853 - val_accuracy: 0.0695\n",
      "Only 30 epochs are run out of 50\n"
     ]
    }
   ],
   "source": [
    "history_mycnn_10 = model_mycnn_10.fit(datagen.flow(a, y_train, batch_size=128),\n",
    "                        epochs=30,\n",
    "                        callbacks=[callback],\n",
    "                        validation_data=(x_test_new, y_test),\n",
    "                        workers=4)\n",
    "print(\"Only\",len(history_mycnn_10.history['loss']),\"epochs are run out of\", 50)"
   ]
  },
  {
   "cell_type": "markdown",
   "metadata": {
    "id": "md0LNGekHJby"
   },
   "source": [
    "### **Βήμα 2 : Αξιολόγηση**"
   ]
  },
  {
   "cell_type": "markdown",
   "metadata": {
    "id": "DopUIsYzHnxc"
   },
   "source": [
    "* **Early stopping**"
   ]
  },
  {
   "cell_type": "code",
   "execution_count": null,
   "metadata": {
    "colab": {
     "base_uri": "https://localhost:8080/",
     "height": 266
    },
    "id": "0D5GJkOUIeyB",
    "outputId": "a7942b36-1c0f-48e8-8faa-98aaa6b62713"
   },
   "outputs": [
    {
     "data": {
      "image/png": "[encoded data removed]",
      "text/plain": [
       "<Figure size 1440x216 with 2 Axes>"
      ]
     },
     "metadata": {
      "needs_background": "light",
      "tags": []
     },
     "output_type": "display_data"
    }
   ],
   "source": [
    "plt.figure(figsize=(20, 3))\n",
    "plt.subplot(1, 2, 1)\n",
    "plt.plot(history_mycnn_2.history['accuracy'], label='accuracy')\n",
    "plt.plot(history_mycnn_2.history['val_accuracy'], label = 'val_accuracy')\n",
    "plt.xlabel('Epoch')\n",
    "plt.ylabel('Accuracy')\n",
    "plt.ylim([0, 1])\n",
    "plt.legend(loc='lower right')\n",
    "plt.title(\"MyCNN without early stopping\",size=10)\n",
    "\n",
    "plt.subplot(1, 2, 2)\n",
    "plt.plot(history_mycnn_4.history['accuracy'], label='accuracy')\n",
    "plt.plot(history_mycnn_4.history['val_accuracy'], label = 'val_accuracy')\n",
    "plt.xlabel('Epoch')\n",
    "plt.ylabel('Accuracy')\n",
    "plt.ylim([0, 1])\n",
    "plt.legend(loc='lower right')\n",
    "plt.title(\"MyCNN with early stopping\",size=10)\n",
    "\n",
    "plt.subplots_adjust(left=0, bottom=0, right=None, top= None, wspace=0.2, hspace=0.5)"
   ]
  },
  {
   "cell_type": "code",
   "execution_count": null,
   "metadata": {
    "colab": {
     "base_uri": "https://localhost:8080/"
    },
    "id": "1qHJjs9OLVxo",
    "outputId": "4d59ba4e-e8d5-4cdc-8188-797872553251"
   },
   "outputs": [
    {
     "name": "stdout",
     "output_type": "stream",
     "text": [
      "63/63 - 1s - loss: 3.6276 - accuracy: 0.4675\n",
      "63/63 - 1s - loss: 3.5376 - accuracy: 0.4670\n"
     ]
    }
   ],
   "source": [
    "test_loss, test_acc = model_mycnn_2.evaluate(x_test_new,  y_test, verbose=2)\n",
    "test_loss, test_acc = model_mycnn_4.evaluate(x_test_new,  y_test, verbose=2)"
   ]
  },
  {
   "cell_type": "markdown",
   "metadata": {
    "id": "C7p9pEJuqbBQ"
   },
   "source": [
    "Βλέπουμε ότι με την μέθοδο early stopping δεν βελτιώνει αισθητά το accuracy ωστόσο μειώνει ελάχιστα το loss, κάτι το οποίο ήταν αναμενόμενο. Όσο πιο πολύ αυξάνουμε τα epochs τόσο περισσότερο θα μειωνόταν το loss ωστόσο από ένα σημείο και μετά η RAM δεν επαρκούσε για πολύ μεγάλο αριθμό epochs οπότε κρατήσαμε το epochs = 50. Ακόμα, παρατηρώντας την μορφή των δύο γραφικών παραστάσεων, βλέπουμε ότι η μορφή της καμπύλης ορθότητας εκπαίδευσης είναι σχεδόν ίδια ενώ η καμπύλη της ορθότητας επικύρωσης παρουσιάζει μια απότομη μεταβολή στην μέθοδο early stopping για την οποία ευθύνεται ο τρόπος με τον οποίο τροποποιήθηκε το my_cnn_2 για την εφαρμογη του early stopping. "
   ]
  },
  {
   "cell_type": "markdown",
   "metadata": {
    "id": "i5GEhD_YHtwX"
   },
   "source": [
    "* **Dropout**"
   ]
  },
  {
   "cell_type": "code",
   "execution_count": null,
   "metadata": {
    "colab": {
     "base_uri": "https://localhost:8080/",
     "height": 266
    },
    "id": "bI0HTl5MI2EW",
    "outputId": "7e3b1529-c45c-4ae3-debc-515a73057310"
   },
   "outputs": [
    {
     "data": {
      "image/png": "[encoded data removed]",
      "text/plain": [
       "<Figure size 1440x216 with 2 Axes>"
      ]
     },
     "metadata": {
      "needs_background": "light",
      "tags": []
     },
     "output_type": "display_data"
    }
   ],
   "source": [
    "plt.figure(figsize=(20, 3))\n",
    "plt.subplot(1, 2, 1)\n",
    "plt.plot(history_mycnn_2.history['accuracy'], label='accuracy')\n",
    "plt.plot(history_mycnn_2.history['val_accuracy'], label = 'val_accuracy')\n",
    "plt.xlabel('Epoch')\n",
    "plt.ylabel('Accuracy')\n",
    "plt.ylim([0, 1])\n",
    "plt.legend(loc='lower right')\n",
    "plt.title(\"MyCNN without dropout\",size=10)\n",
    "\n",
    "plt.subplot(1, 2, 2)\n",
    "plt.plot(history_mycnn_5.history['accuracy'], label='accuracy')\n",
    "plt.plot(history_mycnn_5.history['val_accuracy'], label = 'val_accuracy')\n",
    "plt.xlabel('Epoch')\n",
    "plt.ylabel('Accuracy')\n",
    "plt.ylim([0, 1])\n",
    "plt.legend(loc='lower right')\n",
    "plt.title(\"MyCNN with dropout\",size=10)\n",
    "\n",
    "plt.subplots_adjust(left=0, bottom=0, right=None, top= None, wspace=0.2, hspace=0.5)"
   ]
  },
  {
   "cell_type": "code",
   "execution_count": null,
   "metadata": {
    "colab": {
     "base_uri": "https://localhost:8080/"
    },
    "id": "tWUqtsUfJELI",
    "outputId": "59586f58-128f-45a7-e34a-00cc7ba39505"
   },
   "outputs": [
    {
     "name": "stdout",
     "output_type": "stream",
     "text": [
      "63/63 - 5s - loss: 3.4853 - accuracy: 0.4715\n",
      "63/63 - 2s - loss: 3.3143 - accuracy: 0.4805\n"
     ]
    }
   ],
   "source": [
    "test_loss, test_acc = model_mycnn_2.evaluate(x_test_new,  y_test, verbose=2)\n",
    "test_loss, test_acc = model_mycnn_5.evaluate(x_test_new,  y_test, verbose=2)"
   ]
  },
  {
   "cell_type": "markdown",
   "metadata": {
    "id": "GwdHs0AG0p2v"
   },
   "source": [
    "Εδώ παρατηρούμε ότι υπάρχει μία ελάχιστη βελτίωση στο accuracy και μείωση του loss, επομένως έχει βοηθήσει η μέθοδος dropout. Παρόλα αυτά, η εφαρμογή της μεθόδου dropout δεν εγγυάται πάντα βελτίωση των παραγώμενων αποτελεσμάτων ενός νευρωνικού δικτύου μιας και εξαρτάται από τον τρόπο κατασκευής τους, οπότε σε μερικές περιπτώσεις κρίνεται μη αναγκαία η εφαρμογή αυτής της μεθόδου."
   ]
  },
  {
   "cell_type": "markdown",
   "metadata": {
    "id": "znkj__JTH4WQ"
   },
   "source": [
    "* **Data augmentation**"
   ]
  },
  {
   "cell_type": "code",
   "execution_count": null,
   "metadata": {
    "id": "SNy8RSZv51Zl"
   },
   "outputs": [],
   "source": [
    "plt.figure(figsize=(20, 3))\n",
    "plt.subplot(1, 2, 1)\n",
    "plt.plot(history_mycnn_2.history['accuracy'], label='accuracy')\n",
    "plt.plot(history_mycnn_2.history['val_accuracy'], label = 'val_accuracy')\n",
    "plt.xlabel('Epoch')\n",
    "plt.ylabel('Accuracy')\n",
    "plt.ylim([0, 1])\n",
    "plt.legend(loc='lower right')\n",
    "plt.title(\"MyCNN without data augmentation\",size=10)\n",
    "\n",
    "plt.subplot(1, 2, 2)\n",
    "plt.plot(history_mycnn_6.history['accuracy'], label='accuracy')\n",
    "plt.plot(history_mycnn_6.history['val_accuracy'], label = 'val_accuracy')\n",
    "plt.xlabel('Epoch')\n",
    "plt.ylabel('Accuracy')\n",
    "plt.ylim([0, 1])\n",
    "plt.legend(loc='lower right')\n",
    "plt.title(\"MyCNN with data augmentation\",size=10)\n",
    "\n",
    "plt.subplots_adjust(left=0, bottom=0, right=None, top= None, wspace=0.2, hspace=0.5)"
   ]
  },
  {
   "cell_type": "code",
   "execution_count": null,
   "metadata": {
    "colab": {
     "base_uri": "https://localhost:8080/"
    },
    "id": "ydytveVP8oTV",
    "outputId": "f78f9c2e-878e-41e0-8188-abe61df4bc00"
   },
   "outputs": [
    {
     "name": "stdout",
     "output_type": "stream",
     "text": [
      "63/63 - 3s - loss: 3.4853 - accuracy: 0.4715\n",
      "63/63 - 2s - loss: 2.9561 - accuracy: 0.0630\n"
     ]
    }
   ],
   "source": [
    "test_loss, test_acc = model_mycnn_2.evaluate(x_test_new,  y_test, verbose=2)\n",
    "test_loss, test_acc = model_mycnn_6.evaluate(x_test_new,  y_test, verbose=2)"
   ]
  },
  {
   "cell_type": "markdown",
   "metadata": {
    "id": "QdI1Z7oHF9T6"
   },
   "source": [
    "Βλέπουμε πως η μέθοδος αυτή αν και μείωσε περισσότερο από τις προηγούμενες μεθόδους το loss, ταυτόχρονα μείωσε πάρα πολύ το accuracy γεγονός που μας δείχνει ότι αυτή η μέθοδος δεν είναι η κατάλληλη για τον έλεγχο της υπερεκπαίδευσης στο συγκεκριμένο μοντέλο. Η ακρίβεια είναι πιθανό να μειώθηκε επειδή κατά την εκπαίδευση, με χρήση των μετασχηματισμένων εικόνων, το νευρωνικό δίκτυο ίσως εκπαιδεύτηκε και σε θορύβους γεγονός το οποίο οδήγησε στο να μην μπορεί να αναγνωρίσει σωστά τις test εικόνες."
   ]
  },
  {
   "cell_type": "markdown",
   "metadata": {
    "id": "fqYOY5x2cO3D"
   },
   "source": [
    "Για τους υπόλοιπους συνδυασμούς υπολογίζουμε μόνο τα test_loss,test_acc."
   ]
  },
  {
   "cell_type": "markdown",
   "metadata": {
    "id": "87n73tbAi1k2"
   },
   "source": [
    "* **Πρόωρος τερματισμός και dropout**"
   ]
  },
  {
   "cell_type": "code",
   "execution_count": null,
   "metadata": {
    "colab": {
     "base_uri": "https://localhost:8080/"
    },
    "id": "qIukl_aPjQSf",
    "outputId": "fdd7a0d6-5da8-45e2-fce2-7334f9533ba3"
   },
   "outputs": [
    {
     "name": "stdout",
     "output_type": "stream",
     "text": [
      "63/63 - 2s - loss: 3.8100 - accuracy: 0.4740\n",
      "63/63 - 2s - loss: 3.3917 - accuracy: 0.4850\n"
     ]
    }
   ],
   "source": [
    "test_loss, test_acc = model_mycnn_2.evaluate(x_test_new,  y_test, verbose=2)\n",
    "test_loss, test_acc = model_mycnn_7.evaluate(x_test_new,  y_test, verbose=2)"
   ]
  },
  {
   "cell_type": "markdown",
   "metadata": {
    "id": "QM0zHzAVjA5i"
   },
   "source": [
    "* **Πρόωρος τερματισμός και επαύξηση δεδομένων**"
   ]
  },
  {
   "cell_type": "code",
   "execution_count": null,
   "metadata": {
    "colab": {
     "base_uri": "https://localhost:8080/"
    },
    "id": "k7ihRWL6jXcj",
    "outputId": "bdd5e3c8-455d-4829-91cb-35d129dc9699"
   },
   "outputs": [
    {
     "name": "stdout",
     "output_type": "stream",
     "text": [
      "63/63 - 2s - loss: 3.5936 - accuracy: 0.4755\n",
      "63/63 - 2s - loss: 1.7974 - accuracy: 0.0525\n"
     ]
    }
   ],
   "source": [
    "test_loss, test_acc = model_mycnn_2.evaluate(x_test_new,  y_test, verbose=2)\n",
    "test_loss, test_acc = model_mycnn_8.evaluate(x_test_new,  y_test, verbose=2)"
   ]
  },
  {
   "cell_type": "markdown",
   "metadata": {
    "id": "EG5dF020jIhl"
   },
   "source": [
    "* **Dropout και επαύξηση δεδομένων**"
   ]
  },
  {
   "cell_type": "code",
   "execution_count": null,
   "metadata": {
    "colab": {
     "base_uri": "https://localhost:8080/"
    },
    "id": "wdg4m_aijZA7",
    "outputId": "a03d6dbc-d74f-42cb-a62d-f3df1f9e0214"
   },
   "outputs": [
    {
     "name": "stdout",
     "output_type": "stream",
     "text": [
      "63/63 - 2s - loss: 3.5936 - accuracy: 0.4755\n",
      "63/63 - 2s - loss: 1.6397 - accuracy: 0.0820\n"
     ]
    }
   ],
   "source": [
    "test_loss, test_acc = model_mycnn_2.evaluate(x_test_new,  y_test, verbose=2)\n",
    "test_loss, test_acc = model_mycnn_9.evaluate(x_test_new,  y_test, verbose=2)"
   ]
  },
  {
   "cell_type": "markdown",
   "metadata": {
    "id": "A1Yek7U9jOzK"
   },
   "source": [
    "* **Πρόωρος τερματισμός και dropout και επαύξηση δεδομένων**"
   ]
  },
  {
   "cell_type": "code",
   "execution_count": null,
   "metadata": {
    "colab": {
     "base_uri": "https://localhost:8080/"
    },
    "id": "lsOCeqEZjakY",
    "outputId": "2824754c-8583-47c2-9558-1b36659adae1"
   },
   "outputs": [
    {
     "name": "stdout",
     "output_type": "stream",
     "text": [
      "63/63 - 2s - loss: 3.5936 - accuracy: 0.4755\n",
      "63/63 - 2s - loss: 1.6853 - accuracy: 0.0695\n"
     ]
    }
   ],
   "source": [
    "test_loss, test_acc = model_mycnn_2.evaluate(x_test_new,  y_test, verbose=2)\n",
    "test_loss, test_acc = model_mycnn_10.evaluate(x_test_new,  y_test, verbose=2)"
   ]
  },
  {
   "cell_type": "markdown",
   "metadata": {
    "id": "GL3sTtRY7kR_"
   },
   "source": [
    "Παρατηρούμε λοιπόν πως συνδυάζοντας περισσότερες της μίας μεθόδους για την αντιμετώπιση υπερεκπαίδευσης δεν έχουμε πάντα βελτίωση των αποτελεσμάτων μας. Συγκεκριμένα, η μόνη περίπτωση στην οποία παρατηρούμε πως πράγματι το μοντέλο μας γενικεύει καλύτερα είναι όταν χρησιμοποιούμε έναν συνδασμό dropout και πρόωρου τερματισμού. "
   ]
  },
  {
   "cell_type": "markdown",
   "metadata": {
    "id": "jTxKRNEHWfGs"
   },
   "source": [
    "## **Ερώτημα 3**\n",
    "---\n",
    "### Βήμα 1: Μεταφορά γνώσης\n",
    "Εφαρμόστε μεταφορά γνώσης (transfer learning) στο δικό σας μοντέλο (**MyCNN**), που αξιολογήσατε ως καλύτερο προς την ακρίβεια στην αντιμετώπιση της υπερεκπαίδεσης. \n",
    "\n",
    "Για το transfer learning επιλέξτε το [VGG16](https://www.tensorflow.org/api_docs/python/tf/keras/applications/vgg16) για μεταφορά μάθησης.\n",
    "\n",
    "1. \"Παγώστε\" τη συνελικτική βάση και εκπαιδεύστε την κεφαλή ταξινόμησης (classification head - σημαία trainable = False).  \n",
    "\n",
    "2. Εκπαιδέστε μόνο ένα ποσοστό των επιπέδων, το οποίο βρίσκεται προς την έξοδο του δικτύου. Οι σημαίες trainable εδώ θα πρέπει να οριστούν ανά επίπεδο.\n",
    "\n",
    "3. Αξιολογήστε τα αποτελέσματά σας, βάσει της ορθότητας του validation set και του test set σας."
   ]
  },
  {
   "cell_type": "markdown",
   "metadata": {
    "id": "gHNX8YD2MBbf"
   },
   "source": [
    "## **Ερώτημα 3 - Υλοποίηση**"
   ]
  },
  {
   "cell_type": "markdown",
   "metadata": {
    "id": "_UCcYgdTMJSw"
   },
   "source": [
    "Εφαρμόσαμε την μεταφορά γνώσης στο μοντέλο model_mycnn_4 του προηγούμενου ερωτήματος μιας και εκείνο είχε την καλύτερη accuracy. Τα βήματα που ακολουθήσαμε έχουν ως εξής:"
   ]
  },
  {
   "cell_type": "markdown",
   "metadata": {
    "id": "E5R0bopuMXG4"
   },
   "source": [
    "### **1.Πάγωμα της συνελικτικής βάσης και εκπαίδευση της κεφαλής ταξινόμησης**"
   ]
  },
  {
   "cell_type": "markdown",
   "metadata": {
    "id": "FoEfiVMaYSBA"
   },
   "source": [
    "Ένα pre-trained model είναι ένα αποθηκευμένο νευρωνικό το οποίο έχει εκπαιδευτεί ήδη σε ένα μεγάλο dataset."
   ]
  },
  {
   "cell_type": "code",
   "execution_count": null,
   "metadata": {
    "id": "qeEtJdTGNgBS"
   },
   "outputs": [],
   "source": [
    "pretrained_model = tf.keras.applications.VGG16(input_shape=(96,96,3), include_top=False)"
   ]
  },
  {
   "cell_type": "markdown",
   "metadata": {
    "id": "ckWJeO-1Ywfy"
   },
   "source": [
    "Αρχικά παγώνουμε την συνελικτική βάση πριν την μεταγλώττιση και την εκπαίδευση του μοντέλου. Το πάγωμα αποτρέπει την ανανέωση στα βάση σε κάποιο επίπεδο κατά την διάρκεια της εκπαίδευσης. Θέτωντας την σημαία όλου του μοντέλου σε False τότε παγώνουν όλα τα επίπεδα του μοντέλου."
   ]
  },
  {
   "cell_type": "code",
   "execution_count": null,
   "metadata": {
    "id": "X_C-EZAuYznx"
   },
   "outputs": [],
   "source": [
    "pretrained_model.trainable = False"
   ]
  },
  {
   "cell_type": "code",
   "execution_count": null,
   "metadata": {
    "colab": {
     "base_uri": "https://localhost:8080/"
    },
    "id": "0A3DUmZ-aViw",
    "outputId": "c25fd9de-d7fe-4cd3-96d2-4ecad448440e"
   },
   "outputs": [
    {
     "name": "stdout",
     "output_type": "stream",
     "text": [
      "Model: \"vgg16\"\n",
      "_________________________________________________________________\n",
      "Layer (type)                 Output Shape              Param #   \n",
      "=================================================================\n",
      "input_1 (InputLayer)         [(None, 96, 96, 3)]       0         \n",
      "_________________________________________________________________\n",
      "block1_conv1 (Conv2D)        (None, 96, 96, 64)        1792      \n",
      "_________________________________________________________________\n",
      "block1_conv2 (Conv2D)        (None, 96, 96, 64)        36928     \n",
      "_________________________________________________________________\n",
      "block1_pool (MaxPooling2D)   (None, 48, 48, 64)        0         \n",
      "_________________________________________________________________\n",
      "block2_conv1 (Conv2D)        (None, 48, 48, 128)       73856     \n",
      "_________________________________________________________________\n",
      "block2_conv2 (Conv2D)        (None, 48, 48, 128)       147584    \n",
      "_________________________________________________________________\n",
      "block2_pool (MaxPooling2D)   (None, 24, 24, 128)       0         \n",
      "_________________________________________________________________\n",
      "block3_conv1 (Conv2D)        (None, 24, 24, 256)       295168    \n",
      "_________________________________________________________________\n",
      "block3_conv2 (Conv2D)        (None, 24, 24, 256)       590080    \n",
      "_________________________________________________________________\n",
      "block3_conv3 (Conv2D)        (None, 24, 24, 256)       590080    \n",
      "_________________________________________________________________\n",
      "block3_pool (MaxPooling2D)   (None, 12, 12, 256)       0         \n",
      "_________________________________________________________________\n",
      "block4_conv1 (Conv2D)        (None, 12, 12, 512)       1180160   \n",
      "_________________________________________________________________\n",
      "block4_conv2 (Conv2D)        (None, 12, 12, 512)       2359808   \n",
      "_________________________________________________________________\n",
      "block4_conv3 (Conv2D)        (None, 12, 12, 512)       2359808   \n",
      "_________________________________________________________________\n",
      "block4_pool (MaxPooling2D)   (None, 6, 6, 512)         0         \n",
      "_________________________________________________________________\n",
      "block5_conv1 (Conv2D)        (None, 6, 6, 512)         2359808   \n",
      "_________________________________________________________________\n",
      "block5_conv2 (Conv2D)        (None, 6, 6, 512)         2359808   \n",
      "_________________________________________________________________\n",
      "block5_conv3 (Conv2D)        (None, 6, 6, 512)         2359808   \n",
      "_________________________________________________________________\n",
      "block5_pool (MaxPooling2D)   (None, 3, 3, 512)         0         \n",
      "=================================================================\n",
      "Total params: 14,714,688\n",
      "Trainable params: 0\n",
      "Non-trainable params: 14,714,688\n",
      "_________________________________________________________________\n"
     ]
    }
   ],
   "source": [
    "pretrained_model.summary()"
   ]
  },
  {
   "cell_type": "markdown",
   "metadata": {
    "id": "rTK0rPJAbKlF"
   },
   "source": [
    "Ορίζουμε ξανά το μοντέλο με χρήση του early stopping:"
   ]
  },
  {
   "cell_type": "code",
   "execution_count": null,
   "metadata": {
    "id": "aDq_blD2JVsO"
   },
   "outputs": [],
   "source": [
    "tf.keras.callbacks.EarlyStopping(\n",
    "    monitor=\"val_loss\",\n",
    "    min_delta=0,\n",
    "    patience=0,\n",
    "    verbose=0,\n",
    "    mode=\"auto\",\n",
    "    baseline=None,\n",
    "    restore_best_weights=False,\n",
    ")\n",
    "\n",
    "callback = tf.keras.callbacks.EarlyStopping(monitor='loss', patience=3)"
   ]
  },
  {
   "cell_type": "code",
   "execution_count": null,
   "metadata": {
    "id": "gBSxfvEZJcn8"
   },
   "outputs": [],
   "source": [
    "model_mycnn_4_new = models.Sequential()\n",
    "model_mycnn_4_new.add(pretrained_model)\n",
    "model_mycnn_4_new.add(layers.Flatten())\n",
    "model_mycnn_4_new.add(layers.Dense(2000, activation='relu'))\n",
    "model_mycnn_4_new.add(layers.Dense(1000, activation='relu'))\n",
    "model_mycnn_4_new.add(layers.Dense(20))"
   ]
  },
  {
   "cell_type": "code",
   "execution_count": null,
   "metadata": {
    "id": "nCDjMWryIsve"
   },
   "outputs": [],
   "source": [
    "model_mycnn_4_new.compile(optimizer='adam',\n",
    "             loss=tf.keras.losses.SparseCategoricalCrossentropy(from_logits=True),\n",
    "              metrics=['accuracy'])"
   ]
  },
  {
   "cell_type": "code",
   "execution_count": null,
   "metadata": {
    "colab": {
     "base_uri": "https://localhost:8080/"
    },
    "id": "vgx2U_dmbcXf",
    "outputId": "527423ff-bc43-4961-d7aa-a30408b99f88"
   },
   "outputs": [
    {
     "name": "stdout",
     "output_type": "stream",
     "text": [
      "Model: \"sequential\"\n",
      "_________________________________________________________________\n",
      "Layer (type)                 Output Shape              Param #   \n",
      "=================================================================\n",
      "vgg16 (Functional)           (None, 3, 3, 512)         14714688  \n",
      "_________________________________________________________________\n",
      "flatten (Flatten)            (None, 4608)              0         \n",
      "_________________________________________________________________\n",
      "dense (Dense)                (None, 2000)              9218000   \n",
      "_________________________________________________________________\n",
      "dense_1 (Dense)              (None, 1000)              2001000   \n",
      "_________________________________________________________________\n",
      "dense_2 (Dense)              (None, 20)                20020     \n",
      "=================================================================\n",
      "Total params: 25,953,708\n",
      "Trainable params: 11,239,020\n",
      "Non-trainable params: 14,714,688\n",
      "_________________________________________________________________\n"
     ]
    }
   ],
   "source": [
    "model_mycnn_4_new.summary()"
   ]
  },
  {
   "cell_type": "code",
   "execution_count": null,
   "metadata": {
    "colab": {
     "base_uri": "https://localhost:8080/"
    },
    "id": "NBsqPJViIzzZ",
    "outputId": "8652564c-3b52-4069-b725-0733f4fec6c7"
   },
   "outputs": [
    {
     "name": "stdout",
     "output_type": "stream",
     "text": [
      "Epoch 1/50\n",
      "67/67 [==============================] - 43s 366ms/step - loss: 2.0063 - accuracy: 0.4288 - val_loss: 1.4076 - val_accuracy: 0.5653\n",
      "Epoch 2/50\n",
      "67/67 [==============================] - 15s 229ms/step - loss: 1.1493 - accuracy: 0.6438 - val_loss: 1.2940 - val_accuracy: 0.5947\n",
      "Epoch 3/50\n",
      "67/67 [==============================] - 15s 228ms/step - loss: 0.8976 - accuracy: 0.7155 - val_loss: 1.2541 - val_accuracy: 0.6153\n",
      "Epoch 4/50\n",
      "67/67 [==============================] - 15s 228ms/step - loss: 0.7486 - accuracy: 0.7592 - val_loss: 1.1769 - val_accuracy: 0.6500\n",
      "Epoch 5/50\n",
      "67/67 [==============================] - 15s 228ms/step - loss: 0.5585 - accuracy: 0.8225 - val_loss: 1.2209 - val_accuracy: 0.6567\n",
      "Epoch 6/50\n",
      "67/67 [==============================] - 15s 227ms/step - loss: 0.4336 - accuracy: 0.8648 - val_loss: 1.2244 - val_accuracy: 0.6593\n",
      "Epoch 7/50\n",
      "67/67 [==============================] - 15s 228ms/step - loss: 0.3534 - accuracy: 0.8879 - val_loss: 1.3281 - val_accuracy: 0.6460\n",
      "Epoch 8/50\n",
      "67/67 [==============================] - 15s 228ms/step - loss: 0.2776 - accuracy: 0.9101 - val_loss: 1.2954 - val_accuracy: 0.6680\n",
      "Epoch 9/50\n",
      "67/67 [==============================] - 15s 228ms/step - loss: 0.2222 - accuracy: 0.9341 - val_loss: 1.4310 - val_accuracy: 0.6607\n",
      "Epoch 10/50\n",
      "67/67 [==============================] - 15s 227ms/step - loss: 0.1596 - accuracy: 0.9519 - val_loss: 1.5997 - val_accuracy: 0.6313\n",
      "Epoch 11/50\n",
      "67/67 [==============================] - 15s 227ms/step - loss: 0.1577 - accuracy: 0.9525 - val_loss: 1.6633 - val_accuracy: 0.6420\n",
      "Epoch 12/50\n",
      "67/67 [==============================] - 15s 228ms/step - loss: 0.0917 - accuracy: 0.9747 - val_loss: 1.5951 - val_accuracy: 0.6560\n",
      "Epoch 13/50\n",
      "67/67 [==============================] - 15s 227ms/step - loss: 0.0928 - accuracy: 0.9704 - val_loss: 1.7126 - val_accuracy: 0.6493\n",
      "Epoch 14/50\n",
      "67/67 [==============================] - 15s 228ms/step - loss: 0.0855 - accuracy: 0.9764 - val_loss: 1.7941 - val_accuracy: 0.6527\n",
      "Epoch 15/50\n",
      "67/67 [==============================] - 15s 228ms/step - loss: 0.0647 - accuracy: 0.9812 - val_loss: 2.0475 - val_accuracy: 0.6347\n",
      "Epoch 16/50\n",
      "67/67 [==============================] - 15s 227ms/step - loss: 0.0534 - accuracy: 0.9864 - val_loss: 2.0175 - val_accuracy: 0.6400\n",
      "Epoch 17/50\n",
      "67/67 [==============================] - 15s 228ms/step - loss: 0.0706 - accuracy: 0.9784 - val_loss: 2.0448 - val_accuracy: 0.6427\n",
      "Epoch 18/50\n",
      "67/67 [==============================] - 15s 227ms/step - loss: 0.0311 - accuracy: 0.9931 - val_loss: 1.9650 - val_accuracy: 0.6627\n",
      "Epoch 19/50\n",
      "67/67 [==============================] - 15s 227ms/step - loss: 0.0542 - accuracy: 0.9844 - val_loss: 2.1514 - val_accuracy: 0.6513\n",
      "Epoch 20/50\n",
      "67/67 [==============================] - 15s 227ms/step - loss: 0.0272 - accuracy: 0.9936 - val_loss: 2.2595 - val_accuracy: 0.6520\n",
      "Epoch 21/50\n",
      "67/67 [==============================] - 15s 227ms/step - loss: 0.0482 - accuracy: 0.9861 - val_loss: 2.2001 - val_accuracy: 0.6447\n",
      "Epoch 22/50\n",
      "67/67 [==============================] - 15s 227ms/step - loss: 0.0783 - accuracy: 0.9725 - val_loss: 2.5448 - val_accuracy: 0.6093\n",
      "Epoch 23/50\n",
      "67/67 [==============================] - 15s 227ms/step - loss: 0.1268 - accuracy: 0.9586 - val_loss: 2.0013 - val_accuracy: 0.6480\n"
     ]
    }
   ],
   "source": [
    "history_mycnn_4_new = model_mycnn_4_new.fit(a,y_train, epochs=50, batch_size=128,callbacks=[callback],validation_data=(b, y_val))"
   ]
  },
  {
   "cell_type": "code",
   "execution_count": null,
   "metadata": {
    "colab": {
     "base_uri": "https://localhost:8080/"
    },
    "id": "gB_Z2rVuI6i7",
    "outputId": "1ec9bdf3-ec01-489a-ffcc-8205af180045"
   },
   "outputs": [
    {
     "name": "stdout",
     "output_type": "stream",
     "text": [
      "63/63 - 7s - loss: 1.9721 - accuracy: 0.6550\n"
     ]
    }
   ],
   "source": [
    "test_loss, test_acc = model_mycnn_4_new.evaluate(x_test_new,  y_test, verbose=2)"
   ]
  },
  {
   "cell_type": "code",
   "execution_count": null,
   "metadata": {
    "colab": {
     "base_uri": "https://localhost:8080/",
     "height": 311
    },
    "id": "t5s4VbFJclXV",
    "outputId": "86848196-cb2c-4ded-eeed-c587f3b1907a"
   },
   "outputs": [
    {
     "data": {
      "text/plain": [
       "Text(0.5, 1.0, 'MyCNN with transfer learning')"
      ]
     },
     "execution_count": 25,
     "metadata": {
      "tags": []
     },
     "output_type": "execute_result"
    },
    {
     "data": {
      "image/png": "[encoded data removed]",
      "text/plain": [
       "<Figure size 432x288 with 1 Axes>"
      ]
     },
     "metadata": {
      "needs_background": "light",
      "tags": []
     },
     "output_type": "display_data"
    }
   ],
   "source": [
    "plt.plot(history_mycnn_4_new.history['accuracy'], label='accuracy')\n",
    "plt.plot(history_mycnn_4_new.history['val_accuracy'], label = 'val_accuracy')\n",
    "plt.xlabel('Epoch')\n",
    "plt.ylabel('Accuracy')\n",
    "plt.ylim([0, 1])\n",
    "plt.legend(loc='lower right')\n",
    "plt.title(\"MyCNN with transfer learning\",size=10)"
   ]
  },
  {
   "cell_type": "markdown",
   "metadata": {
    "id": "HJdK0oyRcrdo"
   },
   "source": [
    "Παρατηρούμε λοιπόν ότι έχουμε μεγάλη αύξηση της ακρίβειας τόσο για το validation όσο και για το test set."
   ]
  },
  {
   "cell_type": "markdown",
   "metadata": {
    "id": "1vs19l7S27h2"
   },
   "source": [
    "**Σημείωση:**\n",
    "\n",
    "Στο παραπάνω πείραμα καθώς και στο επόμενο ((2)) προσθέσαμε στο pretrained model μερικά μόνο από τα τελευταία layers (τα FC) του νευρωνικού μας. Το πλήθος των layers που προσθέσαμε καθορίστηκε τόσο από τις επιτρεπτές διαστάσεις των πυρήνων όσο και μέσω πειραματισμών, προκειμένου να επιτευχθούν ικανοποιητικές επιδόσεις.\n"
   ]
  },
  {
   "cell_type": "markdown",
   "metadata": {
    "id": "z-N7K7xtMk7f"
   },
   "source": [
    "### **2.Εκπαίδευση μόνο ενός ποσοστού των επιπέδων το οποίο βρίσκεται προς την έξοδο του δικτύου**"
   ]
  },
  {
   "cell_type": "code",
   "execution_count": null,
   "metadata": {
    "id": "PlVnQ0mOKwzO"
   },
   "outputs": [],
   "source": [
    "pretrained_model = tf.keras.applications.VGG16(input_shape=(96,96,3), include_top=False)"
   ]
  },
  {
   "cell_type": "markdown",
   "metadata": {
    "id": "x_gdRc1DLEaV"
   },
   "source": [
    "Αρχικά ψάχνουμε να δούμε πόσα επίπεδα έχουμε στο νευρωνικό δίκτυο ώστε στην συνέχεια να εκπαιδεύσουμε μόνο ένα ποσοστό αυτών."
   ]
  },
  {
   "cell_type": "code",
   "execution_count": null,
   "metadata": {
    "colab": {
     "base_uri": "https://localhost:8080/"
    },
    "id": "tE2G7bVTK0NA",
    "outputId": "548ea9b8-9e32-484b-c55e-c3f0bdc35cdc"
   },
   "outputs": [
    {
     "name": "stdout",
     "output_type": "stream",
     "text": [
      "The number of layers is :  19\n"
     ]
    }
   ],
   "source": [
    "print(\"The number of layers is : \",len(pretrained_model.layers[:]))"
   ]
  },
  {
   "cell_type": "markdown",
   "metadata": {
    "id": "3kyy1_OoLC34"
   },
   "source": [
    "Εφόσον λοιπόν έχουμε 19 layers τότε επιλέγουμε να εκπαιδεύσουμε μόνο τα τελευταία 8. Γι'αυτό τον λόγο ορίζουμε αντίστοιχα τις σημαίες trainable ανά επίπεδο."
   ]
  },
  {
   "cell_type": "code",
   "execution_count": null,
   "metadata": {
    "id": "ynb-IVyRS_D8"
   },
   "outputs": [],
   "source": [
    "pretrained_model.trainable = True\n",
    "i = 0\n",
    "for layer in pretrained_model.layers[:]:\n",
    "  if (i >= 8):\n",
    "    layer.trainable = True\n",
    "  else:\n",
    "    layer.trainable = False\n",
    "  i = i + 1"
   ]
  },
  {
   "cell_type": "code",
   "execution_count": null,
   "metadata": {
    "id": "YcC3ZK7ge7HQ"
   },
   "outputs": [],
   "source": [
    "tf.keras.callbacks.EarlyStopping(\n",
    "    monitor=\"val_loss\",\n",
    "    min_delta=0,\n",
    "    patience=0,\n",
    "    verbose=0,\n",
    "    mode=\"auto\",\n",
    "    baseline=None,\n",
    "    restore_best_weights=False,\n",
    ")\n",
    "\n",
    "callback = tf.keras.callbacks.EarlyStopping(monitor='loss', patience=3)"
   ]
  },
  {
   "cell_type": "code",
   "execution_count": null,
   "metadata": {
    "id": "EtP5PxT3ToiQ"
   },
   "outputs": [],
   "source": [
    "model_mycnn_4_transfer = models.Sequential()\n",
    "model_mycnn_4_transfer.add(pretrained_model)\n",
    "model_mycnn_4_transfer.add(layers.Flatten())\n",
    "model_mycnn_4_transfer.add(layers.Dense(2000, activation='relu'))"
   ]
  },
  {
   "cell_type": "code",
   "execution_count": null,
   "metadata": {
    "id": "sVZDtUWVTsd6"
   },
   "outputs": [],
   "source": [
    "model_mycnn_4_transfer.compile(optimizer='adam',\n",
    "             loss=tf.keras.losses.SparseCategoricalCrossentropy(from_logits=True),\n",
    "              metrics=['accuracy'])"
   ]
  },
  {
   "cell_type": "code",
   "execution_count": null,
   "metadata": {
    "colab": {
     "base_uri": "https://localhost:8080/"
    },
    "id": "Ndf67_CnTuwn",
    "outputId": "3c95e101-e0db-42cd-e20a-d780157cc568"
   },
   "outputs": [
    {
     "name": "stdout",
     "output_type": "stream",
     "text": [
      "Epoch 1/50\n",
      "67/67 [==============================] - 31s 404ms/step - loss: 4.6579 - accuracy: 0.0632 - val_loss: 3.5717 - val_accuracy: 0.1120\n",
      "Epoch 2/50\n",
      "67/67 [==============================] - 26s 388ms/step - loss: 3.3423 - accuracy: 0.1658 - val_loss: 3.1876 - val_accuracy: 0.2333\n",
      "Epoch 3/50\n",
      "67/67 [==============================] - 26s 388ms/step - loss: 3.0146 - accuracy: 0.2625 - val_loss: 2.8685 - val_accuracy: 0.3180\n",
      "Epoch 4/50\n",
      "67/67 [==============================] - 26s 388ms/step - loss: 2.7789 - accuracy: 0.3366 - val_loss: 2.8160 - val_accuracy: 0.3187\n",
      "Epoch 5/50\n",
      "67/67 [==============================] - 26s 389ms/step - loss: 2.6377 - accuracy: 0.3771 - val_loss: 2.6585 - val_accuracy: 0.3960\n",
      "Epoch 6/50\n",
      "67/67 [==============================] - 26s 389ms/step - loss: 2.4854 - accuracy: 0.4211 - val_loss: 2.7202 - val_accuracy: 0.3667\n",
      "Epoch 7/50\n",
      "67/67 [==============================] - 26s 389ms/step - loss: 2.3459 - accuracy: 0.4620 - val_loss: 2.4873 - val_accuracy: 0.4433\n",
      "Epoch 8/50\n",
      "67/67 [==============================] - 26s 389ms/step - loss: 2.2028 - accuracy: 0.5013 - val_loss: 2.6025 - val_accuracy: 0.4113\n",
      "Epoch 9/50\n",
      "67/67 [==============================] - 26s 389ms/step - loss: 2.0995 - accuracy: 0.5302 - val_loss: 2.2651 - val_accuracy: 0.4967\n",
      "Epoch 10/50\n",
      "67/67 [==============================] - 26s 389ms/step - loss: 1.9233 - accuracy: 0.5811 - val_loss: 2.2863 - val_accuracy: 0.4887\n",
      "Epoch 11/50\n",
      "67/67 [==============================] - 26s 388ms/step - loss: 1.7629 - accuracy: 0.6218 - val_loss: 2.3625 - val_accuracy: 0.5080\n",
      "Epoch 12/50\n",
      "67/67 [==============================] - 26s 389ms/step - loss: 1.6076 - accuracy: 0.6691 - val_loss: 2.4847 - val_accuracy: 0.4947\n",
      "Epoch 13/50\n",
      "67/67 [==============================] - 26s 389ms/step - loss: 1.4530 - accuracy: 0.7098 - val_loss: 2.5811 - val_accuracy: 0.4933\n",
      "Epoch 14/50\n",
      "67/67 [==============================] - 26s 389ms/step - loss: 1.3572 - accuracy: 0.7439 - val_loss: 2.6371 - val_accuracy: 0.4980\n",
      "Epoch 15/50\n",
      "67/67 [==============================] - 26s 389ms/step - loss: 1.2036 - accuracy: 0.7876 - val_loss: 3.2051 - val_accuracy: 0.4633\n",
      "Epoch 16/50\n",
      "67/67 [==============================] - 26s 388ms/step - loss: 1.1037 - accuracy: 0.8113 - val_loss: 3.2517 - val_accuracy: 0.4707\n",
      "Epoch 17/50\n",
      "67/67 [==============================] - 26s 389ms/step - loss: 1.0891 - accuracy: 0.8171 - val_loss: 3.0229 - val_accuracy: 0.4800\n",
      "Epoch 18/50\n",
      "67/67 [==============================] - 26s 388ms/step - loss: 0.9976 - accuracy: 0.8401 - val_loss: 3.3559 - val_accuracy: 0.4840\n",
      "Epoch 19/50\n",
      "67/67 [==============================] - 26s 389ms/step - loss: 0.9983 - accuracy: 0.8395 - val_loss: 3.6045 - val_accuracy: 0.4787\n",
      "Epoch 20/50\n",
      "67/67 [==============================] - 26s 388ms/step - loss: 0.9544 - accuracy: 0.8513 - val_loss: 3.3496 - val_accuracy: 0.4860\n",
      "Epoch 21/50\n",
      "67/67 [==============================] - 26s 389ms/step - loss: 0.9299 - accuracy: 0.8578 - val_loss: 3.6891 - val_accuracy: 0.4747\n",
      "Epoch 22/50\n",
      "67/67 [==============================] - 26s 388ms/step - loss: 0.9402 - accuracy: 0.8551 - val_loss: 3.6495 - val_accuracy: 0.4780\n",
      "Epoch 23/50\n",
      "67/67 [==============================] - 26s 388ms/step - loss: 0.9523 - accuracy: 0.8512 - val_loss: 3.8639 - val_accuracy: 0.4773\n",
      "Epoch 24/50\n",
      "67/67 [==============================] - 26s 388ms/step - loss: 0.9103 - accuracy: 0.8631 - val_loss: 3.6666 - val_accuracy: 0.4880\n",
      "Epoch 25/50\n",
      "67/67 [==============================] - 26s 389ms/step - loss: 0.8759 - accuracy: 0.8701 - val_loss: 4.0513 - val_accuracy: 0.4840\n",
      "Epoch 26/50\n",
      "67/67 [==============================] - 26s 389ms/step - loss: 0.8987 - accuracy: 0.8659 - val_loss: 3.7777 - val_accuracy: 0.4927\n",
      "Epoch 27/50\n",
      "67/67 [==============================] - 26s 388ms/step - loss: 0.8691 - accuracy: 0.8754 - val_loss: 4.1051 - val_accuracy: 0.4767\n",
      "Epoch 28/50\n",
      "67/67 [==============================] - 26s 388ms/step - loss: 0.8502 - accuracy: 0.8767 - val_loss: 3.8995 - val_accuracy: 0.4680\n",
      "Epoch 29/50\n",
      "67/67 [==============================] - 26s 389ms/step - loss: 0.9274 - accuracy: 0.8601 - val_loss: 3.8236 - val_accuracy: 0.4933\n",
      "Epoch 30/50\n",
      "67/67 [==============================] - 26s 388ms/step - loss: 0.8519 - accuracy: 0.8773 - val_loss: 4.4002 - val_accuracy: 0.4760\n",
      "Epoch 31/50\n",
      "67/67 [==============================] - 26s 388ms/step - loss: 0.8587 - accuracy: 0.8756 - val_loss: 4.1852 - val_accuracy: 0.4680\n"
     ]
    }
   ],
   "source": [
    "history_mycnn_4_transfer = model_mycnn_4_transfer.fit(a,y_train, epochs=50, batch_size=128,callbacks=[callback],validation_data=(b, y_val))"
   ]
  },
  {
   "cell_type": "markdown",
   "metadata": {
    "id": "QGpqz5_JMuYR"
   },
   "source": [
    "### **3.Αξιολόγηση των αποτελεσμάτων**"
   ]
  },
  {
   "cell_type": "code",
   "execution_count": null,
   "metadata": {
    "colab": {
     "base_uri": "https://localhost:8080/",
     "height": 311
    },
    "id": "Lb2C9dXhU29O",
    "outputId": "511aebf3-35e0-45ac-82f7-884175a90baa"
   },
   "outputs": [
    {
     "data": {
      "text/plain": [
       "Text(0.5, 1.0, 'MyCNN with transfer learning')"
      ]
     },
     "execution_count": 34,
     "metadata": {
      "tags": []
     },
     "output_type": "execute_result"
    },
    {
     "data": {
      "image/png": "[encoded data removed]",
      "text/plain": [
       "<Figure size 432x288 with 1 Axes>"
      ]
     },
     "metadata": {
      "needs_background": "light",
      "tags": []
     },
     "output_type": "display_data"
    }
   ],
   "source": [
    "plt.plot(history_mycnn_4_transfer.history['accuracy'], label='accuracy')\n",
    "plt.plot(history_mycnn_4_transfer.history['val_accuracy'], label = 'val_accuracy')\n",
    "plt.xlabel('Epoch')\n",
    "plt.ylabel('Accuracy')\n",
    "plt.ylim([0, 1])\n",
    "plt.legend(loc='lower right')\n",
    "plt.title(\"MyCNN with transfer learning\",size=10)"
   ]
  },
  {
   "cell_type": "code",
   "execution_count": null,
   "metadata": {
    "colab": {
     "base_uri": "https://localhost:8080/",
     "height": 266
    },
    "id": "hxTn9fD6uian",
    "outputId": "acfbeb8d-c90f-426c-d3c1-1d8000e0df87"
   },
   "outputs": [
    {
     "data": {
      "image/png": "[encoded data removed]",
      "text/plain": [
       "<Figure size 1440x216 with 2 Axes>"
      ]
     },
     "metadata": {
      "needs_background": "light",
      "tags": []
     },
     "output_type": "display_data"
    }
   ],
   "source": [
    "plt.figure(figsize=(20, 3))\n",
    "plt.subplot(1, 2, 1)\n",
    "plt.plot(history_mycnn_4.history['accuracy'], label='accuracy')\n",
    "plt.plot(history_mycnn_4.history['val_accuracy'], label = 'val_accuracy')\n",
    "plt.xlabel('Epoch')\n",
    "plt.ylabel('Accuracy')\n",
    "plt.ylim([0, 1])\n",
    "plt.legend(loc='lower right')\n",
    "plt.title(\"MyCNN with early stopping\",size=10)\n",
    "\n",
    "plt.subplot(1, 2, 2)\n",
    "plt.plot(history_mycnn_4_transfer.history['accuracy'], label='accuracy')\n",
    "plt.plot(history_mycnn_4_transfer.history['val_accuracy'], label = 'val_accuracy')\n",
    "plt.xlabel('Epoch')\n",
    "plt.ylabel('Accuracy')\n",
    "plt.ylim([0, 1])\n",
    "plt.legend(loc='lower right')\n",
    "plt.title(\"MyCNN with early stopping and transfer learning\",size=10)\n",
    "\n",
    "plt.subplots_adjust(left=0, bottom=0, right=None, top= None, wspace=0.2, hspace=0.5)"
   ]
  },
  {
   "cell_type": "code",
   "execution_count": null,
   "metadata": {
    "colab": {
     "base_uri": "https://localhost:8080/"
    },
    "id": "yWb7jgCnTyUw",
    "outputId": "f0dcace2-cb16-434a-99ca-cc94229afcce"
   },
   "outputs": [
    {
     "name": "stdout",
     "output_type": "stream",
     "text": [
      "63/63 - 2s - loss: 3.3547 - accuracy: 0.5620\n"
     ]
    }
   ],
   "source": [
    "test_loss, test_acc = model_mycnn_4.evaluate(x_test_new,  y_test, verbose=2)\n",
    "test_loss, test_acc = model_mycnn_4_transfer.evaluate(x_test_new,  y_test, verbose=2)"
   ]
  },
  {
   "cell_type": "markdown",
   "metadata": {
    "id": "zeYbZPjRT92f"
   },
   "source": [
    "Παρατηρούμε ότι με την χρήση της μεθόδου transfer learning έχουμε σημαντική αύξηση της ακρίβειας κυρίως στο test_set, κάτι το οποίο ήταν αναμενόμενο μιας και με την χρήση του early stopping αποφύγαμε την υπερεκπαίδευση (όπου με αυτή την μέθοδο αυξάνεται ήδη η ακρίβεια) και επομένως με την χρήση του transfer learning, το οποίο μας προσφέρει ένα ήδη εκπαιδευμένο με χρήση σημαντικών πόρων νευρωνικό η ακρίβεια αυξήθηκε ακόμη περισσότερο. Όσον αφορά το validation accuracy δεν παρατηρούμε ωστόσο σημαντικές διαφορές."
   ]
  },
  {
   "cell_type": "markdown",
   "metadata": {
    "id": "M_T6Y9EJDuOu"
   },
   "source": [
    "## Διαχείριση μνήμης (TFRecord)\n",
    "Η φόρτωση δεδομένων με τον τρόπο που το κάναμε παραπάνω στο απλό παράδειγμα υλοποίησης είναι πολύ βολική αλλά δεν είναι αποτελεσματική ως προς τη διαχείριση της μνήμης. Συγκεκριμένα, με τον τρόπο αυτό, τα δεδομένα αποθηκεύονται απευθείας σε μεταβλητές, οι οποίες όλες μαζί καταλαμβάνουν τη RAM της CPU ή της GPU, κάτι που κάνει αδύνατη τη διαχείριση μεγάλων datasets ή τον μεταχηματισμό των δεδομένων όπως όταν κάνουμε αύξηση δεδομένων (data augmentation).\n",
    "\n",
    "Για να παρακαμφθεί αυτό το πρόβλημα, υπάρχει η δυνατότητα της σειριοποίησης των δεδομένων (serialization) και της αποθήκευσής τους σε αρχεία μεσαίου μεγέθους (κάποιων MB) τα οποία μπορούν να αναγνωστούν γραμμικά.\n",
    "\n",
    "Το φορμάτ TFRecord είναι ένα φορμάτ που επιτρέπει την αποθήκευση σειράς δυαδικών εγγραφών. Διαβάστε σχετικά για το [TFRecord and tf.Example](https://www.tensorflow.org/tutorials/load_data/tfrecord) και [tf.data: Build TensorFlow input pipelines](https://www.tensorflow.org/guide/data). \n",
    "\n",
    "Σημειώστε ότι με τη μέθοδο αυτή θα πρέπει να γίνει import η `tensorflow_datasets` και να χρησιμοποιήσουμε την `tfds.load` ώστε να αποθηκευθεί το σύνολο δεδομένων σε αρχεία tfrecord στο δίσκο (δείτε [εδώ](https://colab.research.google.com/github/tensorflow/datasets/blob/master/docs/overview.ipynb) ένα παράδειγμα). Φυσικά μπορούμε να μετατρέψουμε και τα πρωτογενή δεδομένα (raw data) του dataset όπως αρχεία jpg σε φορματ tfrecord όπως [εδώ](https://towardsdatascience.com/working-with-tfrecords-and-tf-train-example-36d111b3ff4d).\n"
   ]
  }
 ],
 "metadata": {
  "accelerator": "GPU",
  "colab": {
   "collapsed_sections": [
    "raL8jKJBySxB",
    "JRDFtnKM3GZr",
    "1Ief09Qg5YVT",
    "daakTSEjAgQp",
    "0BHswcWrTMuU",
    "4cZ4-_LF9Fc-",
    "-8hvn7ez0dgL",
    "UopMkALEBzEy",
    "CTM7E9hqDFWY",
    "Y_6nNCMFJLWP",
    "OPCX27cJJSqt",
    "xOxJoIT-N38w",
    "nOdkCDyQW7Mb",
    "R5dgxIWshFxS",
    "ypQ8q8B6ha6j",
    "-ExDDiV_hrqT",
    "lkFKFWHCdBW0",
    "ZzRxrUmKff4j",
    "pKD-zBOrUQua",
    "SNc0xalkdWGa",
    "MfvjEOs7mUkf",
    "tmYhNXYaIIuA",
    "CYnZnz15rixs",
    "-XgQ-NMC-32J",
    "_Mb400m9AS4H",
    "fGNyT_99AWde",
    "M52IveuY1Q45",
    "LZUq4QKN1nme",
    "gIk40ztv4acp",
    "MuhanMo26ay8",
    "md0LNGekHJby",
    "gHNX8YD2MBbf",
    "E5R0bopuMXG4",
    "z-N7K7xtMk7f",
    "QGpqz5_JMuYR",
    "M_T6Y9EJDuOu"
   ],
   "name": "Αντίγραφο 3η_Ομαδική_Άσκηση.ipynb",
   "provenance": []
  },
  "kernelspec": {
   "display_name": "Python 3",
   "language": "python",
   "name": "python3"
  },
  "language_info": {
   "codemirror_mode": {
    "name": "ipython",
    "version": 3
   },
   "file_extension": ".py",
   "mimetype": "text/x-python",
   "name": "python",
   "nbconvert_exporter": "python",
   "pygments_lexer": "ipython3",
   "version": "3.8.5"
  }
 },
 "nbformat": 4,
 "nbformat_minor": 1
}
